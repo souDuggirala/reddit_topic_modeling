{
 "cells": [
  {
   "cell_type": "code",
   "execution_count": 1,
   "metadata": {},
   "outputs": [],
   "source": [
    "import pandas as pd\n",
    "import json\n",
    "import requests\n",
    "import matplotlib.pyplot as plt\n",
    "import nltk"
   ]
  },
  {
   "cell_type": "markdown",
   "metadata": {},
   "source": [
    "retrieved data of comments and submissions and put them into textfiles"
   ]
  },
  {
   "cell_type": "raw",
   "metadata": {},
   "source": [
    "payload = {'subreddit':'legaladvice','fields':['selftext','body'], 'size':'1000'}\n",
    "subr = requests.get('https://api.pushshift.io/reddit/search/submission/', params = payload)\n",
    "comr = requests.get('https://api.pushshift.io/reddit/search/comment/', params = payload)"
   ]
  },
  {
   "cell_type": "raw",
   "metadata": {},
   "source": [
    "data = json.loads(subr.text)\n",
    "data"
   ]
  },
  {
   "cell_type": "code",
   "execution_count": 4,
   "metadata": {},
   "outputs": [],
   "source": [
    "data2 = json.loads(comr.text)"
   ]
  },
  {
   "cell_type": "raw",
   "metadata": {
    "scrolled": true
   },
   "source": [
    "import os\n",
    "dir_name = '/Users/soumyadugg/reddit_topic_modeling/legal_advice_data'\n",
    "for i in range(1000):\n",
    "    print(i)\n",
    "    file = os.path.join(dir_name, 'doc'+ str(i)+'.txt')\n",
    "    f = open(file, 'w')\n",
    "    if (bool(data['data'][i])):\n",
    "        f.write(data['data'][i]['selftext'])\n",
    "    f.close()"
   ]
  },
  {
   "cell_type": "raw",
   "metadata": {},
   "source": [
    "dir_name = '/Users/soumyadugg/reddit_topic_modeling/legal_advice_data'\n",
    "for i in range(1000):\n",
    "    print(i)\n",
    "    file = os.path.join(dir_name, 'cdoc'+ str(i)+'.txt')\n",
    "    f = open(file, 'w')\n",
    "    if (bool(data2['data'][i])):\n",
    "        f.write(data2['data'][i]['body'])\n",
    "    f.close()"
   ]
  },
  {
   "cell_type": "markdown",
   "metadata": {},
   "source": [
    "Week of 6/22/20 - Put comments and submission together in a thread...first attempt failed because making requests in a loop is too much for the computer...makeRequest() solves the problem"
   ]
  },
  {
   "cell_type": "code",
   "execution_count": 6,
   "metadata": {},
   "outputs": [
    {
     "data": {
      "text/plain": [
       "{'data': [{'id': 'i3l6ab',\n",
       "   'num_comments': 0,\n",
       "   'selftext': \"Hi everyone -\\n\\n&amp;#x200B;\\n\\nThis is my first post ever, so I'm hoping I do this correctly.\\n\\n&amp;#x200B;\\n\\nI recently moved out of townhouse. Within the last thirty days, they never contacted us via email or phone number even though they had it on their records. I emailed them 35 days after we moved out and asked for the down deposit back (600  dollars). They responded that sent a closing statement to a previous address on file regarding this and that we OWE them money. This is in the state of Iowa, btw. \\n\\n&amp;#x200B;\\n\\nDo I have any ground since they did not notify me within 30 days and I have no idea where they sent the previous mail to?\\n\\n&amp;#x200B;\\n\\nThanks!\"},\n",
       "  {'id': 'i3l5za',\n",
       "   'num_comments': 2,\n",
       "   'selftext': 'Sorry for any typos/format/rant. Using phone and I\\'m in desperation of help as to what to do.\\n\\nMy workplace is not following any of the rules and guidance against the Coronavirus. They have multiple papers posted around the facility with the following saying:\\n\\n\\n\"As of July 7, 2020 face covering must be worn in all confined indoor places where social distancing cannot be maintained.\\n\\nDoes not apply to children under the age of 9 or anyone who has trouble breathing or otherwise unable to remove the face covering without assistance.\"\\n\\n\\n\\n\"Based on CDC\\'s guidance and the health &amp; safety of everyone during the fight against COVID-19: All (my workplace) employees, visitors, and contractors are required to wear face coverings while in this facility as of July 27, 2020.\"\\n\\n\\n\\nAs of last week we were required to have or temperature taken before our shift started too on top of the normal guidelines, then fill out a survey. If our temperature was too high we are to be sent home. If our temperature is fine we work as normal. However, they haven\\'t been taking our temperature and instead they tell us to just fill out the survey and lie saying we did have our temperature taken, then continue to work.\\n\\nThere are also papers typed out by themselves saying to social distance, no congregating, etc. All the while not a single person has been wearing a mask, nobody social distances, and just this past Saturday an employee\\'s family member just tested positive for Coronavirus. The worker was with us all last week and visits this family member every single day, even though they do not live together. The employee did not come to work today and will not for the rest of this week, but we were all exposed to him the entire last week. \\n\\nI\\'m not sure what to do from here, but my workplace has to be breaking the rules set against the Coronavirus. I feel unsafe and I\\'m afraid. I\\'m not joking when I say I\\'m the only person who wears a mask at my workplace and tries to follow the rules. I\\'m thinking of even filing a lawsuit if possible.'},\n",
       "  {'id': 'i3l3mt', 'num_comments': 0, 'selftext': '[removed]'},\n",
       "  {'id': 'i3l1m8',\n",
       "   'num_comments': 3,\n",
       "   'selftext': 'Mandatory on phone, so I apologize for any formatting issues. I am currently living in the state of Colorado, and we’ve had a guy to come take care of the weeds taking over our lawn however he has requested to be paid in cash. Personally, I don’t like paying contractors in cash because it’s difficult to track those payments especially if they try to come after us and say that we didn’t give them a payment, and I was really surprised to hear a contractor ask for a cash payment, however I was wondering what the legitimacy would be if I recorded myself paying him (on my own private property) or got something along the lines of a signature from him on my invoice to let me know that everything was paid in full. There’s something about this guy that’s just made me very uneasy, and I want to be as prepared as possible.'},\n",
       "  {'id': 'i3l0dx',\n",
       "   'num_comments': 1,\n",
       "   'selftext': \"Key under mat was used, apartment was entered, she was strangled but not killed. Assailant left. She shares a small entrance with her new neighbor in small isolated apartment complex. All other neighbors are older women. Turns out new neighbor has a record of strangling old ladies and was out on parole. Cops won't arrest without positive ID, but there is no other plausible perpetrator. Bed linens are being tested but I'm not confident they will have anything. What other recourse is there except the positive ID from the victim?\"},\n",
       "  {'id': 'i3kxli',\n",
       "   'num_comments': 5,\n",
       "   'selftext': \"Recently I've been working on a few projects that I'd like to market. One of the projects is a board game sorta thing. It has custom pieces, rules, designs, and so on like a normal board game would. I haven't been able to find anything similar and it seems pretty unique. Everyone I've focus-grouped with keeps telling me I need to protect it somehow.\\n\\nIs there a way to protect the components or the idea? If it helps I've already made one prototype and I'm working on a second version (I heard somewhere that if you have a physical product then it's a little safer, not sure if that's true or not, that's why I'm here...)\\n\\nThanks a lot for all your help!\"},\n",
       "  {'id': 'i3kx23',\n",
       "   'num_comments': 0,\n",
       "   'selftext': \"Hi all! Thank you in advance for any help, I really appreciate it.\\n\\nI am a graduate student and rented a room in CT near my school. The lease was for an individual room and covered a full calendar year, August 1, 2019 to August 1, 2020. The house had two other tenants on their own leases for varying dates. I briefly met the landlord once or twice, but only after occupying the property. A family member handled the orignial showing and lease signing.\\n\\nIn May, my landlord texted me to ask if I would be staying for the next year. I said yes, but he did not say anything about resigning or signing a new lease. In July, due to classes being moved online, I decided to move out and find a new apartment. Two weeks in advance, I let my landlord know I would be leaving on August 1, he responded by asking about the other tenant still there. He said nothing about me leaving, but he read my message and responded. He knew what day I would be vacating the property. My lease states nothing about notice requirements.\\n\\nCome August 1, all my stuff is out but he hasn't contacted me or shown up. The lease states the landlord needs to be present for damage assessment. I didn't think to take pictures of my room, which was dumb on my part. But, I have two witnesses. The room was cleared out and vacuumed and cleaned, and the house is currently still occupied by another tenant. I left my keys on the kitchen table and left. \\n\\nHere's what happened after I moved out:\\nI contacted my landlord the next day stating I had officially left the previous day, and asked when I could expect my security deposit refund. He said I broke my promises, and wouldn't give my deposit back. He said 30 days of notice is required, so he wouldn't give my deposit back. My lease specifically states the deposit will be refunded once the tenant vacated the property, there are no restrictions based off of notice of vacant requirements. I haven't been able to find any legal requirements for a vacancy notice unless I wanted to have an early lease termination, so that doesn't apply to me. I sent screenshots of my copy of the lease, and he replied saying that I broke my promises and left him dry. There is already one room in the house to fill and as far as I know he hasn't made any efforts to fill it (I found the post for the housing in an online group for my university). Also, filling the rooms in not my responsibility and it does not say I have to do this anywhere in the lease.\\n\\nI did NOT resign or sign a new lease, or receive an offer for this.\\n\\nI said I would get a lawyer involved and he said not to get ahead of myself, he didn't assess the damages yet. But, the lease states we both needed to be present for this and I have my notice in writing with the date I'd be out and the dates of the messages (all over text). He did not show up on move in day to assess initial damages, either. There is no photo evidence from him or I of the conditions of the house or my room. For move out, I had the help of two people who can attest to the condition of the room and house. I paid him monthly rent through Venmo and have proof of those transactions. I know for a fact two previous tenants skipped out on months of rent, but I paid every month. I feel like he is trying to take advantage of me, I am a young, female, broke college student who has never experienced this before! It feels like he is expecting me to accept this and move on. I won't give up without a fight, though.\\n\\nALSO, he LOST my signed lease! An old roommate told me he had stopped by in the fall asking me to resign a copy because he did not have it, but I signed a lease before I moved in. I have a copy saved for my own reference.\\n\\nI really dont want to let this person take advantage of me. It's so scummy. I did everything to move out in compliance with the lease, but he did not hold up his end of responsibilities. The security deposit is only $600, and that may not be a lot to someone who owns a bunch of high demand college rental properties, but it's a lot to me. \\n\\nI am beyond frustrated. \\n\\nLegally speaking, is there anything I can do? Is this worth going to small claims court over? Is so, how should I go about this?\\n\\nIf I can't take a legal route, can I post in the group warning against renting from this specific person?\"},\n",
       "  {'id': 'i3kvm6',\n",
       "   'num_comments': 1,\n",
       "   'selftext': '\\nQuestion. Well reviewing my lease I noticed the landlord put the start date November 1st 2019 and the end date August 31st 2019.... The end date is 3 months before I signed the lease. Does this make the lease void? Or because the end date is previous  to the sign date it doesn’t matter? \\n\\nI made this post for my first question, small back story to follow(based in Alberta Canada)\\n\\nAnyway I’ve moved out my suite for July 31st. 2020 I was prepared to pay an extra month if the landlord couldn’t find a tenant, a few days after telling her I will be moving early water leaked into the suite. Both walls in each bedroom have been torn out I had to live in the living room for a month. The whole month of June was a complete write off with people coming in and out for repairs and even viewings. Because of the state of the suite no one wanted to rent when this suite could have easily been rented if not for all the repairs. Other leaks were found and mold. She said the mold isn’t a big deal and that cheese has mold and told me to leave the door open to let it air out but I didn’t want to because of my cat but I did anyway because I didn’t want to be responsible for more damages. The day of move out we discovered under one mattress is all mold so it has to be thrown out and the repairs man used my broom to clean mold so that’s garbage. This whole thing is a mess. The landlord agreed to only charge me half of August because of everything going on, but I don’t want to pay. I asked he on text and she said she would get back to be yesterday and haven’t heard anything from her.  I meet with her tomorrow for final walk thru and I’m worried she will still request August rent or play games with my damage deposit. I need some good advice. All answers appreciate and willing to answer any questions thanks!'},\n",
       "  {'id': 'i3kv7k',\n",
       "   'num_comments': 4,\n",
       "   'selftext': 'Hi. The school that I work at as an aid is currently going to be shut down for in person learning at least until October due to COVID-19. We have been informed that our district will be providing “free childcare” for employees with children grades K-8. It will be the teachers and staff’s children. My job as an aid will be altered during this virtual learning and we will be watching and helping teachers and staff’s children with their own virtual learning. We were told that we would be in the gym or cafeteria and we would be responsible for “probably” 3-4 kids each. We won’t be in individual classrooms because teachers will be utilizing these to social distance and virtual teach.  Our school is shut down for in person based on recommendations from the county health department. When asked why it is ok for us to be there, their reply was that teachers would be able to isolate and socially distance in their rooms, we won’t have that luxury. There are at least 15-20 aids at the school as well as an estimate of 25-30 potential kids. Divided into two (rather large) rooms. Kids will be from other districts as well. My question is is this even legal? Can they require us to go even if in person is shut down? I was grateful that they decided to do virtual because of the recent rise in cases in our county but now it looks like my children as well as myself will likely be exposed to others throughout the day. What can I do from a legal standpoint. I rely on this income. Can they force me to participate? Is this even legal, without a license etc, or are they exempt because they are an established public school?Thanks in advance?'},\n",
       "  {'id': 'i3kv4h',\n",
       "   'num_comments': 1,\n",
       "   'selftext': \"So I could make this crazy long, but for everyone's sake I'll try not to get bogged down in minutae. Happy to answer any potential questions though.\\n\\nI live in a house w/ 3 other people. There is no lease or formal agreement with the landlord; just an application we sent to him. But essentially, one of our roommates (let's call her Bully) has been creating a hostile living situation for all of us since CoVid started. Before I moved in, two other people left this house because she terrorized them and made them want to leave. (Of course, I didn't know this at the time.) And now, all three of us feel like she is being abusive in the sense that she manipulates our situation and benefits from our passivity.\\n\\nOver a month ago, we emailed our landlord and told him about the situation. We detailed exactly how she is making our home unlivable, and we told him we feel unsafe here. Of course, between the moratorium on evictions and her technically doing nothing illegal, he did not reply to our email and I believe he cannot legally do anything. \\n\\nSo the other night, we told her we want her out of the house by the end of the month. Of course, she said no, and that we cannot make her leave. And I believe she's right. But I guess I'm just wondering if we have any rights in this situation, or if anyone has advice on how we can get her to leave. \\n\\nMostly posting this because it seems that other people with similar problems seem to be on leases, and I do think that makes a difference.\\n\\n**tl;dr:** my roommates and I told our fourth roommate we want her to leave. we are not on a lease. do we have any right to evict her/what advice do you have to get her to move?\"},\n",
       "  {'id': 'i3kt37',\n",
       "   'num_comments': 3,\n",
       "   'selftext': 'My boyfriend told me there are a ton of stories where people go to jail on an accusation. A big one he talked about was rape accusations, where a guy goes to jail on an accusation claimed by a girl. And I am just kinda curious about this, is there more to the story? He kinda worded it that just an accusation is enough in some legal battles.'},\n",
       "  {'id': 'i3krj2',\n",
       "   'num_comments': 2,\n",
       "   'selftext': 'Apologies if my terminology is incorrect. I’ll let everything out as I understand it: \\n\\nMy sister has been in a custody battle with her ex husband for close to half a year at this point. He wants closer to full custody of the boys (15,13) as opposed to sharing like him and my sister agreed on. When he threatened to take my sister to court to get more time with the boys, she layered up and hired one of the better custody lawyers in my greater area. \\n\\nWhen they got to the day where they went to court, the lawyers went into a room with a mediator and discussed a custody agreement that got my sisters ex about 2 more days per month for the boys. There was no actual trial. After the mediation was over, my sisters lawyer instructed my sister to go home as there wasn’t anything else she needed to do. My sister confirmed several times there was no reason to stick around or nothing to sign. \\n\\nTurns out there were papers to sign that agreed to the deal on both ends and my sister only found out after her ex called asking where she was at. Because of this, the agree meant was never made and my sister’s ex is pushing forward pretty strongly in the custody case. After it was brought up to the lawyer what happened and how it was her fault for telling my sister to go home, the lawyer stated she would only continue services for more money and that it would just be better to take whatever deal my sisters ex throws at them. \\n\\nAt this point, my sister isn’t sure what to do. Can she do anything moving forward? Would she have any legal grounds to ask for another intermediary meeting? And is the lawyer at fault for almost costing my sister the case because she told my sister to go home before the trial is over? \\n\\nAny advice would help'},\n",
       "  {'id': 'i3krj0',\n",
       "   'num_comments': 4,\n",
       "   'selftext': 'I was on a kinda sketchy porn site and while browsing I was told I had searched a banned word and that they had logged my ip address. Should I worry about this?'},\n",
       "  {'id': 'i3kn8m',\n",
       "   'num_comments': 2,\n",
       "   'selftext': 'So, my spouse applied for unemployment back in April due to COVID-19. We had a recommendation from our Pediatrician to do so, since our son would fall into a high risk category. She received payments all the way until mid-June. In the middle of June she noticed that when she filed for the week, the website indicated there was an error on her account. \\n\\nShe called the unemployment office and was told that it was an issue on their end. She called the following week and was told that her workplace had not verified her information. She contacted all relevant people from her previous workplace  who confirmed that they did verify her information in April. The following week she was told that she had not submitted copies of her ID. She submitted them. The following week she called again and was told that the Unemployment Office thought her workplace was fake and marked it as fraud. She called multiple times to the fraud department as well as the unemployment office and was told that it would take time. \\n\\nFinally, now that Federal Assistance has expired she received her state unemployment, but no back pay for the 6 weeks previously filed. This has obviously left our family in quite a bad way money-wise and has caused much mental and emotional distress.\\n\\nIs there anything we can do to get those lost weeks? It seems incredibly suspicious that payments would start back up as soon as federal benefits expired. Any insight would be greatly appreciated.'},\n",
       "  {'id': 'i3kmh6',\n",
       "   'num_comments': 12,\n",
       "   'selftext': 'I’m about to be running up some stairs.  I have no mask and I’m breathing heavy.  I saw someone on the stairs and chose to run up the stairs and was huffing and puffing.  This person pulled their mask down and started mimicking me breathing super heavy into the air and told me that they didn’t want to have me in their vicinity.  I definitely did not avoid them and they had the “right” of way.  \\n\\nIs this legal for them to do?'},\n",
       "  {'id': 'i3km5y',\n",
       "   'num_comments': 5,\n",
       "   'selftext': 'Is there a pet cemetery? Our dog died in March of This year and we buried him in our backyard. Kids visit all the time since it’s close and easier closure. Landlord knows of it and approves, but before dog died he also mention he will be paving most of the backyard and wasn’t sure where to pave. Now he is and it’s near the place our dog is buried. \\nWe want to relocate him to a different and more permanent  burial ground if something like this actually exist. \\n\\nAlso is it too early to dig him out though? It’s been 5 months basically. \\n\\nThat’s for if peiple happens to know. This is the legal question part. \\n\\nSince the landlord agrees and allow us to bury the pet in the backyard of the house that we rent. Don’t we have a say in requesting him to not pave the backyard? Or pave elsewhere? Or am I able to not allow him to do any pavement now? \\nBecause nowhere on the lease say I can or cannot. Actually hardly ever mentions the word pave or cement.'},\n",
       "  {'id': 'i3kk9k',\n",
       "   'num_comments': 2,\n",
       "   'selftext': 'I live in an apartment complex in Multnomah County/Portland.\\n\\nThe lease from May 2014 and every lease increase, inspection notice, &amp; FYI document since then through 2020 has the same name of the company LLC.\\n\\nLLC expired in Dec 2014.\\n\\nThere has never been any individual name as representative included on any document. \\n\\nI have only interacted with the offsite manager once in person, the rest by phone/text/email and the head of her landscaping crew who seems to act as her interim representative as needed.\\n\\n(The landscaping team also renovates the units between turnover. \\n\\nOne member of his team caused massive water damage to the unit upstairs, and some damage to mine below as a result. He was a former tenant of that unit. He looks more like a tweaker than a licensed contractor for plumbing work—he had no tool kit on him at the time.  I suspect that the landscaping team is not licensed for interior work)*\\n\\nThe individual name associated with the LLC company name is no one I’ve ever interacted with/heard of. \\n\\nIf any one can provide links to show the legality/or illegality of signing with an expired LLC I’d love to have them.\\n\\nThank you in advance!\\n\\n*The water damage in a way is a happy accident for the brand new 2020 company(no yelp ratings) that the head of landscaping brought in to monitor/fix the damage. Landscaper &amp; the guy he hired to monitor the damage showed up unannounced, unscheduled by landlord with me, at my door at 630pm the day after the damage occurred.'},\n",
       "  {'id': 'i3kj56',\n",
       "   'num_comments': 9,\n",
       "   'selftext': '     I live in Massachusetts and it has come to light that either my boss or their spouse took screen shots of personal text messages from my phone, printed them and then used those messages to further their own agenda in an upcoming vote that they have great stakes in. I was not told that any of this happened until the spouse let it slip in casual conversation. \\n     Many people have received copies of the messages, so there’s no question of whether it was done, or not. The action created a very uncomfortable work environment and I felt forced to leave.\\n    Do I have any legal recourse? It is my private cell phone, I did not use it for any company related tasks and they did not pay for it in any capacity. \\n\\nA couple common questions that others have asked...\\n\\nI have an iPhone, my previous model was the fingerprint unlock button which was a nightmare. Because of that, my screen lock is set to 5 minutes. It would be fairly east for someone to pick my phone up and look through it if I put it down and walked away.\\n\\nI was not directly reprimanded in any way, but my work environment suddenly became very tense and I had no idea why.\\n\\nI work for a company that has board members. This board has ultimate authority over the business and a new board leader is up for nomination. If this particular member were to take over, my boss would most likely be replaced. The boss is doing EVERYTHING they can to prevent the vote from going through.'},\n",
       "  {'id': 'i3kii1',\n",
       "   'num_comments': 1,\n",
       "   'selftext': 'Hi there I’m current a senior in undergrad in Georgia. My uni has decided to have classes face to face again and has advised students to come wearing mask. A few of my professors are aware of my job and understand I work with COVID patients. I requested to have accommodations so that I do not expose students and professors to COVID. One teacher agreed I could log online to class however the others have said no. They want me to provide them with my job information and talk to my boss to see if I can not work with COVID patients. They are trying to ruin my job. On top of that they are saying I should not take any classes. It’s protocol for us at my job to quarantine and only go to work and home. They expressed I will be dropped from course if I don’t come to class. I have no issue coming to classes but school policy and my job policy wants me to quarantine. I am supposed to graduate in December so this will hold me back. Is there any legal action I can take for my professors denying me to come to class and not accommodating  ?'},\n",
       "  {'id': 'i3kh1w', 'num_comments': 5, 'selftext': ''},\n",
       "  {'id': 'i3kehg',\n",
       "   'num_comments': 1,\n",
       "   'selftext': 'Hello everyone,\\n\\nMy 3 roommates and I rented a home for a 1 year lease. Before we signed the lease we visited the house with the landlord and real estate agent and there was a number of things that we needed to be fixed/cleaned before we moved in. The house was filthy, the yard was filthy, there was loads of junk and just scrap wood in the garage, as well as a number of other things. We signed a stipulation saying that our issues needed to be fixed, however the landlord did not fix any of these issues. \\n\\nThe shower that was shared by 2 of my roommates above us was leaking water through my ceiling, onto my bed and we notified the landlord in August. Because of that, he told us not to use that shower until it was fixed and it wasn’t fixed until JANUARY. 6 months to get a shower fixed. 2 of my roommates would have to walk into my room early in the morning while I slept and shower next to my bed. This interfered with my Sleep and robbed me of a lot of privacy.\\nLandlord promised he would paint the basement (my room) as the last tenants splashed the walls with red and black paint and it was hideous and he dragged his feet so I eventually painted them myself (he purchased the paint) \\nWe completed our lease and he told us we needed to have a professional house cleaning and the yard serviced because it was specified in the lease, these services cost us a few hundred dollars.\\n\\nThis house is in far better shape than it was when we purchased it, even according to the real estate agent who did the move out inspection. The landlord listed issues with the house after the inspection with costs that are frivolous. I am planning to go to the home tomorrow to find evidence that the issues are not true, and to schedule repairs for anything that is actually damaged as he is charging more than what a typical rate would be. \\n\\nThe landlord is honestly the most insulting and difficult person I have ever met. Essentially We are all at our wits end with this guy. He has pushed us around for a year and is now trying to take our deposit. He breached the contract first by not completing essentially any of the move in stipulations that we agreed on, and left us without one of the 3 showers we paid for for 6 months of the lease. I am considering on taking him to small claims court. I am a 2L and I have worked at a few firms as well as the courts but I have never been involved in a pro as lawsuit. Is it worth it? Our deposit is $1800 and I also want to know if we are able to any financial restitution for the unfulfilled stipulations, as well as the undue burden of not having a functioning shower for 50% of the lease. Please advise me, this would be greatly appreciated!'},\n",
       "  {'id': 'i3kdpr',\n",
       "   'num_comments': 2,\n",
       "   'selftext': \"We just unofficially adopted a dog and here's our current situation: two year old dog was in abusive household where male went to jail ( DV incident) and women went to shelter. Neighbor took in their dog and instead of bringing to humane society, she gave her to us. We took her for a check up and to receive her vaccines and we have an appointment next month to get her spayed and microchipped ( i don't believe she already is).\\n\\nHere's the thing. The male has just gotten out of jail and I was stopped by another unidentified person on the street asking where I got the dog. I believe they are looking for her and we have no intention of putting her back in that home. I don't believe the household has the means of bringing us to court but how do we make the dog officially under our ownership? Not sure if it helps but neighbor is on our side and can recount cases of abuse in former household.\\n\\nThanks for the help!\"},\n",
       "  {'id': 'i3kdm8',\n",
       "   'num_comments': 3,\n",
       "   'selftext': \"To clarify, I used to work 30 hours a week before quarantine and then my hours got reduced to 9 hours a week due to COVID back in March. I applied for UI knowing I would qualify due to my part-time and on-call status and have been receiving benefits.\\n\\nHowever, this past week a family member has asked me to help out at their tutoring center 2 hours a week. I am hoping to help, but I am uncertain if this will nullify my UI benefits and if I should decline.\\n\\nDoes anyone here know what would happen if I were to accept? First time posting here so I don't know the etiquette but thanks for reading if you got this far.\"},\n",
       "  {'id': 'i3kbsk',\n",
       "   'num_comments': 6,\n",
       "   'selftext': \"I work for a private company, who has a 401k plan that matches 50% of up to 8% in contributions.  It has always seemed like something strange has been going on, as they were constantly behind on their match, missed contributions, withheld statements, etc. \\nRecently, they switched to a new retirement investment company.  It appeared at first that everything was caught up, and things would be better.  But when I was asking for information on the new company/plan they were evasive.  After some digging, I now find out that with the new plan we have a vestment schedule, and the company is claiming i only own 20% of what has been matched.  I have gone through all of the papers on the old account, and there was no vesting schedule, so i just went from owning 100% of the 50% match to owning 20% of the 50% match, which will gradually work its way up over the next 4 years (i dont plan to be here that long).  Is it legal for them to do this?  I haven't signed any paperwork for the new company but my deposits get shoveled in week after week regardless.  What are my options here?  The company is evasive and even combative when i try to get these things straightened out.\"},\n",
       "  {'id': 'i3kb1n',\n",
       "   'num_comments': 3,\n",
       "   'selftext': \"I live in a new State several hundred of miles away. I have an old warrant from the other State misdemeanor.  \\n\\n The warrant is from Ohio and from I read Ohio can put a hold on a license, but I'm not living there and I'm trying to obtain a license. I never even had a license there.\\n\\nWill this prevent me getting a license in my new State?\\n\\nTo add, I had my license revoked in MO and I hired a lawyer  to obtain driving privlages,but now live in Kansas.\\nAny advice appreciated\"},\n",
       "  {'id': 'i3kawb',\n",
       "   'num_comments': 10,\n",
       "   'selftext': ' Yesterday I (15M) were out in the forest with some friends in a park. It\\'s a secluded place, so there  basically weren\\'t any people around. Now, there was a group consisting of 5-6 boys on the other side of the road. We didn\\'t think much of it. Until they burned some grass and it caught on fire. Naturally they ran away. \\n\\nNow, like the underaged morons that we are, we decided to NOT call the fire department because we were scared that we would get accused. Then some car came by with a couple around 50 years old each. They started putting out the fire. We stood away and watched. After they were done, they drove up to us and started accusing us of starting it. We explained it was the group but they said it was all lies. The woman took a photo of us, got in her car, and started mumbling that we\\'re a bunch of liars. \\n\\nSo now we don\\'t even know what she did or who she is. For whatever reason, she did NOT call the police right there and then. They just drove away. Now, we don\\'t know if they told the police were the fire starters, left it be or something else. Although we are pretty confident that she told the police, because this morning she saw my friend and told him \"Has something happened yet?\" She said no, and left giggling?! Our parents DON\\'T know about this, and we really don\\'t want them to, we just wan\\'t to solve this without getting into trouble. Give some advice. (The country we\\'re from is Lithuania if that helps.)'},\n",
       "  {'id': 'i3kain',\n",
       "   'num_comments': 1,\n",
       "   'selftext': \"I'm an attorney (not your attorney).  An attorney buddy who practices criminal defense and I were discussing one of his client's cases which had recently been resolved on other grounds.  The client's matter was resolved prior to arraignment, so no charges were formally filed.  One of the legal issues he confronted in his case confounded both of us, and I wanted to consult the hive-mind to learn more.  The case occurred in Michigan, although I think federal law would control.\\n\\nThe client in his case was accused of a host of unlawful conduct which is irrelevant to this debate, but the following allegations piqued our interest.  Specifically, he was accused of:\\n\\n\\\\- possessing and obtaining a prescription-only drug (tadalafil, which I think is erectile dysfunction medication Levitra) from an in-person third-party without exchange of consideration (so without paying for it) and without a prescription;\\n\\n\\\\- possessing and obtaining a prescription-only drug (sildenafil, which I believe is Viagra) by purchase, and receiving the package via US mail; and\\n\\n\\\\- possessing and obtaining a prescription-only drug (tadalafil again) by purchase from an overseas seller, and receiving the package via US mail.\\n\\nOur gut was that this didn't violate any section of the Controlled Substances Act - these are legend drugs, but they're not controlled.  That would mean that the FDA would have jurisdiction, if any entity would.  To that end, this was our analysis:\\n\\n\\\\- The third allegation probably outlined illegal conduct because the drugs were unapproved but imported from overseas.  But we couldn't determine whether the illegality came from the importation per se or the transportation via mail.  A review of applicable FDA prohibited acts refers, however, only to the importation of CONTROLLED drugs, which are defined as a scheduled item.  So even though it seems illegal and my gut tells me it HAS to be, we're unable to conclude it is.  Any thoughts?\\n\\n\\\\- The second allegation we were less certain about, but we figured the use of the US mail might make it an issue.  But again, we were unable to find a citation to the provision of US code which would have been violated.  It's definitely illegal for the seller to have sold him the dick pills, but was it unlawful for him to buy?  Seems axiomatic, but if so what violation occurred?\\n\\n\\\\- I'm of the opinion that the first case isn't a violation of law with respect to either the possession or receipt.  But again that's a hunch.\\n\\nI should note Michigan law doesn't appear to independently prohibit any of these actions, although other states (e.g. WI, CT) do have laws specifically prohibiting possession or receipt of legend, non-controlled substances.  It's usually a misdemeanor.\\n\\nInternet research reveals a bunch of conclusory websites talking about how it's bad, but usually when you dig for details the sources conflate the difference between a controlled substance and a legend-only substance.  Obviously the guy's behavior is dumb - I don't know why this guy wouldn't use Roman or a legitimate internet prescriber.  But I'd like to know what the scope of penalties might be if this comes up again, and my Lexis expertise isn't getting me to the answers I want.  Any insight?\"},\n",
       "  {'id': 'i3k9ef',\n",
       "   'num_comments': 6,\n",
       "   'selftext': 'Is this legal?  \\n  \\n\\n\"When you request PTO, you will be asked to disclose details for your travel such as destination and method of travel. The reason for this is so that we may determine if it is considered a high-risk area. A high-risk area is designated as having a testing positivity rate of 10% or greater. If your travel destination meets this criteria at any time during your visit, you will be required to quarantine for 14 days upon return.  \\n\\nWork from home arrangements can be discussed with your manager. If this is not possible based on the nature of your position, then you will be required to use PTO or take time without pay.  \\n\\n📷All work trips and events – both domestic and international – are cancelled/postponed until further notice (with the exception to travel to branch offices).\"'},\n",
       "  {'id': 'i3k5tt',\n",
       "   'num_comments': 4,\n",
       "   'selftext': \"I own a computer support business and have a customer with a large collection of DVDs that they want in digital form. Right now we are deciding how to do this operationally and I have the following questions as we would prefer for him to mail me the dvds and for me to transfer the files through my in house server but want to stay on the right side of the law while doing this.\\n\\nMy understanding of the legal issue (and their explanation in asking for this) is that they are permitted to rip the DVDs themselves at home but don't want to take the time to do so.\\n\\nI would appreciate any thoughts on the following scenarios and understanding if they are legal :\\n\\n1) Customer gives me their DVDs and their computer, I rip the DVDs directly to their computer\\n\\n2) Customer gives me their DVDs and their computer, I rip them onto my computer and then transfer them over my in house network directly to their computer (note, both computers are in my shop in this scenario)\\n\\n3) Customer gives me their DVDs but NOT their computer, I rip DVDs onto my computer and provide a time limited direct download link from my in house server to the customer\\n\\n&amp;#x200B;\\n\\nThank you for your advice\"},\n",
       "  {'id': 'i3k5ia',\n",
       "   'num_comments': 0,\n",
       "   'selftext': \"Back in may I signed up for Lexington law because I'm working on my credit score. When I signed up I was told it was 59.95 a month. I have only 4 items on my credit report that are negative and figured it was worth it. 2 weeks into membership I was charged 109.95, I called them and asked why and was told only the first look was 59.95 which didnt make sense so I cancelled my account and decided to just start paying on these derogatory accounts on my credit file. That was june 24th that I cancelled and I have an email proving it. This morning my bank account was charged 109.95 again and also charged another 19.95. I called them and was told it was my bill from july, that they charged my account on july 24th but it didnt clear so they resubmitted it today (I have 2 bank accounts one for paying Bill's and one for spending- they are linked to my spending account which I only keep a little of money in it- that's why it did not clear) I asked why I was charged for july when I cancelled in june and could not get an answer but that they would call me back in 72 hours. We are in a national pandemic and everyone is hurting. I feel what they are doing is predatory, I'm left with no other option at this point except closing my bank account and opening a different one (at same bank) so they can not continue withdrawing money. If I do that can they take me to collections? It seems cancelling my account did nothing. Please help, I just got out of the hospital from heart issues and was told I can not stress but I definitely am over this\"},\n",
       "  {'id': 'i3k3d1',\n",
       "   'num_comments': 6,\n",
       "   'selftext': 'This past week I moved into an expensive apartment, and there are serious issues. I’m not one to complain, and I never even contacted any of my previous property managers about maintenance concerns. But the issues with this apartment are hard to ignore. I was promised the property would be flipped and up to par (I made specific requests), and none of them were complete. My new landlord for the most part ignores me, and when he does answer, it’s to placate me; he doesn’t do anything to fix the issues.\\n\\nThe issues are as follows: The apartment was disgusting upon move in -  I’m talking shit on the back of the toilet, unlivable, disgusting. The fridge is moldy and the inside door is completely cracked/all of the shelves are broken off – there was a strip of duct tape as a “shelf.” The fire extinguisher under the kitchen sink expired in 2006. The electrical outlets are all loose and come out when I unplug anything. There aren’t GFCI outlets in the kitchen (including 2 right behind the kitchen sink). The floor is coming up in every room; there are gouges, holes, and craters. There is trim missing throughout the apartment, and the trim that is present is coming off the wall. There are gaps behind outlet and switch face plates. The washer floods my sink when I run it. The A/C doesn’t work. The switches are for the most part faulty. When I plug things in, sometimes I must turn it on/off/on again to get it to turn on (it doesn’t the first time). All the switches that do work only control the top outlets in a receptacle (something a handyman commented on as being “not right”). The entire apartment needs to be repainted (another thing I was promised that wasn’t done); after the nails/screws/hardware is removed and covered on the walls. There was active mold growing in and around the entire tub, and the tub needs to be glazed as there are deep scratches in the entirety of the basin colored orange and brown. There is no water pressure whatsoever. I must hold the toilet handle down multiple times for 6+ seconds to flush anything. The bathroom door has a hole and needs to be replaced. The bedroom door (a sliding door) needs to be replaced as the handle is broken and sharp metal edges are all that remain. The space behind the washer/dryer needs to be dry walled – it is currently a gaping hole. The person before me didn’t use a lint trap in the dryer, so it is filled underneath the trap and the entire dryer needs to be taken apart to clean it out. There is no dryer knob, so the only way to turn off the dryer is to leave the door open. The drywall throughout the apartment is shoddy; you can see where the drywall tape was put down and there are massive clumps spackled on the wall through the entire apartment.\\nThings he did have completed: recaulk the bathroom (around the tub and window), but not everywhere I requested (still a huge separation between the tub and floor). Replaced the sink plunger in the bathroom (there wasn’t a rod, so the plunger was stuck and required a flat head to remove). Replaced the transition strip to the bedroom (there were rusty nails sticking up because the transition strip was absent).\\n\\nMy landlord doesn’t seem receptive to fixing anything I have requested, so what are my options? I want a lower rent to live in the apartment as-is. Or I want to fix it myself (my partner does construction and is a property manager and can help me do it right myself or hire people to do it) and then subtract the cost from my rent plus a little more since I’m doing the work myself. Or get out of my lease (as a last resort).'},\n",
       "  {'id': 'i3k1ln',\n",
       "   'num_comments': 3,\n",
       "   'selftext': \"The police in the city where my father lives called me again, they told me it was about my father. I answered that he was out of my life and I don't know anything about him or his crimes and I haven't talked to him in over 18 years. I thought that would be the end of it but it turns out that my p.o.s. father used my identity in some of his fraudulent schemes, which is also why his wife was after me initially (she thought I was aware of it and complicit). I started shitting bricks so I took your advice and lawyered up and thankfully we were able to prove that it was identity theft easily. Actually the police had no trouble believing me because he has stolen a lot of other identities. They also encouraged me to come forward about the violence to add even more weight to his other kids accusations. The officers were kind and understanding and they told me where to get help if the process is too hard on me. The third wife harassed me for a few weeks to take her rage at me and accuse me of being irresponsible and cowardly for not reporting my father's abuse. I've got to give it to her kids that they did, and in this they're braver than I am. She has stopped communicating with me so I imagine we're good. Anyway if she sues me I have a lawyer now...\"},\n",
       "  {'id': 'i3k1h1',\n",
       "   'num_comments': 10,\n",
       "   'selftext': 'If I plead not guilty, the case will be headed to pre-trial diversion. I don’t want to go to pre-trial diversion. It looks like he just wants more of my money. There’s full evidence that I did it since I was arrested for weed possession but they are going to find me guilty regardless. Looks like this lawyer is a money making scheme.'},\n",
       "  {'id': 'i3jzew',\n",
       "   'num_comments': 5,\n",
       "   'selftext': 'Hello,\\n\\nI am faced with a challenging situation, I’ve been made a regional manager in my company.\\n\\nUpon visiting or wa office I discovered a employee that had previous hostility complaints against him has been continuing to do so in his role. Further more I discovered several employees who had reported him to their direct report who verified they never got hr involved.\\n\\nOne employee in particular has received the brunt of his harassment, I have raised the alarm to hr. The response was to write up the complaining employee, I can not verify this is retaliation as their are work concerns from the write up, however the optics of this seem retaliatory (previously dismissed concern, brought back up at this moment.)\\n\\n\\nMy quandary is this, I am positive this quality’s as a hostile environment, in my opinion multiple managers where told over the course of 6 months with no action taken, sweeping it under the rug rather than deal with.  This employee has asked me if she can have something saying she has faced such conditions.\\n\\nI know she has, I know management is aware and has done nothing, and I know she’s being targeted by her direct report. She is speaking to quit and get unemployment because she is tired of being treated this way.\\n\\nI plan to write the letter, but I fear this will cost my own employment with in this company, both of which I am fine with as I do not want to manage and work at a company that would allow this to continue.\\n\\n\\nMy question is on what I should write to minimize such a risk, as I am still fighting woth corporate and HR on these issues, but this employee at this point is beyond staying after the treatment she received.(all of this while covid was going on and she was the only office staff in a shop environment)\\n\\n\\nThanks for any advice.'},\n",
       "  {'id': 'i3jyyp',\n",
       "   'num_comments': 3,\n",
       "   'selftext': 'I\\'mma delete this post at some point today, but can an illegal immigrant who came here without a visa/green card(aka permanent resident card) become a resident legally without having to face deportation? \\n\\nI don\\'t know if it varies by state, but just in case, this is in California. I tried researching this a bit. And I read about a form called the i-130. And what I read said you could ask for \"adjustment of legal status\". And from what I read, as long as the child of the illegal immigrant is over 21 they can fill out one form for each of his/her illegal parents requesting a change of their illegal status. So from my understanding (my parents are illegal) as long as I fill out these forms and pay $535 for each form, I can petition for my parents to gain a permanent resident card (aka green card), without them having to be deported to their country of origin?\\n\\nHere are my questions related to my concerns... What are the chances that these forms actually work or fail? Would my parents have to be in their country of origin when/if I fill these forms out? And what if my last name(s) is spelled slightly differently than theirs (it\\'s off by one letter)? Would this increase the difficulty? How long does the process take? Is there more forms that need to be filled out after this one? And should I consult a lawyer first before even touching these forms? And if so who is/are the best immigration lawyers in california?'},\n",
       "  {'id': 'i3jxxr',\n",
       "   'num_comments': 0,\n",
       "   'selftext': \"Mother in law's ex boyfriend has been served an eviction notice to vacate the premises.  He has taken all of his possessions besides three horses that belong to him, and left the home.  He has failed to show up to feed or water the animals in over 48 hours.  At what point are these animals considered abandoned and what kind of legal obligation does my MIL have to continue providing care?  The property is actively for sale and is expected to go quickly.\"},\n",
       "  {'id': 'i3jwrx',\n",
       "   'num_comments': 3,\n",
       "   'selftext': 'So the apartment I have recently moved into has implemented set of policies due to COVID. They have closed the common area which is how everyone gets to the mailroom with the only other access being through the leasing office. This means that we can only check our mail Monday - Friday from 9am - 6pm... The exact time I am at work each day effectively not allowing me to check mail without asking to leave early from work. \\n\\nThere response has been “Sorry, the county has required us to close communal areas due to the pandemic.” Is there any type of protection to allow me to access my mail outside of having to get PO Box? This is California btw.'},\n",
       "  {'id': 'i3jwq4',\n",
       "   'num_comments': 12,\n",
       "   'selftext': 'This is kind of a long post, so hang in here with me. So I work at a small family owned business and I’ve been working there for 6 years, ever since this store opened. About 3 years ago, they promoted me to manager/shift supervisor. Around that time, I started to go back to college to get my business degree and expressed interest in moving up with this company. So they told me that is possible. Everything was going great, then it’s just went downhill from there. I needed more money and more hours because some stuff had happened and I couldn’t get by with what I was currently doing. I went to my boss and he said that he could give me more hours but no more money. So, I got a second job and actually make more there than I do at my first job. My boss goes and hires another person and after 3 months of being there, he gave him full time hours, a key to the store and is making more than me. At this point I’m not sure what to do. It’s really frustrating to me. I don’t want to walk away from this place, but at this point, I feel like I have no choice. I’m not the only one that this situation has happened to. If any of you have any advice, that would be great. Thanks for reading.'},\n",
       "  {'id': 'i3jv3c',\n",
       "   'num_comments': 8,\n",
       "   'selftext': 'may be a dumb question but i don’t know how that works. i know it’s different in every kind of case.\\n\\nabusive ex boyfriend broke into my home when he was locked out and caused $3500 worth of damage to my home.\\n\\nhe is only being charged with criminal property damage but i believe it should be that on top of breaking and entering into a home that he in NO WAY had legal rights to be on/in bc he was asked to leave multiple times when he was raging and abusing me.\\n\\ni had to have 10 days off of work (usps mail carrier) bc of injuries i had from running for my safety next door and locking myself into their home. \\n\\nso that’s the context.'},\n",
       "  {'id': 'i3juhd',\n",
       "   'num_comments': 24,\n",
       "   'selftext': \"TLDR at bottom. \\n\\nHi all,\\n\\nI moved to Austin in November 2019.  Upon move in my mom found 3 live bed bugs in the laundry area of my apartment. I still had not unboxed anything. I lived  with my parents prior to this so these bugs did not come with me since they have never and do not have issues with them. \\n\\nAt move in I noted the bugs on my move in inspection form. I also had to sign a bed bug addendum.  Below is the timeline of events. \\n\\nNovember: move in, 1st spray treatment. \\n\\n\\nMay: bugs return, 2nd spray treatment \\n\\n\\nJune: 3rd spray treatment\\n\\n\\nJuly: back again, at this point I sent a request asking to be released from the lease, my request was ignored.  They insisted on doing a 4th spray treatment while they look into other avenues.  I reached out to 311 and a health code inspector came out to my apartment &amp; the leasing office. He suggested they do a heat treatment. The office brought in a new pest control company to give an assessment. They echoed the code inspector saying that I would be a good candidate for a heat treatment.  I have since spoken with Austin Tenants Council and following their advice have sent a certified mail repair request for a heat treatment. I have also requested to speak to the regional manager who is telling me that because I signed the bug addendum, that I am at fault and should be paying for these treatments. They are willing to take care of spray treatments ($300) but not willing to pay for heat treatment ($1400). He also says that they took care of the original occurrence this new stuff I brought in.\\n\\nAugust: they are doing a 5th spray treatment on Thursday (ugg)\\n\\n\\nWhat I want: I want a heat treatment so that I feel comfortable in my home again.  I like my apartment, I have told them several times that my preference is not to leave but I cannot continue to get these spray treatments monthly. It is adding to my anxiety (doctor and therapist know this). I also am working from home so having my home in constant disarray because of the sprays is hard to stay focused at work. Additionally, this monthly tradition of washing/drying everything in my apartment is impacting my utilities (hard to tell by how much as I'm also using more AC since it's summer. Since July I have also been sleeping on my couch because as a single person it is too much to move my king bed every month for the spray treatments. This problem also means that I cannot invite friends or family over for fear of them leaving with bugs or thinking that I'm messy/filthy.\\n\\nI'm getting conflicting advice from the health code inspector and Austin Tenants council. The inspector says that while it's not the suggested treatment, the apartment is making an effort to alleviate the repair. His hands are tied.  Austin Tenants council has now recommended I seek legal advice and/or bring this to small claims court. They say that they are not making a diligent effort by continuing to do spray treatments. \\n\\nI have reached out to the resources from Austin Tenants council for legal assistance. My income is too high to get free assistance. Though at $200 an hour quoted from the lawyer referral service I think that is out of the price range. (maybe it's not but I have no idea how many hours this would take or an idea of what the returns would be from this)\\n\\nQuestions:\\n- Would I have a chance in small claims? Is this recommended?\\n- is there a different option that I'm not aware of?\\n- does this bed bug addendum hold any weight seeing as how it is documented at move in that the pests were here?\\n- advice? Thoughts? Recommendations? I'm really not sure what to do next. \\n\\nTLDR: had bed bugs since move in, documented on the move in inspection sheet. Also had to sign a bed bug addendum. The complex has sprayed 4 times soon to be 5.  311 is saying that the complex is making an effort which is what they are required to do. Austin Tenants council is saying that it is not a diligent effort and that it is time to seek legal assistance/ small claims court. What do I do?\"},\n",
       "  {'id': 'i3jtwj',\n",
       "   'num_comments': 0,\n",
       "   'selftext': \"I have a bit of a situation...\\n\\nI recently discovered that I have a camera lens which was part of a free recall and repair program in the United States and Asia, I live in Europe, and while looking through the website of the company in question, there was no such program here.\\n\\nNow looking at the serial number on my lens, it matches with the affected models, and upon further inspection it visibly has the issue stated in the recall and repair program. \\n\\nBut the issues here are... My lens is out of warranty and the program in the US ended last year.\\n\\nDo I have any right to get it repaired free of charge?  \\nSince they did admit there is a problem with these lenses, but haven't issued a recall program in Europe.\"},\n",
       "  {'id': 'i3jpns',\n",
       "   'num_comments': 22,\n",
       "   'selftext': \"So about two months ago, my neighbor's chickens got into my yard. I called animal control on him and apparently he didn't like that so he accused me of threatening his wife and came into my yard and put me in a headlock. \\n\\nI went to the magistrate's office, pressed charges, and was given a court date. I showed up to court on that date only to be told that there is no record of my case. After contacting the sheriff's office, I was informed that papers were never served on this individual. I was never given a satisfactory reason why.\\n\\nI'm not sure what to do. This individual has a history of threats, violence, and provocation. Something doesn't feel right about this. I was considering reporting it to a higher jurisdiction. Should I just let it go?\"},\n",
       "  {'id': 'i3jmt4',\n",
       "   'num_comments': 1,\n",
       "   'selftext': 'Hello all, this is my first time posting here but I’m severely frustrated at the current moment. I live in an apartment with my boyfriend and four other roommates. We’ve lived here for seven months so far and have started noticing huge problems. Our bathroom is covered in mold, mildew, and pink mold on the tile. While we’ve taken care of the mold on the tile there’s not much we can do about the other mold and mildew as it’s on the ceiling, walls, and bathroom doors. The mold had been there since we moved in and we’ve put in several work orders for it. They only came in to fix it once and even then they never treated it. They scraped what they could off and painted over it so it’s come back and worse now. \\n\\nThe A/C also doesn’t work, we put in several work orders for that as well. We’ve waited for two weeks with no fix at all. Which is making the mold worse. Most mornings we wake up sweating and feeling awful from the mix of humidity and mold smell. \\n\\nOn top of all of that the buildings have a roach infestation. We had noticed a few bugs here and there but when the neighbors moved out we’ve noticed them increase. \\n\\nI’m just wondering if legally theres anything we can do. Of all the work orders we’ve put in and times we’ve called they have ignored us 90% of the time. They tell us they’ll have a part or treatment in on a certain day then they never call back or come out. It’s getting ridiculous at this point and I’ve started waking up barely able to breathe. \\n\\nAny advice would help as we’re also trying to figure out how to move ASAP.'},\n",
       "  {'id': 'i3jmj1', 'num_comments': 2, 'selftext': '[removed]'},\n",
       "  {'id': 'i3jm5s',\n",
       "   'num_comments': 6,\n",
       "   'selftext': 'I was ticketed for doing 54 in a 30 in Rochester New York, I have a clean driving record prior to the incident. I’ve plead not guilty already as I believe I was not going 54 like stated. An officer coming towards me flashed his lights and another came from behind me and pulled me over. The officer took my license and registration, then told me why I was being pulled over. Came back and told me to mail in my ticket with my plea and I’d be sent something back and that was it. He gave me no time to even speak to him. I was in a bit of a rush that morning (and by no means am I saying that’s a legitimate reason to break laws). But what is my best defense when I go to court to either get a reduction or ideally get it thrown away so my insurance doesn’t skyrocket and I don’t have to pay a good majority of my bank account for the ticket?  I’ve heard they’re pretty lenient with first time offenders, but I’ve never had to deal with this and I’m extremely nervous'},\n",
       "  {'id': 'i3jlf0',\n",
       "   'num_comments': 7,\n",
       "   'selftext': \"Our plumbing pipes were clogged so we called maintenance and they had a plumber come in to check on it. They unclogged it, and there were a lot of wipes and toilet paper that came up. I saw it when it came up and they also sent me an image.\\n\\nThey are charging me $415 saying that it is our fault that it was clogged, because we flushed wet wipes and tampons. We're two men here, and neither of us use tampons. We did flush wipes but they were special flushable wipes made to go down the toilet.\\n\\nWe emailed an image of the wipes to them to explain that they were wet wipes and explained that only two men live here, and they then said there would not give any credits because there were excessive feminine products (leaving the wipes out this time). This is when I asked if they had an image and they sent me an image of the pipe with only paper and sewage around it. With the image, they then said they would not be able to give any credits again, but this time mentioning that there were excessive wipes (leaving out the feminine products part).\\n\\nThey are changing what they're saying likely based on whatever they can think of to blame us. I don't feel like we should pay this because we haven't misused the toilets or drains. It also seems like an insane amount of money just to unclog pipes.\\n\\nOur contract says (something along the lines of) any damages which were not caused by natural events we will be charged for. Are we legally required to pay this simply because they're telling us we do? Is there anything we can do about it?\\n\\nIf we're legally required to pay for it then it would feel like no matter what happens they can just say we broke it and call it a day. It doesn't make any sense.\\n\\nThanks in advance.\"},\n",
       "  {'id': 'i3jjjp',\n",
       "   'num_comments': 8,\n",
       "   'selftext': 'Haven’t run into this issue until this week. I occasionally will smoke cigarettes or a vape but am not 21 yet. I have a drug test for school in a few days and haven’t smoked for two days so I should pass. But am I allowed to smoke? Is it just the sale of nicotine that is illegal for minors or is it the use as well? Will the school decline admissions for something like this?'},\n",
       "  {'id': 'i3jh9n',\n",
       "   'num_comments': 1,\n",
       "   'selftext': 'TLDR: Because of what was said on coworker(2)’s Formal Sexual Harassment Complaint, coworker(1) AND victim of sexual harassment gets punished? That can’t be right? Please tell me there’s something she can do! \\n\\nThank you in advance for taking the time to read this:\\n\\nAfter hours of deliberation with my coworkers and internal processing, I’ve managed to gather the courage to reach out for advice and committed myself to exhaust every last one of my resources on behalf of my dear friend and coworker who is completely beside herself. She is a victim of sexual harassment in the workplace and possible victim of illegal retaliation from a sexual harassment statement that was supposed to be in alliance with her sexual harassment case against our longtime customer/patron. \\n\\nI’d like to provide a back story:\\nMy coworker and I are both bartenders/servers in a lounge located inside of a casino that is not regulated by the tribe itself, but privately owned and regulated by a tribal family with tribal shareholders. I mention this because the way this family operates makes it extremely difficult to know who exactly to trust with sensitive information or when expressing a serious complaint/accusation/concern to HR or even GMs because they’re ALL family either by blood or marriage. \\n\\nWe’ve had this regular who spends an average of $35k - $40k annually gambling downstairs, while loitering and sexually harassing the female staff in the lounge upstairs. For many years, we have recorded his behavior and misconduct within the lounge. All of it dismissed, on the simple fact that no “actions” were taken against the staff, just his vulgar words? I find this hard to believe since I have experiences with him grabbing my arms/hands and not letting go, thinking he was being playful and cute. Or grabbing me from behind tightly and lifting me up because I’m only a 95lb lady while I’m talking to another table. All of these also dismissed because I didn’t make a huge scene in front of the cameras enough. He will show no respect to me when I tell him I’m in a relationship and I am not interested in his advances. He will come up and continuously ask “did you get rid of your boyfriend yet?”. He will disrespect his very own marriage, putting servers and bartenders in potentially dangerous and uncomfortable situations when his wife comes to look for him and he’s with another female that’s not her. He will objectify, demean, and/or disrespect any and all females whether they are a bartender, server, or customer. He will continuously proposition customers, bartenders, and servers. One server he relentlessly propositioned, made her feel so uncomfortable she QUIT. This person is not only bad for business, he’s a sexual predator. \\n\\nRewind to May 30th 2020:\\nRegular comes in and ask to take a photo of my coworker with intent to distribute to another regular who was self quarantining and “missed his girl”. My coworker is married to one of the security officers who work in the casino with two kids... She clearly refused, told him NO. and turned away to check on her other tables. \\n\\nShe immediately turns around to see the regular with his phone out, taking a photo of her backside when she deliberately told him he could not take a photo of her. She did not care if her “regular” missed her, she did not care if he thought her ass looked great today. She asks him to delete the photo, and he claims he did. She followed proper protocol, filed an INCIDENT REPORT with security which is much different than a SEXUAL HARASSMENT COMPLAINT that would get sent to HR. Finally, from surveillance photographs and actual evidence of our regular committing Voyeurism in the First and Second degree, from that moment, the offender had been Permanently Banned from the ENTIRE building per our Head of Security, GM, and Department Manager. SHOULD HAVE BEEN THE END OF STORY.\\n\\nFast forward to July 30th 2020:\\nMy coworker gets a notification that this person is getting a second investigation and that he’s “learned his lesson” and will possibly be lifting his ban per the OWNER of our lounge. She is immediately uncomfortable with this as well as the rest of staff in the lounge, including our manager. In an effort to stop this individual from returning to our establishment, we stood in solidarity and all wrote separate statements with personal experiences or whatever evidence we felt we could contribute to help my coworker’s case against him. We even reached out to past employees, who were more than happy to write their own statements as well. More than 10 statements were collected. \\n\\nAugust 3rd 2020:\\nMy coworker gets called into HR for a morning meeting. We are eager to hear about the decisions being made about the sexual harassment case and up to this point, have had extremely good feelings about winning. To her complete and utter surprise... she is told that she in not allowed to come work her shift that day and will only be working 1 day a week moving forward. She is also told that she is being written up because ONE statement claimed that over an emotional phone conversation between her and another coworker, she had accused of our own manager of having sexual relations with the regular that we were trying to ban.\\n\\nBecause of what was said on coworker(2)’s Formal Sexual Harassment Complaint, coworker(1) AND victim of sexual harassment gets punished? That can’t be right? Please tell me there’s something she can do! \\n\\nOur manager says that she can’t even look her in the eyes. She’s cried over the accusation and I honestly think that just makes her look guilty. There’s some fucky corporate politics going down and I can’t wrap my head around it because I’m still trying to swallow all this information I received yesterday about my coworker’s punishment? I’m glad I called her when I did because she was in the middle of writing a letter of resignation and giving up which is EXACTLY what they want her to do. \\n\\nThis is absolutely sexual harassment retaliation right? I think they’re punishing her for not allowing him to come back after two months, and as long as she works there, they’re missing out on $40k annually, so to save money or recoup from that, they cut her hours. And they’re just trying to dress it up as “you’re getting written up because you gossiped about your manager.” If that’s the case EVERY SINGLE PERSON in the damned building needs to be written up for gossiping about their manager. The fact that they’re writing her up based on the accusation that was found in a sexual harassment statement that was supposed to be in alliance with her case against the customer just sounds so completely ass backwards. Any advice or help I can show her is entirely welcomed and appreciated. Thank you again for taking the time to read this.'},\n",
       "  {'id': 'i3jfpw',\n",
       "   'num_comments': 6,\n",
       "   'selftext': \"My business used to be registered at a family friend's house. I had moved the address in February but my insurance company failed to record that change. They sent me a check in June. I live abroad now and haven't had contact with this family friend for a few months; we were on good terms when I left. After waiting eight weeks for the check, I contacted my insurance company and was notified that the check had been cashed in June and signed by me. I told them that in that case the check was cashed fraudulently. I wrote my family friend asking if she had seen a letter from my insurance company, to which she replied that she had ¨put it in a junk pile, once I find it I'll Venmo you.¨ This came across to me as very suspicious. I hadn't mentioned that it had been cashed in June, and she didn't elaborate on how she'd deposit my check once she found it to be able to Venmo me. It sounds to me that she's embarrassed having been caught red handed and wants to rectify the situation. I'm confident she'll return the money, however, whether or not she does, I'm still having the insurance company investigate the fraud. \\n\\nThis incident is still fresh and I do not have proof nor absolute certainty it was her who forged my signature and cashed the check. Though considering the circumstances she is the most likely culprit. Assuming it was her and the insurance company's investigation provides sufficient evidence, what are the legal ramifications? We are in the state of Utah. Can I press charges? Should I? What if she gives me the money before we get to that point? It's only in the order of $500. I'm planning on confronting her about the fraud in the event that she does Venmo me the money and in so doing implying that it was her who committed forgery and theft. \\n\\ntl;dr Family friend allegedly forged my signature and cashed a check written out to me by my insurance company, what are my options legally? (Insurance company is investigating the fraud)\"},\n",
       "  {'id': 'i3jcs5',\n",
       "   'num_comments': 6,\n",
       "   'selftext': 'We are attempting to cancel our September wedding for obvious reasons however, our venue is being very difficult and I’m hoping to put some pressure on them. \\n\\nWe signed a contract, pretty standard in July 2019 and made three payments to pay the contract in full. The county where the wedding is to be held is closed, masks mandated, no indoor gatherings over 25 people, limits to food serving but the state ordinances all exempt weddings. Our venue says that since they can legally proceed with our event, they will not offer us a postponement or any money back if we cancel. It’s a significant amount of money but ideally we would like to move the date and mitigate some of our loses. \\n\\nThe contract states that if we postpone more than 60 days before the event, we could have moved 70% of our deposits to a new date. However when I reached out to do that, I was told (in email) that the policy changes and I now had to wait until 8 weeks before since they were rescheduling so many people. When the 8 week mark came, I was told that they were no longer offering postponements as per the 60 day clause of the contract. \\n\\nAdditionally, we’ve had to change a lot about the event, we have well below the number of guests permitted, we are recommended not to serve appetizers, we are recommend not to have a singer/band among other things. \\n\\nDo I have any recourse here? \\nLydia'}]}"
      ]
     },
     "execution_count": 6,
     "metadata": {},
     "output_type": "execute_result"
    }
   ],
   "source": [
    "payload = {'subreddit':'legaladvice', 'size':50,'fields':['id','selftext', 'num_comments'], 'user_removed':'false','mod_removed':'false', 'before':'6d', 'selftext:not':'[removed]', 'selftext:not': '[deleted]'}\n",
    "r = requests.get('https://api.pushshift.io/reddit/search/submission/', params = payload)\n",
    "submissiondata = json.loads(r.text)\n",
    "submissiondata"
   ]
  },
  {
   "cell_type": "code",
   "execution_count": 7,
   "metadata": {},
   "outputs": [
    {
     "data": {
      "text/plain": [
       "50"
      ]
     },
     "execution_count": 7,
     "metadata": {},
     "output_type": "execute_result"
    }
   ],
   "source": [
    "len(submissiondata['data'])"
   ]
  },
  {
   "cell_type": "code",
   "execution_count": 18,
   "metadata": {},
   "outputs": [],
   "source": [
    "import time\n",
    "#mostly from https://medium.com/@pasdan/how-to-scrap-reddit-using-pushshift-io-via-python-a3ebcc9b83f4\n",
    "def makeRequest(uri, payload, max_retries = 5):\n",
    "    def fire_away(uri):\n",
    "        response = requests.get(uri, payload)\n",
    "        assert response.status_code == 200\n",
    "        return json.loads(response.content)\n",
    "    \n",
    "    current_tries = 1\n",
    "    while (current_tries < max_retries):\n",
    "        try:\n",
    "            time.sleep(1)\n",
    "            return fire_away(uri)\n",
    "        except:\n",
    "            time.sleep(1)\n",
    "            current_tries+=1\n",
    "    \n",
    "    return fire_away(uri)"
   ]
  },
  {
   "cell_type": "code",
   "execution_count": 43,
   "metadata": {},
   "outputs": [],
   "source": [
    "def makeThreadList(submissiondatalist):\n",
    "    \n",
    "    #given submission, retrieves the comments, puts them all together in a dict/list, returns the dict/list\n",
    "    #submission is submissiondata['data'][i]\n",
    "    def makeThreadEntry(submission):\n",
    "        #thread = {'submission' : submission['selftext'], 'comments' : []}\n",
    "        thread = [submission['selftext']]\n",
    "        payload = {'fields': 'body', 'size': submission['num_comments'],'link_id': submission['id'],'author':'!LocationBot','mod_removed':'false'}\n",
    "        comments = makeRequest('https://api.pushshift.io/reddit/search/comment/', payload)\n",
    "        for i in range(len(comments['data'])):\n",
    "            thread.append(comments['data'][i]['body'])\n",
    "        return thread\n",
    "    \n",
    "    threads = []\n",
    "    for j in range(len(submissiondatalist)):\n",
    "        thread_j = makeThreadEntry(submissiondatalist[j])\n",
    "        threads.append(thread_j)\n",
    "    return threads"
   ]
  },
  {
   "cell_type": "code",
   "execution_count": 44,
   "metadata": {},
   "outputs": [
    {
     "name": "stdout",
     "output_type": "stream",
     "text": [
      "CPU times: user 200 ms, sys: 18.3 ms, total: 218 ms\n",
      "Wall time: 24.2 s\n"
     ]
    }
   ],
   "source": [
    "%%time\n",
    "#it takes 20s+ to make threadlist of 10 submissions\n",
    "#~5 minutes for 100 submissions\n",
    "#50 minutes for 1000 submissions\n",
    "threadlist = makeThreadList(submissiondata['data'])"
   ]
  },
  {
   "cell_type": "code",
   "execution_count": 45,
   "metadata": {},
   "outputs": [
    {
     "data": {
      "text/plain": [
       "['I lived in an apartment that is not giving my deposit back and saying that I owe them money because I left the lease early, by a month. I had verified with the manager verbally when I was required to leave and did as she told me. My lease was signed in the middle of April and I left at the end of March the following year. \\nI do not have my old lease agreement because I did not know to keep everything.\\n\\nThe only proof that I have is an email from my new apartment manager stating that my lease ends at my old apartment on this certain day.\\nAlso, I had a friend who lived in the same apartment building and signed her lease in June and left in May. She did receive her deposit back and didn’t have any trouble with them stating she left a month early.\\nI left the apartment clean.\\n\\nDo I have a case to pursue? And would it be wise to pursue it? We are in NM.',\n",
       " 'It’s about $400',\n",
       " '[removed]',\n",
       " 'How much is your security deposit?']"
      ]
     },
     "execution_count": 45,
     "metadata": {},
     "output_type": "execute_result"
    }
   ],
   "source": [
    "threadlist[2]"
   ]
  },
  {
   "cell_type": "markdown",
   "metadata": {},
   "source": [
    "figure out how to merge results from different requests"
   ]
  },
  {
   "cell_type": "code",
   "execution_count": 7,
   "metadata": {},
   "outputs": [
    {
     "data": {
      "text/plain": [
       "{'data': [{'id': 'gqzfdz',\n",
       "   'num_comments': 4,\n",
       "   'selftext': \"Here's the situation. My brother works in sales in the state of Georgia. In march his base pay was reduced from $15 an hour to $8 an hour. 30% of staff was laid off. Executives reduced took a 20% pay cut. He is being pressured not to file for partial unemployment, and everyone that has done so has been fired. Does he have any legal ground to stand on? Thanks!\"},\n",
       "  {'id': 'gqzf02',\n",
       "   'num_comments': 2,\n",
       "   'selftext': 'I’ve had so many problems with this teacher, but today in class she started asking students to vote on another students grade. I live in Florida and I’m wondering if this is legal and if not what are my options???'},\n",
       "  {'id': 'gqzeow',\n",
       "   'num_comments': 18,\n",
       "   'selftext': \"Kentucky.\\n\\nI stopped by a friend's house. I noticed a person I didn't like there, so I excused myself. I said goodbye to the host as well as some guests and went to the door and put on my shoes. Person I didnt like saw me, ran in front of me, and stood between me and the door. \\n\\nIs he commiting a crime? What are my rights at this point?\"},\n",
       "  {'id': 'gqzct2',\n",
       "   'num_comments': 6,\n",
       "   'selftext': 'A friend of mine, knowing I am an amateur coin collector, offered me a great deal on a few coins she stated her grandfather was sending her.  I said sure, mostly to help her out.  Once I saw the coins, I thought their were a few strange things about them.  They were app in PCGS slabs, but with same tye of label and same PCGS logo on the back.\\nI said I didn\\'t think they were legit and asked if she could send back to her grandfather.\\nShe said she would take care of it. \\nShe then took 2 of the coins to a coinshop that was closed for covid, but the owner met her and bought 2 coins.  She then went back to him 3 additional times, selling him 2 coins at a time.  Not sure why she did it like that.\\nWell after the last coins, the coinshop owner calls me and says that they are fake coins and that he needs to see all coins I own and that he is sending them all to PCGS and that I or my friend have to pay him $3000 in the next two weeks or he is contacting local police and the secret service and that we will go to prison.\\nApparently he told my friend that they were fake and she said I forced her to take them in to him and that they came from MY grandfather.  Then gave him my name and phone number, allowing for him to contact me and threw me under the bus. \\nI would have referred to her as \"friend\", but didn\\'t want anyone to think that that meant it was actually me.\\nMy question is, should I just pay the guy?  Should I point out the fact he is the professional and offered to buy them after looking at them?  Is he classified as a private buyer since his shop was closed? \\nI don\\'t want negative attention or to be arrested have to prove my Innocence, but I just feel like a lot is wrong here with how it\\'s being handled. Maybe I\\'m lucky he is offering this deal? I don\\'t know and don\\'t know how to find out.'},\n",
       "  {'id': 'gqzbln',\n",
       "   'num_comments': 14,\n",
       "   'selftext': \"I was in the early stages of a divorce &amp; then rona happened. Hadn't filed 2019 taxes yet, instructed by lawyer to wait. Waiting on stimulus since 4/15 only to find out my wife jointly filed 2019 taxes without my tax info and took the whole $2400 on 4/15 and the entire 2019 fed refund. Despite her asking for her half of it in documents her lawyer &amp; my lawyer wanted me to sign since 4/20. If her lawyer knew wouldn't she get in trouble too?\"},\n",
       "  {'id': 'gqzbdz',\n",
       "   'num_comments': 1,\n",
       "   'selftext': 'Hi legal advice reddit,\\n\\nif you don’t feel like reading the whole post I attached simple stats at the bottom\\n\\n\\n\\nLike many others in march I got laid off from my part time job due to covid19. Fortunately I was not reliant on this money so I didn’t have to make any lifestyle changes.\\n\\n\\nAfter I got laid off I heard about the PUA (extra $600 a week) looked into applying for unemployment. After deeply reading the Maryland unemployment guidelines I found out that you had to work a minimum of 20 hours a week to qualify for unemployment, but apparently this could be different in the PUA. Thinking “what do I have to lose” I applied anyway (using legitimate information). I got declined, then saw advice on youtube that for some states you might get accepted the second time, so I applied again. Additionally my state updated their website with covid related questions.\\n\\nThis time I got accepted. The weird part was my state benefit was over 3x my average weekly income.\\n\\nRight now I am saving all of this money in a roth IRA (waiting for the dip lol). I wanted to know if there was any way to check if I am actually entitled to this money, or if it was the state’s error. if it is the state’s error how could I pay the money back?\\n\\n**Simple stats**\\n\\n• I am a 17 year old dependent with financially stable parents\\n\\n• I worked an average of 5.5 hours per week at $11 per hour and my annual income in 2019 was just over $3,500\\n\\n• I applied for Maryland Unemployment first in early April, got denied, then applied again in late April after seeing that a lot of people get declined the first time then get accepted the second time because of the PUA. (I used legitimate information both times when I applied)\\n\\n•Got accepted at $170 per week + $600 per week PUA boost.\\n\\n•Currently saving all of this money\\n\\nQUESTION: Do I actually qualify and if I don’t, can the state take this money back. Also how would I pay this money back?\\n\\n\\n\\nThank you so much, to anyone taking the time to read this. I would love to hear anyone’s thoughts of the situation'},\n",
       "  {'id': 'gqzay1',\n",
       "   'num_comments': 8,\n",
       "   'selftext': 'Alright so I’ll try to keep it to the necessary details and get to the point - \\n\\nMy wife does off and on child care work when she’s available (otherwise she takes care of our son) and I work. We don’t rely on her income and she only works when it’s convenient for her. During the 2019 year she worked several months for a woman taking care of her daughter. The job was inconsistent and the woman had multiple people she would bring in to work and watch her daughter depending on availability. My wife was paid by personal check every week that she worked.\\n\\nWe reported my wife’s income from the woman (a bit south of 3k) on our 1040 on Schedule SE and paid self-employment tax accordingly. We reported her income as self-employed due to the nature of the employment - my wife largely controlled the schedule and other factors. We reported the income as miscellaneous income and did not file schedule C (the woman asked if we filed schedule C and I declined to provide her information unless she explained why she needed it, which she did not).\\n\\nNow comes COVID-19. My wife is no longer able to work since the woman no longer needs child care, and my wife is immune compromised increasing her risk from the virus. Initially we had not planned to file unemployment since my wife was not eligible to our understanding, but then came the CARES act and we jumped on it. We filed her application and it was approved. This is the point where the woman is dragged into this because we listed her as an employer up tot he date of unemployment.\\n\\nThe state appears to have sent her some communication. She texted my wife saying she needed to talk, so we jumped on the phone with her with me there. She comes out of the gate hot, furious about potential penalties, interest, back taxes. Talking about how there’s no paper trail (there is... the checks). She says to my wife “how are we going to deal with this?” And starts rattling off very specific questions about our filings. After a couple questions I took over the call because she was being aggressive and I politely ended the call after telling her she could email me the questions she had and I would research and respond. She declined that approach.\\n\\nCurrently she is communicating by text and we provided her the amount of income we reported from her (the sum of the checks) and advised her that we paid self-employment tax on the income. We also told her the dates we listed as my wife being employed for her on the unemployment application. We provided this in good faith because we’re not interested in her being harmed in this situation. However she continued to ask for more specific details about our filings and I put a halt on it by telling her I’m happy to help but I would need to know why she needed any more private information before I would provide it. She proceeded to deflect and became aggressive again.\\n\\nFor some background on me I have both legal and accounting backgrounds so I have a reasonable base of understanding in those areas but not specific to this situation.\\n\\nThose are the basic details and I will be happy to add more detail as requested. Questions are as follows:\\n\\n1) what is her (the woman) potential exposure here?\\n\\n2) do we have any potential exposure?\\n\\n3) is my approach to her requests for information correct?\\n\\n4) are there any specific steps we should take as this situation unfolds?\\n\\n5) should we cease communication with her?\\n\\nThanks for your help in advance. I made a good faith attempt to ensure this post follows legal advice rules and if I broke any rules please let me know and I will revise my post accordingly.'},\n",
       "  {'id': 'gqz9py',\n",
       "   'num_comments': 6,\n",
       "   'selftext': \"I've actually paid a couple lawyers already and had one take a look at it, the online lawyers I've dealt seemed to just gloss over it and agree with me or not point things out until I actually pointed specifics out. It's only a 3 1/3rd page contract pertaining to a song I wrote and I'd like some advice on how a few paragraphs hold up, thanks.\"},\n",
       "  {'id': 'gqz711',\n",
       "   'num_comments': 3,\n",
       "   'selftext': 'If I’m first PoA, is there a way to remove the next PoA if that person did something to indicate they wouldn’t be trustworthy, get convicted of fraud for example.'},\n",
       "  {'id': 'gqz62u',\n",
       "   'num_comments': 2,\n",
       "   'selftext': 'Hello all,\\n\\nI\\'m an event planner and have been working from home (mostly canceling events) over the past 2 months. Today my department was told they are looking to move employees not doing much at this time to other departments so they weren\\'t \"sitting at home and collecting a check\"\\n\\nIn my case they asked me to potentially move to IT/call center desk, which would be an entirely new position I\\'m not very interested in.\\n\\nWhat would happen if I were to decline? Would they be forced to hold me only to core roles I signed off on when I accepted the position? Would I be eligible for unemployment?\\n\\n\\nThis is in new york state.\\n\\nAny advice would be appreciated, thank you.'},\n",
       "  {'id': 'gqz61n',\n",
       "   'num_comments': 1,\n",
       "   'selftext': 'Hello everyone,\\n\\nMy question is regarding **UK university** assessments and tuition fees for this semester due to the impact of the current situation\\n\\nGenerally, the university calculates the final degree classification using **second** and **third** year results with a weighting of 1/3 and 2/3 respectively for each year\\n\\nThird year consisted of the following:\\n\\n* Project         -  40 credits\\n* Semester 1 -  40 credits\\n* Semester 2 -  40 credits  \\n\\\\_\\\\_\\\\_\\\\_\\\\_\\\\_\\\\_\\\\_\\\\_\\\\_\\\\_\\\\_\\\\_\\\\_\\\\_\\\\_\\\\_\\\\_\\\\_\\\\_\\\\_\\\\_\\\\_\\\\_\\\\_  \\nTotal          =  120 credits\\n\\nI\\'m in my third year and due to the current situation, my university has decided to **cancel** exams for the second semester and instead use marks from previous assessments and exams to calculate a grade for this semester.\\n\\nAnd so as a result about 25 credits from semester 2 are not going to be counted which is about **%13.8** of the degree and could have potentially resulted in a higher final degree classification\\n\\nThe university has also charged full fees for the whole year regardless of the current situation and not counting a significant portion of the degree which is very unfair given that we were charged for it and that it could have improved final grade classification.\\n\\nWhen I outlined the aforementioned points to a representative from my university, they replied with the following:\\n\\n&gt;*The decision around the method being used to calculate final year grades has been finalised ... With respect to the question of fairness, analysis of student performance in previous years suggests that the approach being taken does not have significant impact on final results or degree classifications: the overall effect on the cohort is in fact a very small \\\\*improvement\\\\* in grade averages.*  \\n&gt;  \\n&gt;*With respect to the question of tuition fees and the whole year, we should separate the questions of learning from assessment.*  \\n&gt;  \\n&gt;*There was disruption to the final weeks of the semester. The University took significant efforts to ensure that, through online and alternative methods, teaching was delivered enabling students to learn the materials associated with course units. Tuition fees are primarily about supporting learning, rather than assessment.*  \\n&gt;  \\n&gt;*A final exam is used to determine whether a student has achieved that ILO\\\\[i*ntended learning outcomes\\\\] *and is able to perform the task. The exam does not directly contribute to a student acquiring the ability to describe communication mechanisms, but provides a measure of the ability.*  \\n&gt;  \\n&gt;*I hope this addresses your concerns. As is always the case, if you are ultimately unhappy with results, you will have a right to appeal.*\\n\\n&amp;#x200B;\\n\\n**Side notes:**\\n\\n* The university is a top russell group university in England\\n* I\\'m classed as an international student and therefore charged £20,000 of tuition fees per academic year\\n* The university has also mentioned the following in one of it\\'s earlier updates(around march) but they haven\\'t released any new details regarding \"viva interviews\" yet and so it seems very unlikely\\n\\n&gt;*If you think you could have achieved a higher degree classification had the exams gone ahead, and your* performance\\xa0*profile during your studies supports this, then we’ll give you the opportunity to prove it by a remote viva interview (more details will be provided at a later time).*\\n\\n* The university has not calculated the results for this semester yet\\n\\n&amp;#x200B;\\n\\n**Questions**:\\n\\n1. I haven\\'t replied yet, what should I say in reply?\\n2. Can this be pursed legally(or within the university) so that they either\\n   1. refund me 25 credits worth of fees for this academic year (**preferred**)  or,\\n   2. consider examining me for the cancelled exams\\n3. is there anything else I can do?'},\n",
       "  {'id': 'gqz4qa',\n",
       "   'num_comments': 6,\n",
       "   'selftext': 'I am on a 12 month lease agreement with my good friend that we signed on May 1st. He is the primary roommate on the lease and is threatening to take me off and evict me because I turned the thermostat down even though we split utilities. Is this legal even if I didn’t violate the lease? Should I speak with the leasing office in terms of our lease agreeement?'},\n",
       "  {'id': 'gqz3tv',\n",
       "   'num_comments': 8,\n",
       "   'selftext': 'Bail bonds/Lein on mortgage? How does this work?\\n\\nWe’ve recently been gifted a house from a family member, there is very little left on the mortgage.\\nWe just found out that there is a lein on the house for another family members bail bond. That family member has since been arrested while on parole and is awaiting the next court date.\\nWhat happens if he gets convicted? Will the court take the house? What if he doesn’t get convicted?\\nWhat if we pay off the house before that?\\nWhat if we pay off the amount of the bond?\\nBasically...is there ANY option that doesn’t result in us losing the house !? Or should we deny the house all together ?\\nThe downfall is that we’ve already put 1k$ into renovations and we’re planning to put another 1500$ in next week.\\nDoes this ruin everything?'},\n",
       "  {'id': 'gqz3fc',\n",
       "   'num_comments': 1,\n",
       "   'selftext': \"As stated in the title, I recently filed to incorporate, and elected to be taxed as an S corporation in the state of New York. I am a minor, and I used bizfilings to get my paperwork through. In doing so, I elected myself to the board of directors, and made myself the President of my company. I received my corporation's state filing documents from bizfilings today, and, in reviewing them, discovered that the incorporator must be at least 18 years of age in New York. Is there any sort of penalty that myself or my family might be faced with as a result of my actions? And, if not, am I able to file a DBA to move my corporation to a state like Delaware where minors may serve as directors?\"},\n",
       "  {'id': 'gqz1zt',\n",
       "   'num_comments': 6,\n",
       "   'selftext': \"I'm hoping this won't come to legal action, but my rental company is notorious for lawsuits and being slumlords so I'm getting my bases covered.\\n\\nI'm a graduate student and have been unable to secure a summer job / income. Back in April, when it was uncertain whether I'd be able to get any job and when (not to mention if school would reopen), I contacted my landlord inquiring about early lease termination. He responded by saying there was no early termination fee due to the pandemic and that if I needed to move he only needed a date of vacancy letter. I offered to find a new tenant myself because I felt bad about having to leave, but he declined and said there was no need.\\n\\nAfter some haggling over email I managed to get it in writing.\\n\\nApril 22nd:\\n\\n&gt; *SlowCauliflower:*  \\n&gt;  \\n&gt;*You don't have to look for a replacement tenant for us, we have an army of real estate agents renting for us.  If you need to vacate your current apartment, all we requires is a 30 days notice.  I will need an intend-to-vacate letter stating your last date, name(s), address, and hand signature.*  \\n&gt;  \\n&gt;*Due to the current situation, there is no penalty for lease-break and your deposits will be return to your forwarding address.  This email serve as your receipt for this purpose.*\\n\\nI sent the intent to vacate letter on May 12th after securing cheaper housing for September. I did not receive anything back so yesterday, on the 25th, I reached out to confirm the landlord received the letter. Today he emailed me stating that I'm on the hook for all the typical early termination fees (broker, rent until lease ends or new tenant comes along).\\n\\nI responded referencing his email that states there's no fee. He responded asking for proof of job loss.\\n\\nHad I been told this would be required, I would have acted differently, but I was not made aware through our phone conversation or in writing that this is required. I'm a student and was applying for summer jobs/internships around the time shit hit the fan and furloughs, shut downs, and lay offs came rolling through. I don't have a job I lost, but I missed a few months of income I had planned on having and there is only uncertainty now about getting a new job during this time.\\n\\nIf I had to take this to court, would the original email from him stating there's no termination fee and listing no other requirements count in my favor? \\n\\ntl;dr: Landlord stated in writing there was no fee for early termination due to covid, is now backtracking and requiring things that were not discussed.\"},\n",
       "  {'id': 'gqz03o',\n",
       "   'num_comments': 0,\n",
       "   'selftext': \"I am based in the US and paying an artist located in Brazil for images. How would I go about of obtaining 'ownership' of these images (as I intend to use them in my business)? Do I need a form for him to sign, and if so where do I find it?\"},\n",
       "  {'id': 'gqyz08',\n",
       "   'num_comments': 9,\n",
       "   'selftext': 'Hey guys,\\n\\n~Firstly I’m sorry if this is the wrong place for this~\\n\\nI’m home from college right now due to covid, and staying with my family of 5. Each member has their own car (go carbon footprint \\U0001f973), and as such, theres only room for 4 in the driveway. Back when I was home, I would get stickers on my car all the time for parking on the street overnight, as its against the neighborhood parking code, but nothing would ever happen. As far as the code goes, parking cannot be done on the street or grass, and driveways cannot be extended. The solution is to park in the “community lot” located in the center of the neighborhood, however, due to the virus, this lot is closed. So, upon leaving my car on the side of the road in front of my abode, I woke in the morning to find it towed, and had to pay a hefty bill for a college student. I’d like to talk with a representative of the master’s association in the neighborhood about a reimbursement, but I’d be greatly appreciative if anybody had any knowledge of what I could come in with as far as legality of them having my car towed, or if this is in any way feasible at all.\\nThanks!'},\n",
       "  {'id': 'gqyur6',\n",
       "   'num_comments': 2,\n",
       "   'selftext': 'Shouldn’t they have a warrant before we answer any questions? Or is a phone call enough probable cause to raid the place like every police officer does it? Small border town in Texas, cops are known for violating rights since a lot of people aren’t familiar with them / don’t even speak English.'},\n",
       "  {'id': 'gqyu5i',\n",
       "   'num_comments': 3,\n",
       "   'selftext': 'I recently turned in a timecard and I was immediately told by my HR &amp; Office manager that I had not written down a lunch taken on one of the days. I worked exactly five hours that day and, according to my understanding of the CA labor laws, it states a break period must be taken at \"more than five hours worked\".\\n\\nShe stated that, via the company\\'s internal audit system, she went by a guideline of a lunch having to be taken at five or more hours worked, which is obviously distinct from what I read in the CA labor laws. I dont know much about how internal auditing works but I would expect that the guidelines for the audit would have to be consistent with CA labor laws.\\n\\nMy question would why is there a discrepancy between the CA labor laws and the internal auditing checklist of my company, is this discrepancy legal for whatever reason?'},\n",
       "  {'id': 'gqyu20',\n",
       "   'num_comments': 3,\n",
       "   'selftext': 'Hello.  I’m 31 male \\nFrom Pennsylvania. We are allowed to open carry and conceal carry with a permit.  \\nAbout 5 years ago I applied for a conceal carry permit the same day with a guy that lived with me who has a felony in Florida.  He was approved and I was denied due to the reason I was admitted to the hospital for “suicidal thoughts” when I was 14 years old.  \\nBack then they had me on all types of meds and it made everything worse.  \\nI haven’t been on any medication since 2006.  And I’m mentally stable.  \\nIs there any way to have that expunged from my record? They told me mental history doesn’t come off of your record\\nI don’t own any guns but my dad is leaving me a ton.  I don’t want them taken away if the state says I can’t have them.'},\n",
       "  {'id': 'gqyty1',\n",
       "   'num_comments': 5,\n",
       "   'selftext': 'I\\'ll explain that better: \\n\\nFor the ones who don\\'t know, a ghost-production is a 100% finished song which I produced and sold to a client who buy that to obtain 100% of the rights of that track, so it would look like he made it by himself, basically. This is a real common thing in the music industry, where people (X) pay other producers (Y) to create tracks to release under X name, without Y getting involved anymore. \\n\\nNow, things are getting quite big: I got a couple of usual clients who buy me tracks once or twice a month, plus some occasional clients which buy a track once, or do the same with other music-related services. \\n\\nSince the average price for a track goes from 1000$ to even 2000$ (it depends on some things), I\\'m earning a considerable amount of money, for which I feel I\\'ll soon come across some checks made by the financial police (if this could help, I\\'m from Italy). \\n\\nHow can I \"go legit\" with this business? What should I do?'},\n",
       "  {'id': 'gqytgj',\n",
       "   'num_comments': 3,\n",
       "   'selftext': 'I thought confidentiality meant a therapist could not share any information you tell them according to HIPPA. I told a therapist some information and now he has shared all my information aside from anything that would specifically connect that to me such as my name. But given the circumstance, it is pretty obvious to that other person that the therapist was talking about me so now my information that I thought was going to be confidential is out there. Where does this situation stand legally?'},\n",
       "  {'id': 'gqysdh',\n",
       "   'num_comments': 14,\n",
       "   'selftext': 'So I just got an email that my check was cashed about a month ago. I never received a check so I called HR. They said that they will connect me with the legal team to sign an affidavit. They said that either an email or letter will come soon. Should I do anything on my part while I wait for my check? Like call my bank? My bank statements show that I never deposited a check and I have previous check with my signature on them as proof\\n\\nI’ve never had anything to do with legal stuff so I’m scared that this will be expensive, just to get my check back. They said that it will take up to 120 days for the investigation to come to a conclusion.'},\n",
       "  {'id': 'gqyrzj',\n",
       "   'num_comments': 99,\n",
       "   'selftext': 'We live in Illinois. My son is 2.5 years old and sees his dad every other weekend from 5 pm Friday to 5 pm Sunday and every Tuesday from 9-5. His dad has been with his wife for 1 year 8 months total. Married for about 6-7 months.\\nThe conflict is that his dad is deploying in mid-June and he’ll be gone until about mid-May. He wants his wife to keep visitation with my son and I’m not comfortable with it. I don’t know her very well, my son is not old enough to tell me if he wants to see her alone or if anything is wrong, and I have told them that whenever she wants to see him, she can. I would go there or she could come here.\\nHe just told me this morning that he’s going to take me to court after he gets back from his deployment since I have said I’m uncomfortable with giving visitation at this time. I’m wondering if he has a leg to stand on and/or if I’m being unreasonable. Thank you in advance.'},\n",
       "  {'id': 'gqypbl',\n",
       "   'num_comments': 5,\n",
       "   'selftext': \"I live in Florida. Summer of 2018, my parents were going through a very nasty divorce and my dad was actually stealing mail from my mom's house, which resulted in her not receiving notice that autopay for our health insurance was turned off and they cancelled our insurance from lack of payment. Meanwhile, the endless family drama was sending me, then 22, into the beginnings of what would become life-changing depression. My mom made me appointments with a doctor and I saw her a few times. We didnt know that our insurance had lapsed. So now I'm receiving calls every day from a collections company for over a thousand dollars in unpaid medical debts. I never even got a bill or notice or anything.\\n\\nThe lady on the phone said I have no choice but to pay it. My mom said if I ignore it it will go away but hurt my credit. I'm already 32k in the hole from student loan debt from a useless masters degree and just recently was able to get a job at a restaurant. \\n\\nWhat should I do? Please help, I am totally lost here and panicking a little :(\"}]}"
      ]
     },
     "execution_count": 7,
     "metadata": {},
     "output_type": "execute_result"
    }
   ],
   "source": [
    "#create new submissiondata2 to merge with submissiondata from before\n",
    "payload = {'subreddit':'legaladvice', 'fields':['id','selftext', 'num_comments'], 'before':'30d'}\n",
    "r = requests.get('https://api.pushshift.io/reddit/search/submission/', params = payload)\n",
    "submissiondata2 = json.loads(r.text)\n",
    "submissiondata2"
   ]
  },
  {
   "cell_type": "code",
   "execution_count": 8,
   "metadata": {},
   "outputs": [
    {
     "data": {
      "text/plain": [
       "{'data': [{'id': 'hfocgb',\n",
       "   'num_comments': 0,\n",
       "   'selftext': 'My friend is in the foster care system. She’s been threw hell and back. She’s been threw groups homes. So she got fostered and now there trying to kick her out. She deals with mental issues and they haven’t provided any help to her either. It’s like the world is against her and it makes me so upset and I just want to get her some help or at least some advice'},\n",
       "  {'id': 'hfobzx',\n",
       "   'num_comments': 0,\n",
       "   'selftext': \"This is happening in Texas. My dad works construction and a couple days ago after working with 3 other people he finds out that one of them was infected and all 3 where sent home but the company hasn't told my dad anything about getting checked or being put in quarantine. This is strange because a week ago someone else while on at a company meeting was exposed to Covid and the company immediately sent him to get tested and to stay home. Is this discrimination since my dad is a mexican laborer as opposed to a white manager?\"},\n",
       "  {'id': 'hfobet',\n",
       "   'num_comments': 0,\n",
       "   'selftext': \"Hi all,\\n\\n&amp;#x200B;\\n\\nI've accepted an work-from-home opportunity online that involved receiving some packages, inspect them, and reship them. After doing it for about two weeks, I found out that the opportunity is a scam, and I've been aiding in distributing goods bought with stolen identities.\\n\\n&amp;#x200B;\\n\\nI immediately stopped everything I was doing for them, froze my credit report, and changed bank account info. However, I still have a small inventory of goods (clothing &amp; laptops probably worth \\\\~$5000) that I didn't ship out after becoming suspicious. I have reached out to many lawyers in NY, but the only two answers I got were: 1) hire a private lawyer (I can't afford it due to no income) or 2) get a public defender after I've gotten arrested.\\n\\n&amp;#x200B;\\n\\nI've also considered going to the police with everything I have, but I don't want to self-incriminate myself.\\n\\n&amp;#x200B;\\n\\nI don't really know what to do now and feel really helpless about this situation. What could I do?\"},\n",
       "  {'id': 'hfobb8',\n",
       "   'num_comments': 0,\n",
       "   'selftext': \"In 2017 I was studying abroad. I needed to file my taxes so I emailed my financial aid counselor to see if they could send me my W2 form, as I was a work-study student. They said sure, and emailed it to me. Only they emailed me every students' W2 as one attached .pdf file. Nothing was really done about it, other than asking me to delete the email with the attached file. The financial aid counselor responsible actually was promoted not even a year after the incident. \\n\\nI guess my question is; is there's legal action I can/should take about this, even if it happened 3 years ago?\"},\n",
       "  {'id': 'hfob65',\n",
       "   'num_comments': 0,\n",
       "   'selftext': 'Oregon is a \"one party\" consent state for recording telephone calls.  If I am speaking to someone who is also in Oregon on the phone, I can record the phone call without having to notify them.  However, does this apply to employees of federal agencies (also located in Oregon) or does federal law apply to them?'},\n",
       "  {'id': 'hfoa3y',\n",
       "   'num_comments': 0,\n",
       "   'selftext': \"Over the past few years, from time to time, I would get emails to my GMail for new accounts being opened or confirmation emails items being shipped. For the most part, I ignored these or took control of the account and had them deleted. Lately though, I have been getting more and more of these accounts being made by this one person. Thanks to the accounts and emails, I have his name, shipping address, and phone number. If I wanted to be a complete arse about it, I could order things on his card and have it shipped to me since he has decided to leave his billing info with the account. I'm not about to catch a federal charge doing that, but had he picked an email of someone with less morals they could have easily cleaned him out by now.\\n\\nWhat should I do? I could call him and ask him to stop, but really there's nothing stopping him. I'd like to be able to tell him he's preforming a form of identity fraud, but I'm not 100% sure that's correct either. What's kinda scaring me a little is that this particular email address is used for much of my social media accounts, online billing, etc.\"},\n",
       "  {'id': 'hfo9za',\n",
       "   'num_comments': 0,\n",
       "   'selftext': 'Throwaway because why not. Indiana\\n\\nIt was brought to my attention yesterday that someone at my place of employment has been taking photos of me while at work. There’s nothing obscene or sexual about the photos, but in them you can tell the person is hiding somewhere and taking them from somewhere they can not be seen. This doesn’t seem like it’s a big deal other than the fact that it’s creepy, however who ever is taking them has been sending them to people. The photos were taken over a period of 3-4 months. The reason I found out about them being taken is they were sent to spouses of different people that I work with. And the HR department. Accompanied by some false accusations about me that have tarnished my reputation at work. I just need to know if there’s anything I can do legally about this or if I need to just move on. \\n\\nAny and all advice is appreciated.'},\n",
       "  {'id': 'hfo56j',\n",
       "   'num_comments': 1,\n",
       "   'selftext': \"So I had gotten a lease for a vehicle back in 2019. The vehicle is under my name of course. I was fortunate enough to get the car out the lot without having insurance on it. Don't know how I did it but it happened. I something do let me roommate use the vehicle when he of course ask me. I don't feel comfortable with anyone driving my car unless it is insured. I was currently at work one night and in the morning, I got hit with bad news. My roommate had total my vehicle. I didn't have any knowledge of it or him taking it. Yes, like I said I do let him take it when he ask. I just want to know, will they blame me for any of this, and I don't care about the car or loan I just don't want to be involved with law enforcement or insurance. Will everything land on him and nothing with me even if the car is under my name? Please help...\"},\n",
       "  {'id': 'hfo52e',\n",
       "   'num_comments': 0,\n",
       "   'selftext': \"In 2017, I had a small business selling these chargers on eBay. I wasn't making too much money, but at the best I was making like $40 in profit per day, which is great in 7th grade. I decided to incorporate an LLC in Delaware (mainly because I was a 7th grader and I thought it would be so cool to say I'm a CEO of a company). Long story short, I paid and it was legally incorporated under my name. My parents were aware, but they didn't sign any documents or really allow it. What ended up happening is somehow the company I incorporated with told me that I had to pay a $300 annual tax, called the franchise tax. When I incorporated, I though that only franchises like 7/11 or McDonalds would have to pay it, so I thought it didn't apply to me.  However, my parents had to bail me out and they paid the $300, plus the over due fee, $200, and the payment rejection fee $50, and lastly, the $200 cancelation fee. In total it was $750. I ended up paying them back, but I recently found out that minors cannot legally sign contracts by themselves, meaning I should have never legally been allowed to incorporate my LLC, since my parents never signed anything. I was the only one signing and paying. **Would it be possible for me to get my money back since minors cannot legally sign contract by themselves?** I know that $750 isn't much compared to what other people had to go through, but I'm going to be a junior in high school and I am trying to save up for a car, and this would really help.\\n\\nThank you guys in advanced for your help.\\n\\ntl;dr: I incorporated a LLC in Delaware and I got charged with a lot of fees, but because I'm a minor, I shouldn't have been allowed to pay the fees, because I legally cannot sign contracts.\"},\n",
       "  {'id': 'hfo2bt',\n",
       "   'num_comments': 0,\n",
       "   'selftext': \"Hi All, \\n\\nA few weeks ago I received a DOL credit for unemployment benefits which I did NOT file. I've been trying to contact the DOL ever since to get this sorted out. \\n\\nUnfortunately, because my luck is shit, I need to take a 3-4 week unpaid break from work due to COVID. Now I need to actually file unemployment benefits and it looks as if an account was created with my SSN but not my e-mail. \\n\\nI've been trying to contact the CT DOL all yesterday and all morning but there is no PERSON to talk to. It's all automated and all tells me to go online. When I *do* get to an answering service I am told the mailbox is full and I get hung up on.\\n\\nThe steps I've taken so far:\\n\\n* File a Fraud Report with identitytheft.gov\\n\\n* Emailed CT DOL\\n\\n* Left a message with CT DOL Fraud hotline\\n\\n* Frozen my credit\\n\\n* Filed a Police Report &amp; have a case #\\n\\n\\nAny assistance would be helpful. Please let me know if there's any other resources available. At this point I think need to get in contact with an attorney to prevent any future damage to my credit and sort out compensation for my unemployment.\"},\n",
       "  {'id': 'hfo206',\n",
       "   'num_comments': 2,\n",
       "   'selftext': 'Okay so I started a beer investment with someone (Mr. X) that I believe I am getting screwed on. Mr. X and I went in on a gross of independently appraised rare lambic appraised at $154,478. The lot was to be secured with collateral from commercial real estate parcels set forth in a municipal auction. Mr X. Obtained property that abuts a shelf water table TO WHICH HE KNOWS HE CANNOT OBTAIN EASEMENT, therefore we would have to amortize the value of 375 bottles resulting in a loss of capital gains write offs. \\n\\nI call Mr. X and he noted that because his lots need R6 permits he would have to plane his property to a specific grade before it could be certified for industrial use and acceptable as a gueuze bond. Surprise surprise - he sends me pictures of a different R6 zoned lot. The funding fell through and I haven’t been offered the deed back to make this right. I’m not stuck with essentially a toxic beer asset that cannot even be rolled into a saison hedge fund. \\n\\nPlease advise and thank you.'},\n",
       "  {'id': 'hfo1ox',\n",
       "   'num_comments': 0,\n",
       "   'selftext': 'Hi, I work for a pizza place as a delivery driver. Us drivers just found out that our gas reimbursement rate was lowered without any form of notice at all. Is this legal and what can I do? (Missouri)'},\n",
       "  {'id': 'hfo10k',\n",
       "   'num_comments': 1,\n",
       "   'selftext': 'I live in a small 2nd story apartment directly next to another apartment building. Almost all of my windows face this other building with the neighbors apartment (who I\\'ve never met). Our windows DO NOT align at all, there is literally no view to look out to from these windows except the brick wall. \\n\\nBut I will say, if someone in either apartment were to stand at their window and look to the other apartment window, you would be able to see in. It would probably have to be intentional. At night with lights on, I have seen in their window before as I went to close my curtain. They don\\'t seem to have curtains?? If they do, I\\'ve never seen them closed - I\\'m very mindful to close my curtains when it gets dark. \\n\\nMy main point: I\\'m naked often in my apartment. Walking to the shower, out of the shower to my room (opposite ends of the place), as I get ready in the morning, etc. and my curtains are open during the day. I have no concerns that anyone from the street could see me, it\\'s just this one apartment that possibly could - but seems highly unlikely to happen on accident. Would I be in legal trouble if they reported seeing me naked?? I have no idea who lives there or how many people as I\\'ve never met them (ie, no idea if they have kids?), no idea which rooms are near which areas of our respective places (is my bathroom near their kitchen window for example?). \\n\\nI certainly don\\'t try for them to see me. But sometimes when my boyfriend visits he\\'s also very liberal with being naked around the place, and when I mentioned my concerns he said \"we\\'re in our own private space, no one can tell us how to dress here, it\\'s fine\". I\\'ve been here a while with no issues or complaints but I am curious if I could be in trouble in the future, either here or at another apartment someday. Again, no public space could see me - but maybe someone else in another apartment?'},\n",
       "  {'id': 'hfo0lm',\n",
       "   'num_comments': 0,\n",
       "   'selftext': 'I know that you can get into some hot water for using a celebrity’s image on shirts but this guy is just a random guy in town that comes to the skatepark regularly. I can’t ask him for permission because the shirts would be making fun of him and I know that he would say no. I know that it sounds bad but all the proceeds would be donated directly to the skatepark and I feel like that helps my case legally speaking just for the fact that I’m not making money off of it.'},\n",
       "  {'id': 'hfnzo6',\n",
       "   'num_comments': 0,\n",
       "   'selftext': 'In florida. I got a red light ticket from a camera. I have a van and it is difficult to stop on short notice with all my cargo. Brakes aren’t great and cargo moves around and makes a mess. Unfortunately, i went through a quick changing light and am wondering if there are ways to fight it or have the penalty reduced? \\n\\nTIA.'},\n",
       "  {'id': 'hfnytj',\n",
       "   'num_comments': 0,\n",
       "   'selftext': \"This sounds a bit like a scam, but it's not - and happened with a well known company. \\n\\nI work for a publically traded company, and as part of my one-off duties they've had me purchase purchase bitcoin with cash, and then transfer the amount to management to use in 'off-the-books' purchases. The best \\n\\nThe company has also had me use personal funds (cash) to buy things like  software keys in the U.S. which were then transferred over-seas. \\n\\nNow not only am I getting the run-around trying to get reimbursement for these items - but I'm concerned and worried about the legality of what they're doing as a publically traded company and if they're open to some sort of liability - and worse have I opened myself up to liability as well.\"},\n",
       "  {'id': 'hfnxm4', 'num_comments': 0, 'selftext': '[removed]'},\n",
       "  {'id': 'hfnvwr',\n",
       "   'num_comments': 7,\n",
       "   'selftext': 'I am in Michigan.\\n\\n I have a PPO against my ex and he is barred from entering my property and seeing the children that we have in common. Last night he parked down the street and sent a friend and lock smith to my home to try and re-key a jointly owned car in the middle of the night. Can he legally do this? Is this a violation of the PPO? Can I file charges against his friend?'},\n",
       "  {'id': 'hfnux9',\n",
       "   'num_comments': 1,\n",
       "   'selftext': '(Michigan, USA.) My dad took a trip to India to get a couple of surgeries done back in February. As he was getting ready to leave he realized his 3,000 USD that was locked away very safely was gone from it’s spot. I’m not exactly sure how, my dad knows more details than me but he is 100% certain it was my cousin/his nephew. As of right now, we are pretty poor (living in a 2 bedroom broken house with four people, loss of jobs, two broken down cars). There‘s a very small chance that we can go there right now to get this sorted out. Do we have a chance at a case because we know who took it and how much, and if so is there a way we can do it here in the states instead of going to India? All help is greatly appreciated thank you so much.'},\n",
       "  {'id': 'hfnt59', 'num_comments': 2, 'selftext': 'I live in Mississippi US'},\n",
       "  {'id': 'hfnscz',\n",
       "   'num_comments': 1,\n",
       "   'selftext': 'Hello all, my wife and I are curious how much information about ourselves we may be able to remove from public records. \\n\\nBackground info- My wife’s father was physically, mentally, and sexually abusive as well as manipulative as she was growing up. We will be moving soon and we do not want him to know our new address as she’ll be cutting off communication cold turkey. He is known to go to extreme lengths to obtain information when others distance themselves and she fears he’ll be able to find us through assessor’s websites or running a background check. She doesn’t necessarily want to take legal action against him because she fears physical retaliation. \\n\\nHow might we be able to seal these records from public view? I’m quite uneducated on any options we have so please ELI5. We truly fear for our safety and well being. Thank you all in advance!'},\n",
       "  {'id': 'hfnpz8',\n",
       "   'num_comments': 1,\n",
       "   'selftext': '[Utah]   At the beginning of this month, my son (18) was riding his manual scooter to meet his mother for lunch when he hit a patch of wet concrete.  He was thrown over the handlebars injuring his head, arm and knee.   The head and arm injuries are luckily superficial, but his knee is in a lot of pain.    The doctor has diagnosed a bone contusion in his knee and recommended him to take it easy for 4-6 months while it heals.    We are also getting him an MRI for a closer look.  My son is on his feet all day for work - he is currently off and we are unsure when he heal up enough to go back.\\n\\nThe city cited the contractor who did the work for having no signage AND for no traffic control.   The contractor has sent me their insurance details and their policy limit is $1000.   I feel my son should be able to claim back medical expenses so far, and for loss of income.  This will exceed the $1000 policy limit, so my only option is to sue?'},\n",
       "  {'id': 'hfnp7j',\n",
       "   'num_comments': 1,\n",
       "   'selftext': 'My website sells sports gear from Nike, Adidas, etc but we are NOT in partnership with any of these companies, we are just a third party site.\\nWould it be legal to put their logos on our home page just so our customers are aware of the brands that we sell?'},\n",
       "  {'id': 'hfnp35',\n",
       "   'num_comments': 1,\n",
       "   'selftext': \"A friend of mine works in the fire/water repair industry. While cleaning belongings that were from a house fire he stumbled upon a boys diary. The diary read stories of abuse. Apparently the parents forced him to use enemas and put suppositories in his butt when he didn't want to. His dad yells at him and hits him for not pooping. Sounds like child abuse to me but the date reads 2011. I would assume the victim is no longer a child at this point. Has too much time passed to report this abuse?\"},\n",
       "  {'id': 'hfnn20',\n",
       "   'num_comments': 0,\n",
       "   'selftext': 'I am about to start a band with some old friends and one of their friends. I have roughly 5-10 songs that i have for the most part written, some with lyrics and some without but I am hoping to be the lead singer. If we start playing together and they start adding components to my songs(lead guitar, bass etc.) will I retain the rights to perform and distribute the songs and riffs that I had coming into the band should the band disolve? What about recording? If we record any songs then the band dissolves or they move on to other bands, will I have any rights to perform, record and distribute the songs and riffs I came into the band with?'},\n",
       "  {'id': 'gqzfdz',\n",
       "   'num_comments': 4,\n",
       "   'selftext': \"Here's the situation. My brother works in sales in the state of Georgia. In march his base pay was reduced from $15 an hour to $8 an hour. 30% of staff was laid off. Executives reduced took a 20% pay cut. He is being pressured not to file for partial unemployment, and everyone that has done so has been fired. Does he have any legal ground to stand on? Thanks!\"},\n",
       "  {'id': 'gqzf02',\n",
       "   'num_comments': 2,\n",
       "   'selftext': 'I’ve had so many problems with this teacher, but today in class she started asking students to vote on another students grade. I live in Florida and I’m wondering if this is legal and if not what are my options???'},\n",
       "  {'id': 'gqzeow',\n",
       "   'num_comments': 18,\n",
       "   'selftext': \"Kentucky.\\n\\nI stopped by a friend's house. I noticed a person I didn't like there, so I excused myself. I said goodbye to the host as well as some guests and went to the door and put on my shoes. Person I didnt like saw me, ran in front of me, and stood between me and the door. \\n\\nIs he commiting a crime? What are my rights at this point?\"},\n",
       "  {'id': 'gqzct2',\n",
       "   'num_comments': 6,\n",
       "   'selftext': 'A friend of mine, knowing I am an amateur coin collector, offered me a great deal on a few coins she stated her grandfather was sending her.  I said sure, mostly to help her out.  Once I saw the coins, I thought their were a few strange things about them.  They were app in PCGS slabs, but with same tye of label and same PCGS logo on the back.\\nI said I didn\\'t think they were legit and asked if she could send back to her grandfather.\\nShe said she would take care of it. \\nShe then took 2 of the coins to a coinshop that was closed for covid, but the owner met her and bought 2 coins.  She then went back to him 3 additional times, selling him 2 coins at a time.  Not sure why she did it like that.\\nWell after the last coins, the coinshop owner calls me and says that they are fake coins and that he needs to see all coins I own and that he is sending them all to PCGS and that I or my friend have to pay him $3000 in the next two weeks or he is contacting local police and the secret service and that we will go to prison.\\nApparently he told my friend that they were fake and she said I forced her to take them in to him and that they came from MY grandfather.  Then gave him my name and phone number, allowing for him to contact me and threw me under the bus. \\nI would have referred to her as \"friend\", but didn\\'t want anyone to think that that meant it was actually me.\\nMy question is, should I just pay the guy?  Should I point out the fact he is the professional and offered to buy them after looking at them?  Is he classified as a private buyer since his shop was closed? \\nI don\\'t want negative attention or to be arrested have to prove my Innocence, but I just feel like a lot is wrong here with how it\\'s being handled. Maybe I\\'m lucky he is offering this deal? I don\\'t know and don\\'t know how to find out.'},\n",
       "  {'id': 'gqzbln',\n",
       "   'num_comments': 14,\n",
       "   'selftext': \"I was in the early stages of a divorce &amp; then rona happened. Hadn't filed 2019 taxes yet, instructed by lawyer to wait. Waiting on stimulus since 4/15 only to find out my wife jointly filed 2019 taxes without my tax info and took the whole $2400 on 4/15 and the entire 2019 fed refund. Despite her asking for her half of it in documents her lawyer &amp; my lawyer wanted me to sign since 4/20. If her lawyer knew wouldn't she get in trouble too?\"},\n",
       "  {'id': 'gqzbdz',\n",
       "   'num_comments': 1,\n",
       "   'selftext': 'Hi legal advice reddit,\\n\\nif you don’t feel like reading the whole post I attached simple stats at the bottom\\n\\n\\n\\nLike many others in march I got laid off from my part time job due to covid19. Fortunately I was not reliant on this money so I didn’t have to make any lifestyle changes.\\n\\n\\nAfter I got laid off I heard about the PUA (extra $600 a week) looked into applying for unemployment. After deeply reading the Maryland unemployment guidelines I found out that you had to work a minimum of 20 hours a week to qualify for unemployment, but apparently this could be different in the PUA. Thinking “what do I have to lose” I applied anyway (using legitimate information). I got declined, then saw advice on youtube that for some states you might get accepted the second time, so I applied again. Additionally my state updated their website with covid related questions.\\n\\nThis time I got accepted. The weird part was my state benefit was over 3x my average weekly income.\\n\\nRight now I am saving all of this money in a roth IRA (waiting for the dip lol). I wanted to know if there was any way to check if I am actually entitled to this money, or if it was the state’s error. if it is the state’s error how could I pay the money back?\\n\\n**Simple stats**\\n\\n• I am a 17 year old dependent with financially stable parents\\n\\n• I worked an average of 5.5 hours per week at $11 per hour and my annual income in 2019 was just over $3,500\\n\\n• I applied for Maryland Unemployment first in early April, got denied, then applied again in late April after seeing that a lot of people get declined the first time then get accepted the second time because of the PUA. (I used legitimate information both times when I applied)\\n\\n•Got accepted at $170 per week + $600 per week PUA boost.\\n\\n•Currently saving all of this money\\n\\nQUESTION: Do I actually qualify and if I don’t, can the state take this money back. Also how would I pay this money back?\\n\\n\\n\\nThank you so much, to anyone taking the time to read this. I would love to hear anyone’s thoughts of the situation'},\n",
       "  {'id': 'gqzay1',\n",
       "   'num_comments': 8,\n",
       "   'selftext': 'Alright so I’ll try to keep it to the necessary details and get to the point - \\n\\nMy wife does off and on child care work when she’s available (otherwise she takes care of our son) and I work. We don’t rely on her income and she only works when it’s convenient for her. During the 2019 year she worked several months for a woman taking care of her daughter. The job was inconsistent and the woman had multiple people she would bring in to work and watch her daughter depending on availability. My wife was paid by personal check every week that she worked.\\n\\nWe reported my wife’s income from the woman (a bit south of 3k) on our 1040 on Schedule SE and paid self-employment tax accordingly. We reported her income as self-employed due to the nature of the employment - my wife largely controlled the schedule and other factors. We reported the income as miscellaneous income and did not file schedule C (the woman asked if we filed schedule C and I declined to provide her information unless she explained why she needed it, which she did not).\\n\\nNow comes COVID-19. My wife is no longer able to work since the woman no longer needs child care, and my wife is immune compromised increasing her risk from the virus. Initially we had not planned to file unemployment since my wife was not eligible to our understanding, but then came the CARES act and we jumped on it. We filed her application and it was approved. This is the point where the woman is dragged into this because we listed her as an employer up tot he date of unemployment.\\n\\nThe state appears to have sent her some communication. She texted my wife saying she needed to talk, so we jumped on the phone with her with me there. She comes out of the gate hot, furious about potential penalties, interest, back taxes. Talking about how there’s no paper trail (there is... the checks). She says to my wife “how are we going to deal with this?” And starts rattling off very specific questions about our filings. After a couple questions I took over the call because she was being aggressive and I politely ended the call after telling her she could email me the questions she had and I would research and respond. She declined that approach.\\n\\nCurrently she is communicating by text and we provided her the amount of income we reported from her (the sum of the checks) and advised her that we paid self-employment tax on the income. We also told her the dates we listed as my wife being employed for her on the unemployment application. We provided this in good faith because we’re not interested in her being harmed in this situation. However she continued to ask for more specific details about our filings and I put a halt on it by telling her I’m happy to help but I would need to know why she needed any more private information before I would provide it. She proceeded to deflect and became aggressive again.\\n\\nFor some background on me I have both legal and accounting backgrounds so I have a reasonable base of understanding in those areas but not specific to this situation.\\n\\nThose are the basic details and I will be happy to add more detail as requested. Questions are as follows:\\n\\n1) what is her (the woman) potential exposure here?\\n\\n2) do we have any potential exposure?\\n\\n3) is my approach to her requests for information correct?\\n\\n4) are there any specific steps we should take as this situation unfolds?\\n\\n5) should we cease communication with her?\\n\\nThanks for your help in advance. I made a good faith attempt to ensure this post follows legal advice rules and if I broke any rules please let me know and I will revise my post accordingly.'},\n",
       "  {'id': 'gqz9py',\n",
       "   'num_comments': 6,\n",
       "   'selftext': \"I've actually paid a couple lawyers already and had one take a look at it, the online lawyers I've dealt seemed to just gloss over it and agree with me or not point things out until I actually pointed specifics out. It's only a 3 1/3rd page contract pertaining to a song I wrote and I'd like some advice on how a few paragraphs hold up, thanks.\"},\n",
       "  {'id': 'gqz711',\n",
       "   'num_comments': 3,\n",
       "   'selftext': 'If I’m first PoA, is there a way to remove the next PoA if that person did something to indicate they wouldn’t be trustworthy, get convicted of fraud for example.'},\n",
       "  {'id': 'gqz62u',\n",
       "   'num_comments': 2,\n",
       "   'selftext': 'Hello all,\\n\\nI\\'m an event planner and have been working from home (mostly canceling events) over the past 2 months. Today my department was told they are looking to move employees not doing much at this time to other departments so they weren\\'t \"sitting at home and collecting a check\"\\n\\nIn my case they asked me to potentially move to IT/call center desk, which would be an entirely new position I\\'m not very interested in.\\n\\nWhat would happen if I were to decline? Would they be forced to hold me only to core roles I signed off on when I accepted the position? Would I be eligible for unemployment?\\n\\n\\nThis is in new york state.\\n\\nAny advice would be appreciated, thank you.'},\n",
       "  {'id': 'gqz61n',\n",
       "   'num_comments': 1,\n",
       "   'selftext': 'Hello everyone,\\n\\nMy question is regarding **UK university** assessments and tuition fees for this semester due to the impact of the current situation\\n\\nGenerally, the university calculates the final degree classification using **second** and **third** year results with a weighting of 1/3 and 2/3 respectively for each year\\n\\nThird year consisted of the following:\\n\\n* Project         -  40 credits\\n* Semester 1 -  40 credits\\n* Semester 2 -  40 credits  \\n\\\\_\\\\_\\\\_\\\\_\\\\_\\\\_\\\\_\\\\_\\\\_\\\\_\\\\_\\\\_\\\\_\\\\_\\\\_\\\\_\\\\_\\\\_\\\\_\\\\_\\\\_\\\\_\\\\_\\\\_\\\\_  \\nTotal          =  120 credits\\n\\nI\\'m in my third year and due to the current situation, my university has decided to **cancel** exams for the second semester and instead use marks from previous assessments and exams to calculate a grade for this semester.\\n\\nAnd so as a result about 25 credits from semester 2 are not going to be counted which is about **%13.8** of the degree and could have potentially resulted in a higher final degree classification\\n\\nThe university has also charged full fees for the whole year regardless of the current situation and not counting a significant portion of the degree which is very unfair given that we were charged for it and that it could have improved final grade classification.\\n\\nWhen I outlined the aforementioned points to a representative from my university, they replied with the following:\\n\\n&gt;*The decision around the method being used to calculate final year grades has been finalised ... With respect to the question of fairness, analysis of student performance in previous years suggests that the approach being taken does not have significant impact on final results or degree classifications: the overall effect on the cohort is in fact a very small \\\\*improvement\\\\* in grade averages.*  \\n&gt;  \\n&gt;*With respect to the question of tuition fees and the whole year, we should separate the questions of learning from assessment.*  \\n&gt;  \\n&gt;*There was disruption to the final weeks of the semester. The University took significant efforts to ensure that, through online and alternative methods, teaching was delivered enabling students to learn the materials associated with course units. Tuition fees are primarily about supporting learning, rather than assessment.*  \\n&gt;  \\n&gt;*A final exam is used to determine whether a student has achieved that ILO\\\\[i*ntended learning outcomes\\\\] *and is able to perform the task. The exam does not directly contribute to a student acquiring the ability to describe communication mechanisms, but provides a measure of the ability.*  \\n&gt;  \\n&gt;*I hope this addresses your concerns. As is always the case, if you are ultimately unhappy with results, you will have a right to appeal.*\\n\\n&amp;#x200B;\\n\\n**Side notes:**\\n\\n* The university is a top russell group university in England\\n* I\\'m classed as an international student and therefore charged £20,000 of tuition fees per academic year\\n* The university has also mentioned the following in one of it\\'s earlier updates(around march) but they haven\\'t released any new details regarding \"viva interviews\" yet and so it seems very unlikely\\n\\n&gt;*If you think you could have achieved a higher degree classification had the exams gone ahead, and your* performance\\xa0*profile during your studies supports this, then we’ll give you the opportunity to prove it by a remote viva interview (more details will be provided at a later time).*\\n\\n* The university has not calculated the results for this semester yet\\n\\n&amp;#x200B;\\n\\n**Questions**:\\n\\n1. I haven\\'t replied yet, what should I say in reply?\\n2. Can this be pursed legally(or within the university) so that they either\\n   1. refund me 25 credits worth of fees for this academic year (**preferred**)  or,\\n   2. consider examining me for the cancelled exams\\n3. is there anything else I can do?'},\n",
       "  {'id': 'gqz4qa',\n",
       "   'num_comments': 6,\n",
       "   'selftext': 'I am on a 12 month lease agreement with my good friend that we signed on May 1st. He is the primary roommate on the lease and is threatening to take me off and evict me because I turned the thermostat down even though we split utilities. Is this legal even if I didn’t violate the lease? Should I speak with the leasing office in terms of our lease agreeement?'},\n",
       "  {'id': 'gqz3tv',\n",
       "   'num_comments': 8,\n",
       "   'selftext': 'Bail bonds/Lein on mortgage? How does this work?\\n\\nWe’ve recently been gifted a house from a family member, there is very little left on the mortgage.\\nWe just found out that there is a lein on the house for another family members bail bond. That family member has since been arrested while on parole and is awaiting the next court date.\\nWhat happens if he gets convicted? Will the court take the house? What if he doesn’t get convicted?\\nWhat if we pay off the house before that?\\nWhat if we pay off the amount of the bond?\\nBasically...is there ANY option that doesn’t result in us losing the house !? Or should we deny the house all together ?\\nThe downfall is that we’ve already put 1k$ into renovations and we’re planning to put another 1500$ in next week.\\nDoes this ruin everything?'},\n",
       "  {'id': 'gqz3fc',\n",
       "   'num_comments': 1,\n",
       "   'selftext': \"As stated in the title, I recently filed to incorporate, and elected to be taxed as an S corporation in the state of New York. I am a minor, and I used bizfilings to get my paperwork through. In doing so, I elected myself to the board of directors, and made myself the President of my company. I received my corporation's state filing documents from bizfilings today, and, in reviewing them, discovered that the incorporator must be at least 18 years of age in New York. Is there any sort of penalty that myself or my family might be faced with as a result of my actions? And, if not, am I able to file a DBA to move my corporation to a state like Delaware where minors may serve as directors?\"},\n",
       "  {'id': 'gqz1zt',\n",
       "   'num_comments': 6,\n",
       "   'selftext': \"I'm hoping this won't come to legal action, but my rental company is notorious for lawsuits and being slumlords so I'm getting my bases covered.\\n\\nI'm a graduate student and have been unable to secure a summer job / income. Back in April, when it was uncertain whether I'd be able to get any job and when (not to mention if school would reopen), I contacted my landlord inquiring about early lease termination. He responded by saying there was no early termination fee due to the pandemic and that if I needed to move he only needed a date of vacancy letter. I offered to find a new tenant myself because I felt bad about having to leave, but he declined and said there was no need.\\n\\nAfter some haggling over email I managed to get it in writing.\\n\\nApril 22nd:\\n\\n&gt; *SlowCauliflower:*  \\n&gt;  \\n&gt;*You don't have to look for a replacement tenant for us, we have an army of real estate agents renting for us.  If you need to vacate your current apartment, all we requires is a 30 days notice.  I will need an intend-to-vacate letter stating your last date, name(s), address, and hand signature.*  \\n&gt;  \\n&gt;*Due to the current situation, there is no penalty for lease-break and your deposits will be return to your forwarding address.  This email serve as your receipt for this purpose.*\\n\\nI sent the intent to vacate letter on May 12th after securing cheaper housing for September. I did not receive anything back so yesterday, on the 25th, I reached out to confirm the landlord received the letter. Today he emailed me stating that I'm on the hook for all the typical early termination fees (broker, rent until lease ends or new tenant comes along).\\n\\nI responded referencing his email that states there's no fee. He responded asking for proof of job loss.\\n\\nHad I been told this would be required, I would have acted differently, but I was not made aware through our phone conversation or in writing that this is required. I'm a student and was applying for summer jobs/internships around the time shit hit the fan and furloughs, shut downs, and lay offs came rolling through. I don't have a job I lost, but I missed a few months of income I had planned on having and there is only uncertainty now about getting a new job during this time.\\n\\nIf I had to take this to court, would the original email from him stating there's no termination fee and listing no other requirements count in my favor? \\n\\ntl;dr: Landlord stated in writing there was no fee for early termination due to covid, is now backtracking and requiring things that were not discussed.\"},\n",
       "  {'id': 'gqz03o',\n",
       "   'num_comments': 0,\n",
       "   'selftext': \"I am based in the US and paying an artist located in Brazil for images. How would I go about of obtaining 'ownership' of these images (as I intend to use them in my business)? Do I need a form for him to sign, and if so where do I find it?\"},\n",
       "  {'id': 'gqyz08',\n",
       "   'num_comments': 9,\n",
       "   'selftext': 'Hey guys,\\n\\n~Firstly I’m sorry if this is the wrong place for this~\\n\\nI’m home from college right now due to covid, and staying with my family of 5. Each member has their own car (go carbon footprint \\U0001f973), and as such, theres only room for 4 in the driveway. Back when I was home, I would get stickers on my car all the time for parking on the street overnight, as its against the neighborhood parking code, but nothing would ever happen. As far as the code goes, parking cannot be done on the street or grass, and driveways cannot be extended. The solution is to park in the “community lot” located in the center of the neighborhood, however, due to the virus, this lot is closed. So, upon leaving my car on the side of the road in front of my abode, I woke in the morning to find it towed, and had to pay a hefty bill for a college student. I’d like to talk with a representative of the master’s association in the neighborhood about a reimbursement, but I’d be greatly appreciative if anybody had any knowledge of what I could come in with as far as legality of them having my car towed, or if this is in any way feasible at all.\\nThanks!'},\n",
       "  {'id': 'gqyur6',\n",
       "   'num_comments': 2,\n",
       "   'selftext': 'Shouldn’t they have a warrant before we answer any questions? Or is a phone call enough probable cause to raid the place like every police officer does it? Small border town in Texas, cops are known for violating rights since a lot of people aren’t familiar with them / don’t even speak English.'},\n",
       "  {'id': 'gqyu5i',\n",
       "   'num_comments': 3,\n",
       "   'selftext': 'I recently turned in a timecard and I was immediately told by my HR &amp; Office manager that I had not written down a lunch taken on one of the days. I worked exactly five hours that day and, according to my understanding of the CA labor laws, it states a break period must be taken at \"more than five hours worked\".\\n\\nShe stated that, via the company\\'s internal audit system, she went by a guideline of a lunch having to be taken at five or more hours worked, which is obviously distinct from what I read in the CA labor laws. I dont know much about how internal auditing works but I would expect that the guidelines for the audit would have to be consistent with CA labor laws.\\n\\nMy question would why is there a discrepancy between the CA labor laws and the internal auditing checklist of my company, is this discrepancy legal for whatever reason?'},\n",
       "  {'id': 'gqyu20',\n",
       "   'num_comments': 3,\n",
       "   'selftext': 'Hello.  I’m 31 male \\nFrom Pennsylvania. We are allowed to open carry and conceal carry with a permit.  \\nAbout 5 years ago I applied for a conceal carry permit the same day with a guy that lived with me who has a felony in Florida.  He was approved and I was denied due to the reason I was admitted to the hospital for “suicidal thoughts” when I was 14 years old.  \\nBack then they had me on all types of meds and it made everything worse.  \\nI haven’t been on any medication since 2006.  And I’m mentally stable.  \\nIs there any way to have that expunged from my record? They told me mental history doesn’t come off of your record\\nI don’t own any guns but my dad is leaving me a ton.  I don’t want them taken away if the state says I can’t have them.'},\n",
       "  {'id': 'gqyty1',\n",
       "   'num_comments': 5,\n",
       "   'selftext': 'I\\'ll explain that better: \\n\\nFor the ones who don\\'t know, a ghost-production is a 100% finished song which I produced and sold to a client who buy that to obtain 100% of the rights of that track, so it would look like he made it by himself, basically. This is a real common thing in the music industry, where people (X) pay other producers (Y) to create tracks to release under X name, without Y getting involved anymore. \\n\\nNow, things are getting quite big: I got a couple of usual clients who buy me tracks once or twice a month, plus some occasional clients which buy a track once, or do the same with other music-related services. \\n\\nSince the average price for a track goes from 1000$ to even 2000$ (it depends on some things), I\\'m earning a considerable amount of money, for which I feel I\\'ll soon come across some checks made by the financial police (if this could help, I\\'m from Italy). \\n\\nHow can I \"go legit\" with this business? What should I do?'},\n",
       "  {'id': 'gqytgj',\n",
       "   'num_comments': 3,\n",
       "   'selftext': 'I thought confidentiality meant a therapist could not share any information you tell them according to HIPPA. I told a therapist some information and now he has shared all my information aside from anything that would specifically connect that to me such as my name. But given the circumstance, it is pretty obvious to that other person that the therapist was talking about me so now my information that I thought was going to be confidential is out there. Where does this situation stand legally?'},\n",
       "  {'id': 'gqysdh',\n",
       "   'num_comments': 14,\n",
       "   'selftext': 'So I just got an email that my check was cashed about a month ago. I never received a check so I called HR. They said that they will connect me with the legal team to sign an affidavit. They said that either an email or letter will come soon. Should I do anything on my part while I wait for my check? Like call my bank? My bank statements show that I never deposited a check and I have previous check with my signature on them as proof\\n\\nI’ve never had anything to do with legal stuff so I’m scared that this will be expensive, just to get my check back. They said that it will take up to 120 days for the investigation to come to a conclusion.'},\n",
       "  {'id': 'gqyrzj',\n",
       "   'num_comments': 99,\n",
       "   'selftext': 'We live in Illinois. My son is 2.5 years old and sees his dad every other weekend from 5 pm Friday to 5 pm Sunday and every Tuesday from 9-5. His dad has been with his wife for 1 year 8 months total. Married for about 6-7 months.\\nThe conflict is that his dad is deploying in mid-June and he’ll be gone until about mid-May. He wants his wife to keep visitation with my son and I’m not comfortable with it. I don’t know her very well, my son is not old enough to tell me if he wants to see her alone or if anything is wrong, and I have told them that whenever she wants to see him, she can. I would go there or she could come here.\\nHe just told me this morning that he’s going to take me to court after he gets back from his deployment since I have said I’m uncomfortable with giving visitation at this time. I’m wondering if he has a leg to stand on and/or if I’m being unreasonable. Thank you in advance.'},\n",
       "  {'id': 'gqypbl',\n",
       "   'num_comments': 5,\n",
       "   'selftext': \"I live in Florida. Summer of 2018, my parents were going through a very nasty divorce and my dad was actually stealing mail from my mom's house, which resulted in her not receiving notice that autopay for our health insurance was turned off and they cancelled our insurance from lack of payment. Meanwhile, the endless family drama was sending me, then 22, into the beginnings of what would become life-changing depression. My mom made me appointments with a doctor and I saw her a few times. We didnt know that our insurance had lapsed. So now I'm receiving calls every day from a collections company for over a thousand dollars in unpaid medical debts. I never even got a bill or notice or anything.\\n\\nThe lady on the phone said I have no choice but to pay it. My mom said if I ignore it it will go away but hurt my credit. I'm already 32k in the hole from student loan debt from a useless masters degree and just recently was able to get a job at a restaurant. \\n\\nWhat should I do? Please help, I am totally lost here and panicking a little :(\"}]}"
      ]
     },
     "execution_count": 8,
     "metadata": {},
     "output_type": "execute_result"
    }
   ],
   "source": [
    "#assigning to new variable doesn't simply make a copy, any change to extended... is also made to submissiondata\n",
    "#extendedsubmissiondata['data'] = submissiondata['data']\n",
    "submissiondata['data'].extend(submissiondata2['data'])\n",
    "submissiondata"
   ]
  },
  {
   "cell_type": "markdown",
   "metadata": {},
   "source": [
    "determine what to filter out and how: newlines, extra spaces, quotes from other comments, moderators (comments that start with \"Your post may have been removed for the following reason(s):\")"
   ]
  },
  {
   "cell_type": "code",
   "execution_count": 33,
   "metadata": {
    "scrolled": true
   },
   "outputs": [
    {
     "data": {
      "text/plain": [
       "'Embarrassing Bonus questions, if you feel like it: If I get randomly drug tested at work (barista), can I get arrested?  If I get fired, is that going to end up in some kind of legal record that all future employers can see?'"
      ]
     },
     "execution_count": 33,
     "metadata": {},
     "output_type": "execute_result"
    }
   ],
   "source": [
    "import re\n",
    "#m = re.search('\\*Your post may have been removed for the following reason\\(s\\)\\:\\*',threadlist[48]['comments'][0])\n",
    "\n",
    "pattern_quoted = r'&gt;[\\w\\s’.?/()]*\\n\\n'\n",
    "#can delete the first word of the next sentence too, but seems like a small loss\n",
    "pattern_url = r'https://[\\w/#:?._~-]*'\n",
    "\n",
    "#pattern is probably too specific\n",
    "#will accept any number of \\n, \\n\\n&amp;#x200B;\\n\\n, and &amp;\n",
    "#pattern_spaces = r'((\\n)+(&amp;(#x200B;)?)*)+|((\\n)*(&amp;(#x200B;)?)+)+'\n",
    "pattern_spaces = r'(\\n|(&amp;(#x200B;)?)|-\\t)+'\n",
    "pattern_stars = r'\\*+'\n",
    "pattern_whitespace = r'(\\s)+'\n",
    "pattern_dashes = r'(-)+'\n",
    "\n",
    "test_comment = \"Embarrassing Bonus questions, if you feel like it:\\n\\n-\\tIf I get randomly drug tested at work (barista), can I get arrested? \\n-\\tIf I get fired, is that going to end up in some kind of legal record that all future employers can see?\"\n",
    "re.sub(pattern_spaces,' ', test_comment)\n",
    "#m = re.search(pattern_spaces, test_comment)\n",
    "#m.group()"
   ]
  },
  {
   "cell_type": "code",
   "execution_count": 29,
   "metadata": {},
   "outputs": [],
   "source": [
    "import re\n",
    "def preprocess(threadlist):\n",
    "    \n",
    "    def clean(threadlist):\n",
    "        for i in range(len(threadlist)):\n",
    "            #delete urls\n",
    "            pattern_url = r'https://[\\w/#:?._~-]*'\n",
    "            #threadlist[i]['submission'] = re.sub(pattern_url,'', threadlist[i]['submission'])\n",
    "            for j in range(len(threadlist[i])):\n",
    "                threadlist[i][j] = re.sub(pattern_url,'', threadlist[i][j])\n",
    "        \n",
    "            #replace quoted stuff, &gt;[a-zA-Z0-9?.,:;() ]\\n\\n with whitespace\n",
    "            #doesn't always have to end in \\n\\n, if it doesn't, just delete until setence ends\n",
    "            pattern_quoted = r'&gt;([\\w\\s’.?/,()]*\\n\\n|[\\w\\s’/,()]*)'\n",
    "            #threadlist[i]['submission'] = re.sub(pattern_quoted,' ', threadlist[i]['submission'])\n",
    "            for j in range(len(threadlist[i])):\n",
    "                threadlist[i][j] = re.sub(pattern_quoted,' ', threadlist[i][j])\n",
    "            \n",
    "            #replace \\n or \\n\\n&amp;#x200B;\\n\\n or \\n\\n or &amp; or \\n-\\t with white space\n",
    "            pattern_spaces = r'(\\n|(&amp;(#x200B;)?)|-\\t)+'\n",
    "            #threadlist[i]['submission'] = re.sub(pattern_spaces,' ', threadlist[i]['submission'])\n",
    "            for j in range(len(threadlist[i])):\n",
    "                threadlist[i][j] = re.sub(pattern_spaces,' ', threadlist[i][j])\n",
    "    \n",
    "            #delete stars\n",
    "            pattern_stars = r'(\\*)+'\n",
    "            #threadlist[i]['submission'] = re.sub(pattern_stars,'', threadlist[i]['submission'])\n",
    "            for j in range(len(threadlist[i])):\n",
    "                threadlist[i][j] = re.sub(pattern_stars,'', threadlist[i][j])\n",
    "           \n",
    "            #reduce all multiple whitespaces to 1\n",
    "            pattern_whitespace = r'(\\s)+'\n",
    "            #threadlist[i]['submission'] = re.sub(pattern_whitespace,' ', threadlist[i]['submission'])\n",
    "            for j in range(len(threadlist[i])):\n",
    "                threadlist[i][j] = re.sub(pattern_whitespace,' ', threadlist[i][j])\n",
    "            \n",
    "    def deleteIrrelevantComments(threadlist):\n",
    "        mod_pattern = 'Do not reach out to a moderator personally, and do not reply to this message as a comment.'\n",
    "        for i in range(len(threadlist)):\n",
    "            j = 0\n",
    "            while j < len(threadlist[i]):\n",
    "                if (threadlist[i][j]=='[removed]' or threadlist[i][j]=='[deleted]' or re.search(mod_pattern,threadlist[i][j]) != None or len(threadlist[i][j])==0):\n",
    "                    del threadlist[i][j]\n",
    "                j+=1\n",
    "    \n",
    "    deleteIrrelevantComments(threadlist)\n",
    "    clean(threadlist)"
   ]
  },
  {
   "cell_type": "code",
   "execution_count": 30,
   "metadata": {},
   "outputs": [
    {
     "name": "stdout",
     "output_type": "stream",
     "text": [
      "CPU times: user 4.13 ms, sys: 120 µs, total: 4.25 ms\n",
      "Wall time: 6.69 ms\n"
     ]
    }
   ],
   "source": [
    "%%time\n",
    "import copy\n",
    "copythreadlist = copy.deepcopy(threadlist)\n",
    "preprocess(threadlist)"
   ]
  },
  {
   "cell_type": "code",
   "execution_count": 31,
   "metadata": {},
   "outputs": [
    {
     "data": {
      "text/plain": [
       "[['In July of 2016 I was in a car accident in NH, at the time I was 16. I was under the impression that I had car insurance, however that was not the case. I came from a poor family so I didn’t have money for a lawyer so I agreed to pay an amount to both parties every month . After a few years I couldn’t do it anymore so I stopped, fully aware of the consequences. My license was suspended in the state of NH, if I were to get it back I’d need sr-22 and to pay quite a bit of money. For personal reasons I moved to Illinois and legally changed my first and middle name. I haven’t been able to drive for a while now, I miss the freedom. Is there an easy way I can get it back? Can I just get one from Illinois and no one will know? Can I get in trouble for that? What if I took driving school again and applied for a license after? Any help is greatly appreciated, thank you so much for your help!',\n",
       "  'Both IL and NH are members of the interstate license compact, so as long as NH has your license suspended you can get a new one. Pay off what you owe in NH to get the license'],\n",
       " [\"I get the sarcasm. I wasn't paying attention and I'm apologizing for it.\",\n",
       "  'I’m sure you were in a bigger hurry than they were.',\n",
       "  'No, just a middle finger from the ambulance driver'],\n",
       " [\"Not going to get into details but the police think I know a lot about activities that I don't really know about. They are asking me questions and hinting at monetary rewards. Can I lie to them by telling them I have the info they want and then giving them a bunch of nonsense. Will they wait to verify the info before compensating me? Can I go to jail for lying? I don't really care about police time, they've been borderline harassing me so If I was able to send them on a wild goose chase that would be like two birds.\",\n",
       "  'Making false statements to police for the purpose of interfering with an investigation is by itself a crime. Even civilian bounty programs like CrimeStoppers only pays out after a felony arrest. Consider the possible outcome of police and prosecutors relying on anonymous false information and a falsely arrested person pleading guilty to avoid the trial sentencing penalty. Would you rather be known in the community as a snitch, or as a person who got somebody sent to prison falsely for the reward money ? Or better... both !',\n",
       "  'Yes the police are going to verify your bullshit before offering a reward. If you want to increase the frequency of police interactions you have then go for it, otherwise this is a terrible idea.',\n",
       "  'False statements are not a good idea and usually money has to lead to arrest',\n",
       "  'sounds like fraud and obstruction of justice, but im NAL.',\n",
       "  'this is a terrible idea.'],\n",
       " [\"Hello, My wife and I bought our first house (it was a flip) and moved in last weekend. We have encountered two large issues since being here. First is that we have a main line blockage making the house basically not usable as we can't run any water for more than a minute or two without the shower flooding. We got a home warranty but they denied the claim to fix it because we don't have a ground level clean out for the main sewer line. Also, the AC is having issues as well because the flippers decided to convert the garage into more livable space and add more ducting without adding another return. They also put a 5 ton (new!) HVAC unit on the roof but the only return in the house is too small for it (I had an AC guy come out yesterday to look at it). This causes awful airflow through the house and only about half the house cools properly. The other side (where they added the new ducting) gets hardly any airflow. This makes it to where the AC will run pretty much all day and never cool the house under 84 during the day (even though the unit is blowing cold air). This overworking causes the AC unit to freeze over occasionally. The AC guy quoted my $4k to fix the ducting (not including drywall repair) and I have no idea how much this main line blockage is going to cost as it could possibly be a broken pipe. We had a home inspection done during the home buying process and neither of these issues were found. I reached out to my realtor and she recommended contacting a real estate attorney. How could this help (I assume we try to get money from the seller)? And would the costs of getting an attorney cost more than to just fix the issues?\",\n",
       "  'We have reached out to a real estate lawyer. We have had two AC people come out. Both said our return was way too small (it is 13\" when they said it should be minimum of 18\") and that ideally we should have another return on the other side of the house.',\n",
       "  'Thanks! We went through Redfin so I will ask.',\n",
       "  'We had a home inspector. Paid $300 for it. Did not find either issue.',\n",
       "  'This is what home inspections are for',\n",
       "  'You need to hire a real estate lawyer to look over contract and disclosure laws. Get a report from ac person about ducts',\n",
       "  'It seems that your problems are outside of your real estate agents realm of knowledge. If she/he worked for a reputable agency, usually have lawyers available for certain problems. They should be able to consult with you. This is part of what you pay for when paying their high commissions. Talk to your realtors supervising broker. They should know if the agencies lawyers will be able to help with your specific situation.'],\n",
       " ['I [F20] went to a party last weekend and was sexually assaulted by a guy [M21] that I was kind of aquatinted with. I had seen him around town before and we go to the same Uni (small town). I went to the PD to report it. Apparently the guy that sexually assaulted me is the son of Chief of Police. As I’m reporting this incident. He/ deputies kept trying to invalidate me, made it seem like i was making it up, etc. A chief deputy even asked me how did I feel about the police killings of black people (I’m black, the son is white btw.. not that it should matter) I told him that had nothing to do with what I was reporting. They chuckled?? They then asked if I had been drinking and I said just a little bit, not much. They said that since I’m 20 it’s illegal for me to drink and kind of threatened to suspend my license or a fine me. They ended up letting me go after letting me write a “statement”. I called to follow up this week and I haven’t gotten any calls back or spoken to ANYONE there. Can someone please tell me what I can do to help my case? I feel like I should let it go but I don’t want him to get away with what he did. It wasn’t right. I try to defend myself and I’m treated like a criminal ?? It’s so messed up. I am in the United States.',\n",
       "  'Contact a lawyer about it since he is COP you will need some good who can legally represent you'],\n",
       " ['Background: For the past 20+ years my mom has lived with her boyfriend and also worked as his employee. The have a home/office. My grandmother also lives there and is paying rent to be in the extra room where my mom can take care of her. He is the owner of the business and recently accepted the bailout/loan/government money for his business. My understanding is that by accepting that money there is a condition to not fire/layoff anyone. Recently he had an episode, the result of which was firing all of his staff including my mom. My mom is attempting to collect unemployment but has no proof that she is unemployed now as he is refusing to provide documentation. Initially he was seeking to \"cut a deal\" with her where he pays her off the books in cash and does not charge her rent to stay there in exchange for her not filing. I believe he has defaulted on the terms on the government money and is trying to avoid having to give it back. Recently he has been saying that he will give her the paperwork to file but he still needs her to do her job as she runs an area of the company he is unequipped to do himself. As they have been in a relationship for 20+ years, he has always been successful in convincing my mom whats best for him is also good for her. My mom does not know her rights in the situation and has so far denied advice to seek legal help as she is afraid of the cost. I believe she is also afraid that by involving a legal entity could cause him to erupt. He is known to have a temper. I am trying to convince my mom to not pursue an \"off the record\" solution as I believe she has the legal high ground here and might lose it if she puts herself in a legally questionable situation. Any advice would be appreciated.',\n",
       "  \"If she does any work for him, he needs to pay her or it's fraud and the state Unemployment office will have a lot of questions. Tell her to file with what information she has, and expect to be contacted by the state unemployment office for more information. If he refuses to provide paperwork to them, he's just setting himself up for more problems. Her UI might be delayed, but she should be able to work around his shenanigans.\"],\n",
       " ['So my Dad and I had a falling out and he refuses to return my motorcycle or encloses trailer. It\\'s irreparable and I prefer it this way. I was storing my race motorcycle and trailer there and wasn\\'t in a hurry to collect it because I don\\'t have the space to store it. But I recently found out that he\\'s been using my trailer without consent or notice. I did have it locked up so he must have cut the lock and chain. The ownerships for both are on my name but address is where it is stored. I\\'m currently changing the ownerships to reflect my home address and am in possession of them. 1) Is there a way I can put a \"stop use\" on the trailer so he can be pulled over if he\\'s stopped with it? 2) I plan to call my local police department to help facilitate me collecting both motorcycle and trailer. Is there anything I need to specifically ask for? 3) There is also a slight possibility that he has moved the motorcycle and trailer to his farm property or cottage. What should I do if I show up and these aren\\'t there anymore? 4) He also has my racing equipment and items that I have receipts for. But some things I don\\'t (ie: spare set of rims and motorcycle parts and gear). Will I be able to collect these too or will I be limited to what I have proof of ownership of. My brother has also recently been hired as police constable as well. He says he doesn\\'t want to be involved but I\\'m pretty sure he\\'s been present when they make their cottage trips using my trailer. My Dad is very aggressive and I don\\'t want to knock on the door and THEN call. I\\'ve asked for these things many times and he\\'s refuses to deliver them and threatened to charge me with trespassing if I walk into the premises.'],\n",
       " [\"My girlfriend recently got into her first car accident while at work, but it was with her boss' car. The accident requires roughly $3500 in repairs to the other car involved but my gf boss doesn't have the right insurance and so they won't pay for anything. My girlfriend has insurance but they won't cover it because it is only for her own car obviously. So the $3500 is supposed to come out of someone's pocket which doesn't make sense to me to begin with. Her boss wants my girlfriend to pay for it and even fired her within the same week. She used some business terms to make it sound like it was a business decision but it was definitely because of the accident, it just wasn't the same after it occurred according to my gf. Is there any advice I can get to help her out? I don't think she should be paying out of pocket for the whole $3500 like her boss wants because if she had the right insurance, it would've been covered, that's on her in my eyes. Edit: I forgot to add I live in Iowa, in the United States.\",\n",
       "  'NAL, but did this accident occur while she was working for said boss? If so, it should be the businesses responsibility to carry proper insurance. I would think that your gf has 0 responsibility to cover any non malicious dmg.',\n",
       "  'The \"right kind of insurance\"... Was she performing work duties in a car insured for personal use only? Question: If she was performing work duties, then does the accident fall under vicarious liability?',\n",
       "  \"Insurance adjuster here. Both insurance companies owe you denial letter explaining why they are denying your claim. Typically insurance follows the vehicle, so if the owner's insurance denied it, you were right to go to the driver's insurance. The driver's insurance will want a copy of your denial letter from the owner's insurance. Ask them to review coverage again and get their response in writing. If the driver's insurance is still unable to assist, then it is highly likely that your girlfriend is on the hook for the cost of repairs.\",\n",
       "  'If your girlfriend had the “right” insurance, it would have covered it too. You can appeal both insurance companies’ decision but your girlfriend wrecked the car and it’s her responsibility here.'],\n",
       " [\"I apologize for having such a specific question, but for over 8 months since being stationed in Japan I have walked past an abandoned sports car thats just sitting in a parking stucture on base. There is a thick layer of dust on it and it sucks to see because it's a dream car of mine. I have talked to many others who say they have tried to contact the previous owner with no success and who claim weird ways to take ownership of it but have yet to do it. Unfortunately from the limited information I've been able to get for Japanese abandoned car/property law and abandoned car laws for military installations it doesn't look too promising, which is quite a shame being what kind of car it is. Is there anything that can be done? Or am I forced to see a classic Japanese car rot?\"],\n",
       " [\"I work remotely (in Oregon) for a company that is headquartered in NJ. Most full-time employees receive 2 to 3 weeks' vacation per year. According to our company handbook, time that is not used in one year may be carried over to the first quarter of the following year -- if not used by that point, it is lost. You can also elect to be paid for unused vacation time. As part of the Covid crisis, my employer recently sent an email saying that all caryover vacation and cash payouts have been cancelled. Is there any kind of workplace law that covers this? Vacation is notoriously hard to schedule -- we are chronically understaffed and work in a client-focused industry where we often have to cancel or reschedule vacation time at the last minute to accommodate some client demand. I always end up with carry-over vacation because it's so hard to use before the end of the year, and I'm concerned that I'm going to end up losing a lot of PTO.\",\n",
       "  'Yes, thanks to at-will employment, you are legally allowed to quit at any time.']]"
      ]
     },
     "execution_count": 31,
     "metadata": {},
     "output_type": "execute_result"
    }
   ],
   "source": [
    "threadlist"
   ]
  },
  {
   "cell_type": "markdown",
   "metadata": {},
   "source": [
    "request ~5000 submissions"
   ]
  },
  {
   "cell_type": "code",
   "execution_count": 78,
   "metadata": {},
   "outputs": [
    {
     "data": {
      "text/plain": [
       "{'aggs': {'created_utc': [{'doc_count': 43837, 'key': 1585324800},\n",
       "   {'doc_count': 55200, 'key': 1585328400},\n",
       "   {'doc_count': 56027, 'key': 1585332000},\n",
       "   {'doc_count': 54476, 'key': 1585335600},\n",
       "   {'doc_count': 54545, 'key': 1585339200},\n",
       "   {'doc_count': 54462, 'key': 1585342800},\n",
       "   {'doc_count': 49773, 'key': 1585346400},\n",
       "   {'doc_count': 49272, 'key': 1585350000},\n",
       "   {'doc_count': 45993, 'key': 1585353600},\n",
       "   {'doc_count': 43998, 'key': 1585357200},\n",
       "   {'doc_count': 40958, 'key': 1585360800},\n",
       "   {'doc_count': 38828, 'key': 1585364400},\n",
       "   {'doc_count': 36888, 'key': 1585368000},\n",
       "   {'doc_count': 33337, 'key': 1585371600},\n",
       "   {'doc_count': 31432, 'key': 1585375200},\n",
       "   {'doc_count': 29586, 'key': 1585378800},\n",
       "   {'doc_count': 27700, 'key': 1585382400},\n",
       "   {'doc_count': 28612, 'key': 1585386000},\n",
       "   {'doc_count': 34133, 'key': 1585389600},\n",
       "   {'doc_count': 33910, 'key': 1585393200},\n",
       "   {'doc_count': 37758, 'key': 1585396800},\n",
       "   {'doc_count': 41030, 'key': 1585400400},\n",
       "   {'doc_count': 46402, 'key': 1585404000},\n",
       "   {'doc_count': 49069, 'key': 1585407600},\n",
       "   {'doc_count': 9883, 'key': 1585411200}]},\n",
       " 'data': []}"
      ]
     },
     "execution_count": 78,
     "metadata": {},
     "output_type": "execute_result"
    }
   ],
   "source": [
    "#how many posts are made a day? about 1000000 per day, 30000-50000 per hour\n",
    "r = requests.get('https://api.pushshift.io/reddit/search/submission/?before=90d&after=91d&aggs=created_utc&frequency=hour&size=0')\n",
    "json.loads(r.text)"
   ]
  },
  {
   "cell_type": "code",
   "execution_count": 93,
   "metadata": {},
   "outputs": [],
   "source": [
    "def addSample(submissionlist, size, before, after):\n",
    "    payload = {'fields': ['id','selftext', 'num_comments'],\n",
    "             'subreddit':'legaladvice', \n",
    "             'size': str(size),\n",
    "             'mod_removed':'false',\n",
    "             'before':str(before)+'d',\n",
    "             'after':str(after)+'d'}\n",
    "    sample = makeRequest('https://api.pushshift.io/reddit/search/submission/', payload)\n",
    "    submissionlist['data'].extend(sample['data'])\n",
    "    return submissionlist"
   ]
  },
  {
   "cell_type": "code",
   "execution_count": 39,
   "metadata": {},
   "outputs": [],
   "source": [
    "import os\n",
    "#threadlist[i] = {'submission': \"\", 'comments':[]}\n",
    "def makeTextFiles(threadlist, nextStartNum):\n",
    "    dir_name = '/Users/soumyadugg/reddit_topic_modeling/legal_advice_files'\n",
    "    \n",
    "    for i in range(len(threadlist)):\n",
    "        file = os.path.join(dir_name, 'doc'+ str(nextStartNum+i)+'.txt')\n",
    "        f = open(file,'w')\n",
    "        \n",
    "        #should already be edited\n",
    "        for j in range(len(threadlist[i])):\n",
    "            f.write(' ' + threadlist[i][j])\n",
    "        \n",
    "        f.close()"
   ]
  },
  {
   "cell_type": "code",
   "execution_count": 40,
   "metadata": {},
   "outputs": [],
   "source": [
    "makeTextFiles(threadlist,0)"
   ]
  },
  {
   "cell_type": "code",
   "execution_count": null,
   "metadata": {},
   "outputs": [],
   "source": [
    "#take 5 samples each size = 1000 and a couple months separated, pre-Covid\n",
    "submissiondata = {'data':[]}\n",
    "submissiondata = addSample(submissiondata,1000,540,541)\n",
    "submissiondata = addSample(submissiondata,1000,480,481)\n",
    "submissiondata = addSample(submissiondata,1000,420,421)\n",
    "submissiondata = addSample(submissiondata,1000,360,361)\n",
    "submissiondata = addSample(submissiondata,1000,300,301)\n",
    "threadlist = makeThreadList(submissiondata['data'])\n",
    "preprocess(threadlist)"
   ]
  },
  {
   "cell_type": "markdown",
   "metadata": {},
   "source": [
    "My previous way of doing things didn't work because making a big list of jsons takes up too much memory. Next method is to add 100 textfiles at a time to the folder, repeating in a loop"
   ]
  }
 ],
 "metadata": {
  "kernelspec": {
   "display_name": "Python 3",
   "language": "python",
   "name": "python3"
  },
  "language_info": {
   "codemirror_mode": {
    "name": "ipython",
    "version": 3
   },
   "file_extension": ".py",
   "mimetype": "text/x-python",
   "name": "python",
   "nbconvert_exporter": "python",
   "pygments_lexer": "ipython3",
   "version": "3.6.7"
  }
 },
 "nbformat": 4,
 "nbformat_minor": 2
}
