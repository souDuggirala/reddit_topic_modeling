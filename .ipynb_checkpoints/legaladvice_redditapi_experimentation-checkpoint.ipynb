{
 "cells": [
  {
   "cell_type": "code",
   "execution_count": 1,
   "metadata": {},
   "outputs": [],
   "source": [
    "import pandas as pd\n",
    "import json\n",
    "import requests\n",
    "import matplotlib.pyplot as plt\n",
    "import nltk"
   ]
  },
  {
   "cell_type": "markdown",
   "metadata": {},
   "source": [
    "retrieved data of comments and submissions and put them into textfiles"
   ]
  },
  {
   "cell_type": "raw",
   "metadata": {},
   "source": [
    "payload = {'subreddit':'legaladvice','fields':['selftext','body'], 'size':'1000'}\n",
    "subr = requests.get('https://api.pushshift.io/reddit/search/submission/', params = payload)\n",
    "comr = requests.get('https://api.pushshift.io/reddit/search/comment/', params = payload)"
   ]
  },
  {
   "cell_type": "raw",
   "metadata": {},
   "source": [
    "data = json.loads(subr.text)\n",
    "data"
   ]
  },
  {
   "cell_type": "code",
   "execution_count": 4,
   "metadata": {},
   "outputs": [],
   "source": [
    "data2 = json.loads(comr.text)"
   ]
  },
  {
   "cell_type": "raw",
   "metadata": {
    "scrolled": true
   },
   "source": [
    "import os\n",
    "dir_name = '/Users/soumyadugg/reddit_topic_modeling/legal_advice_data'\n",
    "for i in range(1000):\n",
    "    print(i)\n",
    "    file = os.path.join(dir_name, 'doc'+ str(i)+'.txt')\n",
    "    f = open(file, 'w')\n",
    "    if (bool(data['data'][i])):\n",
    "        f.write(data['data'][i]['selftext'])\n",
    "    f.close()"
   ]
  },
  {
   "cell_type": "raw",
   "metadata": {},
   "source": [
    "dir_name = '/Users/soumyadugg/reddit_topic_modeling/legal_advice_data'\n",
    "for i in range(1000):\n",
    "    print(i)\n",
    "    file = os.path.join(dir_name, 'cdoc'+ str(i)+'.txt')\n",
    "    f = open(file, 'w')\n",
    "    if (bool(data2['data'][i])):\n",
    "        f.write(data2['data'][i]['body'])\n",
    "    f.close()"
   ]
  },
  {
   "cell_type": "markdown",
   "metadata": {},
   "source": [
    "Week of 6/22/20 - Put comments and submission together in a thread...first attempt failed because making requests in a loop is too much for the computer...makeRequest() solves the problem"
   ]
  },
  {
   "cell_type": "code",
   "execution_count": 48,
   "metadata": {},
   "outputs": [
    {
     "name": "stdout",
     "output_type": "stream",
     "text": [
      "CPU times: user 26.3 ms, sys: 31.1 ms, total: 57.5 ms\n",
      "Wall time: 4.26 s\n"
     ]
    }
   ],
   "source": [
    "%%time\n",
    "payload = {'subreddit':'legaladvice', 'size':'10','fields':['id','selftext', 'num_comments']}\n",
    "r = requests.get('https://api.pushshift.io/reddit/search/submission/', params = payload)\n",
    "submissiondata = json.loads(r.text)"
   ]
  },
  {
   "cell_type": "code",
   "execution_count": 49,
   "metadata": {},
   "outputs": [
    {
     "data": {
      "text/plain": [
       "{'data': [{'id': 'hk2odb',\n",
       "   'num_comments': 0,\n",
       "   'selftext': \"Hi everyone. \\n\\nI bought a house 3 years ago. The home is about 70 yrs old, has an extended remodeled bathroom and kitchen. Home passed inspection, everything all good. I have always experienced plumbing issues in our guest bathroom, had numerous plumbers come + snake the toilet, ton of draino, you name it. After numerous toilet overflows and having a non-functional bathroom.. I decided to call my homeowners to help me out. Thankfully they did.\\n\\nI decided to go through a company that lines the pipes instead of replacing them. Well, they came across a backed up line, that's been deleted from the home. The waste water goes nowhere but to the ground. I am furious! The seller who flipped the home decided to make it nice from the outside but ignored one of the most important foundations of a home. I called the city and there are absolutely no permits for what he did.\\n\\nWhat can I do to get this guy to get consequences for what he did? I have his information in my escrow papers.. called the city, he could get jail time. I don't want to ruin someones life but dang, he sure isn't mine that easy right now.\"},\n",
       "  {'id': 'hk2oa1',\n",
       "   'num_comments': 0,\n",
       "   'selftext': 'So abit over two years ago I started getting really bad joint paints, really bad. Hurts doing anything. Went to doctors a milion times all across my city, turns out I had Psoriasisarhritis (joint pains, autoimmune disease). Got to stay home while trying a bunch of weird medicin, nothing really works and I\\'m still in pain that sometimes I don\\'t get out of bed in the morning, almost hurts all the time everywhere. Doctors says I cant preform any kind of lifting and its very clear I shouldnt work with warehouse, especially with Orderpicking (right word for it?). When the goverment told me to \"Go work, dont care if doctor say u cant) and a \\'rehab plan\\' (Which turns out, never was provided or worked/documented for) was formed. I got to work with an easier task, I instantly started working full hours, goes great both socially and as a job, could preform it with issues but I was managing anyways.  \\nWith some some barely healed facial paralyzation and alot of jointpain they now come (out of nowhere, all I was told since i moved to the new \\'easier\\' task is that if I do well I get to stay there) saying \"nah sorry man ur gonna work with what you did before, but now even heavier and you also get less pay depending on how much you lift\".   \\n\\n\\nI do have doctors backing me up and a documented swollen joints/backpain and everything.   \\n\\n\\nI\\'m wondering, can I hold them responsible for not providing (lying about) a rehabilitation plan that a multimiliondollar company surely should have policies for? They straight up said: \"Yea sorry you were forgotten over there, and now new people at HR tries to handle ur case as fast as possible so :S sorry man good luck\".   \\n\\n\\nCompany shutting down in 2023 and moving to another part of town, firing all employees. I\\'m thinking they just want me to manually quit so they get rid of unhealthy/problematic employers. Has happend before.  \\n\\n\\nAny tips at all? Can I ask for some kind of compensation for all the stress and mental/physical pain this has caused me? Thanks in advance'},\n",
       "  {'id': 'hk2o74',\n",
       "   'num_comments': 0,\n",
       "   'selftext': 'Hi all, \\nI am wondering if this is legal and ok or not really..\\nWashington/ USA\\nI am working for the company and I am hourly employee. I am working from home due to COVID. Programs that I am working on it do not work great, they are breaking, disconnecting me  all the time. It’s been frustrating and very annoying... ( since March 15th)I talked with IT and they could not fix the issue so they decided to give me laptop and somehow it will work better. The problem is that I need to go to the office for this laptop and I can not do it during my work hours. I can do it after work or I can leave now but I will have to make up this time next day. So is that ok ? Are they allowed to do it? What about me and maybe I am afraid to go to the office when is COVID and I don’t want to do something for my work when I am out of clock. \\nAny advice ?\\nThank you'},\n",
       "  {'id': 'hk2nt1',\n",
       "   'num_comments': 0,\n",
       "   'selftext': 'I work in a restaurant in westchester New York that was doing takeout during quarantine. My boss told the front of house staff (me and 2 others) that we had to tip the kitchen staff out 30% every shift. From what I can tell this is not legal in NY but I am not a lawyer. Can anybody tell me how to proceed. I can provide more details if necessary.'},\n",
       "  {'id': 'hk2nm5',\n",
       "   'num_comments': 0,\n",
       "   'selftext': 'So I work at 5:00 tonight and called in around 1 saying i can’t make my shift, I have no way there or back and have been talking with another employee to get the shift covered. They kept mentioning something about a 3 month probation? I’m very confused.. I’m a student (18m)'},\n",
       "  {'id': 'hk2n4g',\n",
       "   'num_comments': 0,\n",
       "   'selftext': 'So around the end of 2017  I get into an accident that is deemed my fault.  I don\\'t believe it actually was but I\\'m willing to let that one go.  I had recently changed to Acceptance insurance, received a bill and promptly paid it.  When my insurance gets pulled after the accident, it comes to light that I don\\'t actually have insurance.  \\n\\nI check with Acceptance and they said there was an additional $200 dollars I owed.  That amount wasn\\'t what we agreed to and it wasn\\'t reflected on the bill I received.  Also, I paid on the website, where there was no option to pay anything less than full.  They eventually send me the bill that required I pay $200 more and in bold states insurance must be paid in full to ensure coverage.  \\n\\nI never received any notification before the accident requiring I make any additional payments. I try to make this case with Acceptance, but they just refer to the second bill.  \\n\\nMy case then goes to court, and the other driver doesn\\'t show.  The judge throws the case out, and I think its done.\\n\\nAfter this I get a letter from the dmv, stating I need to get an sr22 because of my \"uninsured\" status.  This is all new to me, I have no idea what it is.  I try to get across that I paid my insurance, and I shouldn\\'t have to do this, but it\\'s the dmv and there is no one there to help.  \\n\\nI\\'m getting pretty burned out and defeated after fighting with the insurance company and the dmv.  All the while my insurance rates have gone insanely high because of the sr22.  For minimum coverage insurance I\\'m now paying roughly between $3400-$3700 annual.  I\\'m young, in school and working full time trying to get by.  I\\'ve finally thought about dealing with this situation again.\\n\\nMy thinking is: Even if I can get a record from Acceptance stating that I paid this bill, would it even matter at this point? Is there any way to recoup my losses from the last few years?'},\n",
       "  {'id': 'hk2kmx',\n",
       "   'num_comments': 0,\n",
       "   'selftext': 'Im writting a story, dont intend to publish it but who knows if its good enough i might do it in the future. I have been trying to find which are trademarked but cant find actual list. For example someone says tiefling is trademarked some say its not so that a little bit confusing'},\n",
       "  {'id': 'hk2iqv',\n",
       "   'num_comments': 0,\n",
       "   'selftext': 'I saw the following tweet regarding a people calling out/cancelling others on twitter. Is there any truth to this statement?  \\n\\nWould that mean you can make any statements about others online without legal repercussions if you live in Illinois?\\n\\n\" If youre getting threats from about being taken to court/being sued for defamation it\\'s not illegal in Illinois, even if it was online defamation of character, thats only illegal in California. \"'},\n",
       "  {'id': 'hk2iou',\n",
       "   'num_comments': 0,\n",
       "   'selftext': \"So, I read through the COVID FAQ and didn't see anything that quite fit my situation.  I was wondering if anybody had any advice or recommendations on what I do now.\\n\\nLast week one of my bosses left for a few days to take care of his parents who are believed to have COVID-19 (but have not been tested).  I was told by our other boss that he was going to stay home from work and quarantine for 2 weeks before coming back, but on Monday I was informed that he would not be quarantining and would be returning to work Tuesday.  I (as well as 3 other coworkers) all told our boss that we were uncomfortable working with somebody knowingly exposed to COVID and would not be returning until he was tested.  He never got tested, and I received a text today informing me that I have been terminated.\\n\\nIt is a job that is at-will employment, so I know they can fire me whenever/why ever, but I was wondering if there was anything I could do under new COVID bills/acts.  I worked at a warehouse for a delivery company (not a big one), and live in Virginia, in case that context changes anything.\\n\\nThank you all for your help, let me know if there is any advice that anybody has (legal or otherwise on what I should do now).  I will certainly be contacting HR about this, but I was unsure if I should do more/something different.\"},\n",
       "  {'id': 'hk2ia4',\n",
       "   'num_comments': 0,\n",
       "   'selftext': \"I bought my car from my Ex before we split and we never officially transferred the title because of COVID. My biggest question is because I have the signed title in hand, does that justify ownership of the vehicle or can she get it towed and take it back? She also wants her license plate back but again, because of COVID I can't get into SOS until August 10th and she wants the plate back by the 10th of July.\"}]}"
      ]
     },
     "execution_count": 49,
     "metadata": {},
     "output_type": "execute_result"
    }
   ],
   "source": [
    "submissiondata"
   ]
  },
  {
   "cell_type": "code",
   "execution_count": 18,
   "metadata": {},
   "outputs": [],
   "source": [
    "import time\n",
    "#mostly from https://medium.com/@pasdan/how-to-scrap-reddit-using-pushshift-io-via-python-a3ebcc9b83f4\n",
    "def makeRequest(uri, payload, max_retries = 5):\n",
    "    def fire_away(uri):\n",
    "        response = requests.get(uri, payload)\n",
    "        assert response.status_code == 200\n",
    "        return json.loads(response.content)\n",
    "    \n",
    "    current_tries = 1\n",
    "    while (current_tries < max_retries):\n",
    "        try:\n",
    "            time.sleep(1)\n",
    "            return fire_away(uri)\n",
    "        except:\n",
    "            time.sleep(1)\n",
    "            current_tries+=1\n",
    "    \n",
    "    return fire_away(uri)"
   ]
  },
  {
   "cell_type": "code",
   "execution_count": 43,
   "metadata": {},
   "outputs": [],
   "source": [
    "def makeThreadList(submissiondatalist):\n",
    "    \n",
    "    #given submission, retrieves the comments, puts them all together in a dict/list, returns the dict/list\n",
    "    #submission is submissiondata['data'][i]\n",
    "    def makeThreadEntry(submission):\n",
    "        #thread = {'submission' : submission['selftext'], 'comments' : []}\n",
    "        thread = [submission['selftext']]\n",
    "        payload = {'fields': 'body', 'size': submission['num_comments'],'link_id': submission['id'],'author':'!LocationBot','mod_removed':'false'}\n",
    "        comments = makeRequest('https://api.pushshift.io/reddit/search/comment/', payload)\n",
    "        for i in range(len(comments['data'])):\n",
    "            thread.append(comments['data'][i]['body'])\n",
    "        return thread\n",
    "    \n",
    "    threads = []\n",
    "    for j in range(len(submissiondatalist)):\n",
    "        thread_j = makeThreadEntry(submissiondatalist[j])\n",
    "        threads.append(thread_j)\n",
    "    return threads"
   ]
  },
  {
   "cell_type": "code",
   "execution_count": 44,
   "metadata": {},
   "outputs": [
    {
     "name": "stdout",
     "output_type": "stream",
     "text": [
      "CPU times: user 200 ms, sys: 18.3 ms, total: 218 ms\n",
      "Wall time: 24.2 s\n"
     ]
    }
   ],
   "source": [
    "%%time\n",
    "#it takes 20s+ to make threadlist of 10 submissions\n",
    "#~5 minutes for 100 submissions\n",
    "#50 minutes for 1000 submissions\n",
    "threadlist = makeThreadList(submissiondata['data'])"
   ]
  },
  {
   "cell_type": "code",
   "execution_count": 45,
   "metadata": {},
   "outputs": [
    {
     "data": {
      "text/plain": [
       "['I lived in an apartment that is not giving my deposit back and saying that I owe them money because I left the lease early, by a month. I had verified with the manager verbally when I was required to leave and did as she told me. My lease was signed in the middle of April and I left at the end of March the following year. \\nI do not have my old lease agreement because I did not know to keep everything.\\n\\nThe only proof that I have is an email from my new apartment manager stating that my lease ends at my old apartment on this certain day.\\nAlso, I had a friend who lived in the same apartment building and signed her lease in June and left in May. She did receive her deposit back and didn’t have any trouble with them stating she left a month early.\\nI left the apartment clean.\\n\\nDo I have a case to pursue? And would it be wise to pursue it? We are in NM.',\n",
       " 'It’s about $400',\n",
       " '[removed]',\n",
       " 'How much is your security deposit?']"
      ]
     },
     "execution_count": 45,
     "metadata": {},
     "output_type": "execute_result"
    }
   ],
   "source": [
    "threadlist[2]"
   ]
  },
  {
   "cell_type": "markdown",
   "metadata": {},
   "source": [
    "figure out how to merge results from different requests"
   ]
  },
  {
   "cell_type": "code",
   "execution_count": 7,
   "metadata": {},
   "outputs": [
    {
     "data": {
      "text/plain": [
       "{'data': [{'id': 'gqzfdz',\n",
       "   'num_comments': 4,\n",
       "   'selftext': \"Here's the situation. My brother works in sales in the state of Georgia. In march his base pay was reduced from $15 an hour to $8 an hour. 30% of staff was laid off. Executives reduced took a 20% pay cut. He is being pressured not to file for partial unemployment, and everyone that has done so has been fired. Does he have any legal ground to stand on? Thanks!\"},\n",
       "  {'id': 'gqzf02',\n",
       "   'num_comments': 2,\n",
       "   'selftext': 'I’ve had so many problems with this teacher, but today in class she started asking students to vote on another students grade. I live in Florida and I’m wondering if this is legal and if not what are my options???'},\n",
       "  {'id': 'gqzeow',\n",
       "   'num_comments': 18,\n",
       "   'selftext': \"Kentucky.\\n\\nI stopped by a friend's house. I noticed a person I didn't like there, so I excused myself. I said goodbye to the host as well as some guests and went to the door and put on my shoes. Person I didnt like saw me, ran in front of me, and stood between me and the door. \\n\\nIs he commiting a crime? What are my rights at this point?\"},\n",
       "  {'id': 'gqzct2',\n",
       "   'num_comments': 6,\n",
       "   'selftext': 'A friend of mine, knowing I am an amateur coin collector, offered me a great deal on a few coins she stated her grandfather was sending her.  I said sure, mostly to help her out.  Once I saw the coins, I thought their were a few strange things about them.  They were app in PCGS slabs, but with same tye of label and same PCGS logo on the back.\\nI said I didn\\'t think they were legit and asked if she could send back to her grandfather.\\nShe said she would take care of it. \\nShe then took 2 of the coins to a coinshop that was closed for covid, but the owner met her and bought 2 coins.  She then went back to him 3 additional times, selling him 2 coins at a time.  Not sure why she did it like that.\\nWell after the last coins, the coinshop owner calls me and says that they are fake coins and that he needs to see all coins I own and that he is sending them all to PCGS and that I or my friend have to pay him $3000 in the next two weeks or he is contacting local police and the secret service and that we will go to prison.\\nApparently he told my friend that they were fake and she said I forced her to take them in to him and that they came from MY grandfather.  Then gave him my name and phone number, allowing for him to contact me and threw me under the bus. \\nI would have referred to her as \"friend\", but didn\\'t want anyone to think that that meant it was actually me.\\nMy question is, should I just pay the guy?  Should I point out the fact he is the professional and offered to buy them after looking at them?  Is he classified as a private buyer since his shop was closed? \\nI don\\'t want negative attention or to be arrested have to prove my Innocence, but I just feel like a lot is wrong here with how it\\'s being handled. Maybe I\\'m lucky he is offering this deal? I don\\'t know and don\\'t know how to find out.'},\n",
       "  {'id': 'gqzbln',\n",
       "   'num_comments': 14,\n",
       "   'selftext': \"I was in the early stages of a divorce &amp; then rona happened. Hadn't filed 2019 taxes yet, instructed by lawyer to wait. Waiting on stimulus since 4/15 only to find out my wife jointly filed 2019 taxes without my tax info and took the whole $2400 on 4/15 and the entire 2019 fed refund. Despite her asking for her half of it in documents her lawyer &amp; my lawyer wanted me to sign since 4/20. If her lawyer knew wouldn't she get in trouble too?\"},\n",
       "  {'id': 'gqzbdz',\n",
       "   'num_comments': 1,\n",
       "   'selftext': 'Hi legal advice reddit,\\n\\nif you don’t feel like reading the whole post I attached simple stats at the bottom\\n\\n\\n\\nLike many others in march I got laid off from my part time job due to covid19. Fortunately I was not reliant on this money so I didn’t have to make any lifestyle changes.\\n\\n\\nAfter I got laid off I heard about the PUA (extra $600 a week) looked into applying for unemployment. After deeply reading the Maryland unemployment guidelines I found out that you had to work a minimum of 20 hours a week to qualify for unemployment, but apparently this could be different in the PUA. Thinking “what do I have to lose” I applied anyway (using legitimate information). I got declined, then saw advice on youtube that for some states you might get accepted the second time, so I applied again. Additionally my state updated their website with covid related questions.\\n\\nThis time I got accepted. The weird part was my state benefit was over 3x my average weekly income.\\n\\nRight now I am saving all of this money in a roth IRA (waiting for the dip lol). I wanted to know if there was any way to check if I am actually entitled to this money, or if it was the state’s error. if it is the state’s error how could I pay the money back?\\n\\n**Simple stats**\\n\\n• I am a 17 year old dependent with financially stable parents\\n\\n• I worked an average of 5.5 hours per week at $11 per hour and my annual income in 2019 was just over $3,500\\n\\n• I applied for Maryland Unemployment first in early April, got denied, then applied again in late April after seeing that a lot of people get declined the first time then get accepted the second time because of the PUA. (I used legitimate information both times when I applied)\\n\\n•Got accepted at $170 per week + $600 per week PUA boost.\\n\\n•Currently saving all of this money\\n\\nQUESTION: Do I actually qualify and if I don’t, can the state take this money back. Also how would I pay this money back?\\n\\n\\n\\nThank you so much, to anyone taking the time to read this. I would love to hear anyone’s thoughts of the situation'},\n",
       "  {'id': 'gqzay1',\n",
       "   'num_comments': 8,\n",
       "   'selftext': 'Alright so I’ll try to keep it to the necessary details and get to the point - \\n\\nMy wife does off and on child care work when she’s available (otherwise she takes care of our son) and I work. We don’t rely on her income and she only works when it’s convenient for her. During the 2019 year she worked several months for a woman taking care of her daughter. The job was inconsistent and the woman had multiple people she would bring in to work and watch her daughter depending on availability. My wife was paid by personal check every week that she worked.\\n\\nWe reported my wife’s income from the woman (a bit south of 3k) on our 1040 on Schedule SE and paid self-employment tax accordingly. We reported her income as self-employed due to the nature of the employment - my wife largely controlled the schedule and other factors. We reported the income as miscellaneous income and did not file schedule C (the woman asked if we filed schedule C and I declined to provide her information unless she explained why she needed it, which she did not).\\n\\nNow comes COVID-19. My wife is no longer able to work since the woman no longer needs child care, and my wife is immune compromised increasing her risk from the virus. Initially we had not planned to file unemployment since my wife was not eligible to our understanding, but then came the CARES act and we jumped on it. We filed her application and it was approved. This is the point where the woman is dragged into this because we listed her as an employer up tot he date of unemployment.\\n\\nThe state appears to have sent her some communication. She texted my wife saying she needed to talk, so we jumped on the phone with her with me there. She comes out of the gate hot, furious about potential penalties, interest, back taxes. Talking about how there’s no paper trail (there is... the checks). She says to my wife “how are we going to deal with this?” And starts rattling off very specific questions about our filings. After a couple questions I took over the call because she was being aggressive and I politely ended the call after telling her she could email me the questions she had and I would research and respond. She declined that approach.\\n\\nCurrently she is communicating by text and we provided her the amount of income we reported from her (the sum of the checks) and advised her that we paid self-employment tax on the income. We also told her the dates we listed as my wife being employed for her on the unemployment application. We provided this in good faith because we’re not interested in her being harmed in this situation. However she continued to ask for more specific details about our filings and I put a halt on it by telling her I’m happy to help but I would need to know why she needed any more private information before I would provide it. She proceeded to deflect and became aggressive again.\\n\\nFor some background on me I have both legal and accounting backgrounds so I have a reasonable base of understanding in those areas but not specific to this situation.\\n\\nThose are the basic details and I will be happy to add more detail as requested. Questions are as follows:\\n\\n1) what is her (the woman) potential exposure here?\\n\\n2) do we have any potential exposure?\\n\\n3) is my approach to her requests for information correct?\\n\\n4) are there any specific steps we should take as this situation unfolds?\\n\\n5) should we cease communication with her?\\n\\nThanks for your help in advance. I made a good faith attempt to ensure this post follows legal advice rules and if I broke any rules please let me know and I will revise my post accordingly.'},\n",
       "  {'id': 'gqz9py',\n",
       "   'num_comments': 6,\n",
       "   'selftext': \"I've actually paid a couple lawyers already and had one take a look at it, the online lawyers I've dealt seemed to just gloss over it and agree with me or not point things out until I actually pointed specifics out. It's only a 3 1/3rd page contract pertaining to a song I wrote and I'd like some advice on how a few paragraphs hold up, thanks.\"},\n",
       "  {'id': 'gqz711',\n",
       "   'num_comments': 3,\n",
       "   'selftext': 'If I’m first PoA, is there a way to remove the next PoA if that person did something to indicate they wouldn’t be trustworthy, get convicted of fraud for example.'},\n",
       "  {'id': 'gqz62u',\n",
       "   'num_comments': 2,\n",
       "   'selftext': 'Hello all,\\n\\nI\\'m an event planner and have been working from home (mostly canceling events) over the past 2 months. Today my department was told they are looking to move employees not doing much at this time to other departments so they weren\\'t \"sitting at home and collecting a check\"\\n\\nIn my case they asked me to potentially move to IT/call center desk, which would be an entirely new position I\\'m not very interested in.\\n\\nWhat would happen if I were to decline? Would they be forced to hold me only to core roles I signed off on when I accepted the position? Would I be eligible for unemployment?\\n\\n\\nThis is in new york state.\\n\\nAny advice would be appreciated, thank you.'},\n",
       "  {'id': 'gqz61n',\n",
       "   'num_comments': 1,\n",
       "   'selftext': 'Hello everyone,\\n\\nMy question is regarding **UK university** assessments and tuition fees for this semester due to the impact of the current situation\\n\\nGenerally, the university calculates the final degree classification using **second** and **third** year results with a weighting of 1/3 and 2/3 respectively for each year\\n\\nThird year consisted of the following:\\n\\n* Project         -  40 credits\\n* Semester 1 -  40 credits\\n* Semester 2 -  40 credits  \\n\\\\_\\\\_\\\\_\\\\_\\\\_\\\\_\\\\_\\\\_\\\\_\\\\_\\\\_\\\\_\\\\_\\\\_\\\\_\\\\_\\\\_\\\\_\\\\_\\\\_\\\\_\\\\_\\\\_\\\\_\\\\_  \\nTotal          =  120 credits\\n\\nI\\'m in my third year and due to the current situation, my university has decided to **cancel** exams for the second semester and instead use marks from previous assessments and exams to calculate a grade for this semester.\\n\\nAnd so as a result about 25 credits from semester 2 are not going to be counted which is about **%13.8** of the degree and could have potentially resulted in a higher final degree classification\\n\\nThe university has also charged full fees for the whole year regardless of the current situation and not counting a significant portion of the degree which is very unfair given that we were charged for it and that it could have improved final grade classification.\\n\\nWhen I outlined the aforementioned points to a representative from my university, they replied with the following:\\n\\n&gt;*The decision around the method being used to calculate final year grades has been finalised ... With respect to the question of fairness, analysis of student performance in previous years suggests that the approach being taken does not have significant impact on final results or degree classifications: the overall effect on the cohort is in fact a very small \\\\*improvement\\\\* in grade averages.*  \\n&gt;  \\n&gt;*With respect to the question of tuition fees and the whole year, we should separate the questions of learning from assessment.*  \\n&gt;  \\n&gt;*There was disruption to the final weeks of the semester. The University took significant efforts to ensure that, through online and alternative methods, teaching was delivered enabling students to learn the materials associated with course units. Tuition fees are primarily about supporting learning, rather than assessment.*  \\n&gt;  \\n&gt;*A final exam is used to determine whether a student has achieved that ILO\\\\[i*ntended learning outcomes\\\\] *and is able to perform the task. The exam does not directly contribute to a student acquiring the ability to describe communication mechanisms, but provides a measure of the ability.*  \\n&gt;  \\n&gt;*I hope this addresses your concerns. As is always the case, if you are ultimately unhappy with results, you will have a right to appeal.*\\n\\n&amp;#x200B;\\n\\n**Side notes:**\\n\\n* The university is a top russell group university in England\\n* I\\'m classed as an international student and therefore charged £20,000 of tuition fees per academic year\\n* The university has also mentioned the following in one of it\\'s earlier updates(around march) but they haven\\'t released any new details regarding \"viva interviews\" yet and so it seems very unlikely\\n\\n&gt;*If you think you could have achieved a higher degree classification had the exams gone ahead, and your* performance\\xa0*profile during your studies supports this, then we’ll give you the opportunity to prove it by a remote viva interview (more details will be provided at a later time).*\\n\\n* The university has not calculated the results for this semester yet\\n\\n&amp;#x200B;\\n\\n**Questions**:\\n\\n1. I haven\\'t replied yet, what should I say in reply?\\n2. Can this be pursed legally(or within the university) so that they either\\n   1. refund me 25 credits worth of fees for this academic year (**preferred**)  or,\\n   2. consider examining me for the cancelled exams\\n3. is there anything else I can do?'},\n",
       "  {'id': 'gqz4qa',\n",
       "   'num_comments': 6,\n",
       "   'selftext': 'I am on a 12 month lease agreement with my good friend that we signed on May 1st. He is the primary roommate on the lease and is threatening to take me off and evict me because I turned the thermostat down even though we split utilities. Is this legal even if I didn’t violate the lease? Should I speak with the leasing office in terms of our lease agreeement?'},\n",
       "  {'id': 'gqz3tv',\n",
       "   'num_comments': 8,\n",
       "   'selftext': 'Bail bonds/Lein on mortgage? How does this work?\\n\\nWe’ve recently been gifted a house from a family member, there is very little left on the mortgage.\\nWe just found out that there is a lein on the house for another family members bail bond. That family member has since been arrested while on parole and is awaiting the next court date.\\nWhat happens if he gets convicted? Will the court take the house? What if he doesn’t get convicted?\\nWhat if we pay off the house before that?\\nWhat if we pay off the amount of the bond?\\nBasically...is there ANY option that doesn’t result in us losing the house !? Or should we deny the house all together ?\\nThe downfall is that we’ve already put 1k$ into renovations and we’re planning to put another 1500$ in next week.\\nDoes this ruin everything?'},\n",
       "  {'id': 'gqz3fc',\n",
       "   'num_comments': 1,\n",
       "   'selftext': \"As stated in the title, I recently filed to incorporate, and elected to be taxed as an S corporation in the state of New York. I am a minor, and I used bizfilings to get my paperwork through. In doing so, I elected myself to the board of directors, and made myself the President of my company. I received my corporation's state filing documents from bizfilings today, and, in reviewing them, discovered that the incorporator must be at least 18 years of age in New York. Is there any sort of penalty that myself or my family might be faced with as a result of my actions? And, if not, am I able to file a DBA to move my corporation to a state like Delaware where minors may serve as directors?\"},\n",
       "  {'id': 'gqz1zt',\n",
       "   'num_comments': 6,\n",
       "   'selftext': \"I'm hoping this won't come to legal action, but my rental company is notorious for lawsuits and being slumlords so I'm getting my bases covered.\\n\\nI'm a graduate student and have been unable to secure a summer job / income. Back in April, when it was uncertain whether I'd be able to get any job and when (not to mention if school would reopen), I contacted my landlord inquiring about early lease termination. He responded by saying there was no early termination fee due to the pandemic and that if I needed to move he only needed a date of vacancy letter. I offered to find a new tenant myself because I felt bad about having to leave, but he declined and said there was no need.\\n\\nAfter some haggling over email I managed to get it in writing.\\n\\nApril 22nd:\\n\\n&gt; *SlowCauliflower:*  \\n&gt;  \\n&gt;*You don't have to look for a replacement tenant for us, we have an army of real estate agents renting for us.  If you need to vacate your current apartment, all we requires is a 30 days notice.  I will need an intend-to-vacate letter stating your last date, name(s), address, and hand signature.*  \\n&gt;  \\n&gt;*Due to the current situation, there is no penalty for lease-break and your deposits will be return to your forwarding address.  This email serve as your receipt for this purpose.*\\n\\nI sent the intent to vacate letter on May 12th after securing cheaper housing for September. I did not receive anything back so yesterday, on the 25th, I reached out to confirm the landlord received the letter. Today he emailed me stating that I'm on the hook for all the typical early termination fees (broker, rent until lease ends or new tenant comes along).\\n\\nI responded referencing his email that states there's no fee. He responded asking for proof of job loss.\\n\\nHad I been told this would be required, I would have acted differently, but I was not made aware through our phone conversation or in writing that this is required. I'm a student and was applying for summer jobs/internships around the time shit hit the fan and furloughs, shut downs, and lay offs came rolling through. I don't have a job I lost, but I missed a few months of income I had planned on having and there is only uncertainty now about getting a new job during this time.\\n\\nIf I had to take this to court, would the original email from him stating there's no termination fee and listing no other requirements count in my favor? \\n\\ntl;dr: Landlord stated in writing there was no fee for early termination due to covid, is now backtracking and requiring things that were not discussed.\"},\n",
       "  {'id': 'gqz03o',\n",
       "   'num_comments': 0,\n",
       "   'selftext': \"I am based in the US and paying an artist located in Brazil for images. How would I go about of obtaining 'ownership' of these images (as I intend to use them in my business)? Do I need a form for him to sign, and if so where do I find it?\"},\n",
       "  {'id': 'gqyz08',\n",
       "   'num_comments': 9,\n",
       "   'selftext': 'Hey guys,\\n\\n~Firstly I’m sorry if this is the wrong place for this~\\n\\nI’m home from college right now due to covid, and staying with my family of 5. Each member has their own car (go carbon footprint \\U0001f973), and as such, theres only room for 4 in the driveway. Back when I was home, I would get stickers on my car all the time for parking on the street overnight, as its against the neighborhood parking code, but nothing would ever happen. As far as the code goes, parking cannot be done on the street or grass, and driveways cannot be extended. The solution is to park in the “community lot” located in the center of the neighborhood, however, due to the virus, this lot is closed. So, upon leaving my car on the side of the road in front of my abode, I woke in the morning to find it towed, and had to pay a hefty bill for a college student. I’d like to talk with a representative of the master’s association in the neighborhood about a reimbursement, but I’d be greatly appreciative if anybody had any knowledge of what I could come in with as far as legality of them having my car towed, or if this is in any way feasible at all.\\nThanks!'},\n",
       "  {'id': 'gqyur6',\n",
       "   'num_comments': 2,\n",
       "   'selftext': 'Shouldn’t they have a warrant before we answer any questions? Or is a phone call enough probable cause to raid the place like every police officer does it? Small border town in Texas, cops are known for violating rights since a lot of people aren’t familiar with them / don’t even speak English.'},\n",
       "  {'id': 'gqyu5i',\n",
       "   'num_comments': 3,\n",
       "   'selftext': 'I recently turned in a timecard and I was immediately told by my HR &amp; Office manager that I had not written down a lunch taken on one of the days. I worked exactly five hours that day and, according to my understanding of the CA labor laws, it states a break period must be taken at \"more than five hours worked\".\\n\\nShe stated that, via the company\\'s internal audit system, she went by a guideline of a lunch having to be taken at five or more hours worked, which is obviously distinct from what I read in the CA labor laws. I dont know much about how internal auditing works but I would expect that the guidelines for the audit would have to be consistent with CA labor laws.\\n\\nMy question would why is there a discrepancy between the CA labor laws and the internal auditing checklist of my company, is this discrepancy legal for whatever reason?'},\n",
       "  {'id': 'gqyu20',\n",
       "   'num_comments': 3,\n",
       "   'selftext': 'Hello.  I’m 31 male \\nFrom Pennsylvania. We are allowed to open carry and conceal carry with a permit.  \\nAbout 5 years ago I applied for a conceal carry permit the same day with a guy that lived with me who has a felony in Florida.  He was approved and I was denied due to the reason I was admitted to the hospital for “suicidal thoughts” when I was 14 years old.  \\nBack then they had me on all types of meds and it made everything worse.  \\nI haven’t been on any medication since 2006.  And I’m mentally stable.  \\nIs there any way to have that expunged from my record? They told me mental history doesn’t come off of your record\\nI don’t own any guns but my dad is leaving me a ton.  I don’t want them taken away if the state says I can’t have them.'},\n",
       "  {'id': 'gqyty1',\n",
       "   'num_comments': 5,\n",
       "   'selftext': 'I\\'ll explain that better: \\n\\nFor the ones who don\\'t know, a ghost-production is a 100% finished song which I produced and sold to a client who buy that to obtain 100% of the rights of that track, so it would look like he made it by himself, basically. This is a real common thing in the music industry, where people (X) pay other producers (Y) to create tracks to release under X name, without Y getting involved anymore. \\n\\nNow, things are getting quite big: I got a couple of usual clients who buy me tracks once or twice a month, plus some occasional clients which buy a track once, or do the same with other music-related services. \\n\\nSince the average price for a track goes from 1000$ to even 2000$ (it depends on some things), I\\'m earning a considerable amount of money, for which I feel I\\'ll soon come across some checks made by the financial police (if this could help, I\\'m from Italy). \\n\\nHow can I \"go legit\" with this business? What should I do?'},\n",
       "  {'id': 'gqytgj',\n",
       "   'num_comments': 3,\n",
       "   'selftext': 'I thought confidentiality meant a therapist could not share any information you tell them according to HIPPA. I told a therapist some information and now he has shared all my information aside from anything that would specifically connect that to me such as my name. But given the circumstance, it is pretty obvious to that other person that the therapist was talking about me so now my information that I thought was going to be confidential is out there. Where does this situation stand legally?'},\n",
       "  {'id': 'gqysdh',\n",
       "   'num_comments': 14,\n",
       "   'selftext': 'So I just got an email that my check was cashed about a month ago. I never received a check so I called HR. They said that they will connect me with the legal team to sign an affidavit. They said that either an email or letter will come soon. Should I do anything on my part while I wait for my check? Like call my bank? My bank statements show that I never deposited a check and I have previous check with my signature on them as proof\\n\\nI’ve never had anything to do with legal stuff so I’m scared that this will be expensive, just to get my check back. They said that it will take up to 120 days for the investigation to come to a conclusion.'},\n",
       "  {'id': 'gqyrzj',\n",
       "   'num_comments': 99,\n",
       "   'selftext': 'We live in Illinois. My son is 2.5 years old and sees his dad every other weekend from 5 pm Friday to 5 pm Sunday and every Tuesday from 9-5. His dad has been with his wife for 1 year 8 months total. Married for about 6-7 months.\\nThe conflict is that his dad is deploying in mid-June and he’ll be gone until about mid-May. He wants his wife to keep visitation with my son and I’m not comfortable with it. I don’t know her very well, my son is not old enough to tell me if he wants to see her alone or if anything is wrong, and I have told them that whenever she wants to see him, she can. I would go there or she could come here.\\nHe just told me this morning that he’s going to take me to court after he gets back from his deployment since I have said I’m uncomfortable with giving visitation at this time. I’m wondering if he has a leg to stand on and/or if I’m being unreasonable. Thank you in advance.'},\n",
       "  {'id': 'gqypbl',\n",
       "   'num_comments': 5,\n",
       "   'selftext': \"I live in Florida. Summer of 2018, my parents were going through a very nasty divorce and my dad was actually stealing mail from my mom's house, which resulted in her not receiving notice that autopay for our health insurance was turned off and they cancelled our insurance from lack of payment. Meanwhile, the endless family drama was sending me, then 22, into the beginnings of what would become life-changing depression. My mom made me appointments with a doctor and I saw her a few times. We didnt know that our insurance had lapsed. So now I'm receiving calls every day from a collections company for over a thousand dollars in unpaid medical debts. I never even got a bill or notice or anything.\\n\\nThe lady on the phone said I have no choice but to pay it. My mom said if I ignore it it will go away but hurt my credit. I'm already 32k in the hole from student loan debt from a useless masters degree and just recently was able to get a job at a restaurant. \\n\\nWhat should I do? Please help, I am totally lost here and panicking a little :(\"}]}"
      ]
     },
     "execution_count": 7,
     "metadata": {},
     "output_type": "execute_result"
    }
   ],
   "source": [
    "#create new submissiondata2 to merge with submissiondata from before\n",
    "payload = {'subreddit':'legaladvice', 'fields':['id','selftext', 'num_comments'], 'before':'30d'}\n",
    "r = requests.get('https://api.pushshift.io/reddit/search/submission/', params = payload)\n",
    "submissiondata2 = json.loads(r.text)\n",
    "submissiondata2"
   ]
  },
  {
   "cell_type": "code",
   "execution_count": 8,
   "metadata": {},
   "outputs": [
    {
     "data": {
      "text/plain": [
       "{'data': [{'id': 'hfocgb',\n",
       "   'num_comments': 0,\n",
       "   'selftext': 'My friend is in the foster care system. She’s been threw hell and back. She’s been threw groups homes. So she got fostered and now there trying to kick her out. She deals with mental issues and they haven’t provided any help to her either. It’s like the world is against her and it makes me so upset and I just want to get her some help or at least some advice'},\n",
       "  {'id': 'hfobzx',\n",
       "   'num_comments': 0,\n",
       "   'selftext': \"This is happening in Texas. My dad works construction and a couple days ago after working with 3 other people he finds out that one of them was infected and all 3 where sent home but the company hasn't told my dad anything about getting checked or being put in quarantine. This is strange because a week ago someone else while on at a company meeting was exposed to Covid and the company immediately sent him to get tested and to stay home. Is this discrimination since my dad is a mexican laborer as opposed to a white manager?\"},\n",
       "  {'id': 'hfobet',\n",
       "   'num_comments': 0,\n",
       "   'selftext': \"Hi all,\\n\\n&amp;#x200B;\\n\\nI've accepted an work-from-home opportunity online that involved receiving some packages, inspect them, and reship them. After doing it for about two weeks, I found out that the opportunity is a scam, and I've been aiding in distributing goods bought with stolen identities.\\n\\n&amp;#x200B;\\n\\nI immediately stopped everything I was doing for them, froze my credit report, and changed bank account info. However, I still have a small inventory of goods (clothing &amp; laptops probably worth \\\\~$5000) that I didn't ship out after becoming suspicious. I have reached out to many lawyers in NY, but the only two answers I got were: 1) hire a private lawyer (I can't afford it due to no income) or 2) get a public defender after I've gotten arrested.\\n\\n&amp;#x200B;\\n\\nI've also considered going to the police with everything I have, but I don't want to self-incriminate myself.\\n\\n&amp;#x200B;\\n\\nI don't really know what to do now and feel really helpless about this situation. What could I do?\"},\n",
       "  {'id': 'hfobb8',\n",
       "   'num_comments': 0,\n",
       "   'selftext': \"In 2017 I was studying abroad. I needed to file my taxes so I emailed my financial aid counselor to see if they could send me my W2 form, as I was a work-study student. They said sure, and emailed it to me. Only they emailed me every students' W2 as one attached .pdf file. Nothing was really done about it, other than asking me to delete the email with the attached file. The financial aid counselor responsible actually was promoted not even a year after the incident. \\n\\nI guess my question is; is there's legal action I can/should take about this, even if it happened 3 years ago?\"},\n",
       "  {'id': 'hfob65',\n",
       "   'num_comments': 0,\n",
       "   'selftext': 'Oregon is a \"one party\" consent state for recording telephone calls.  If I am speaking to someone who is also in Oregon on the phone, I can record the phone call without having to notify them.  However, does this apply to employees of federal agencies (also located in Oregon) or does federal law apply to them?'},\n",
       "  {'id': 'hfoa3y',\n",
       "   'num_comments': 0,\n",
       "   'selftext': \"Over the past few years, from time to time, I would get emails to my GMail for new accounts being opened or confirmation emails items being shipped. For the most part, I ignored these or took control of the account and had them deleted. Lately though, I have been getting more and more of these accounts being made by this one person. Thanks to the accounts and emails, I have his name, shipping address, and phone number. If I wanted to be a complete arse about it, I could order things on his card and have it shipped to me since he has decided to leave his billing info with the account. I'm not about to catch a federal charge doing that, but had he picked an email of someone with less morals they could have easily cleaned him out by now.\\n\\nWhat should I do? I could call him and ask him to stop, but really there's nothing stopping him. I'd like to be able to tell him he's preforming a form of identity fraud, but I'm not 100% sure that's correct either. What's kinda scaring me a little is that this particular email address is used for much of my social media accounts, online billing, etc.\"},\n",
       "  {'id': 'hfo9za',\n",
       "   'num_comments': 0,\n",
       "   'selftext': 'Throwaway because why not. Indiana\\n\\nIt was brought to my attention yesterday that someone at my place of employment has been taking photos of me while at work. There’s nothing obscene or sexual about the photos, but in them you can tell the person is hiding somewhere and taking them from somewhere they can not be seen. This doesn’t seem like it’s a big deal other than the fact that it’s creepy, however who ever is taking them has been sending them to people. The photos were taken over a period of 3-4 months. The reason I found out about them being taken is they were sent to spouses of different people that I work with. And the HR department. Accompanied by some false accusations about me that have tarnished my reputation at work. I just need to know if there’s anything I can do legally about this or if I need to just move on. \\n\\nAny and all advice is appreciated.'},\n",
       "  {'id': 'hfo56j',\n",
       "   'num_comments': 1,\n",
       "   'selftext': \"So I had gotten a lease for a vehicle back in 2019. The vehicle is under my name of course. I was fortunate enough to get the car out the lot without having insurance on it. Don't know how I did it but it happened. I something do let me roommate use the vehicle when he of course ask me. I don't feel comfortable with anyone driving my car unless it is insured. I was currently at work one night and in the morning, I got hit with bad news. My roommate had total my vehicle. I didn't have any knowledge of it or him taking it. Yes, like I said I do let him take it when he ask. I just want to know, will they blame me for any of this, and I don't care about the car or loan I just don't want to be involved with law enforcement or insurance. Will everything land on him and nothing with me even if the car is under my name? Please help...\"},\n",
       "  {'id': 'hfo52e',\n",
       "   'num_comments': 0,\n",
       "   'selftext': \"In 2017, I had a small business selling these chargers on eBay. I wasn't making too much money, but at the best I was making like $40 in profit per day, which is great in 7th grade. I decided to incorporate an LLC in Delaware (mainly because I was a 7th grader and I thought it would be so cool to say I'm a CEO of a company). Long story short, I paid and it was legally incorporated under my name. My parents were aware, but they didn't sign any documents or really allow it. What ended up happening is somehow the company I incorporated with told me that I had to pay a $300 annual tax, called the franchise tax. When I incorporated, I though that only franchises like 7/11 or McDonalds would have to pay it, so I thought it didn't apply to me.  However, my parents had to bail me out and they paid the $300, plus the over due fee, $200, and the payment rejection fee $50, and lastly, the $200 cancelation fee. In total it was $750. I ended up paying them back, but I recently found out that minors cannot legally sign contracts by themselves, meaning I should have never legally been allowed to incorporate my LLC, since my parents never signed anything. I was the only one signing and paying. **Would it be possible for me to get my money back since minors cannot legally sign contract by themselves?** I know that $750 isn't much compared to what other people had to go through, but I'm going to be a junior in high school and I am trying to save up for a car, and this would really help.\\n\\nThank you guys in advanced for your help.\\n\\ntl;dr: I incorporated a LLC in Delaware and I got charged with a lot of fees, but because I'm a minor, I shouldn't have been allowed to pay the fees, because I legally cannot sign contracts.\"},\n",
       "  {'id': 'hfo2bt',\n",
       "   'num_comments': 0,\n",
       "   'selftext': \"Hi All, \\n\\nA few weeks ago I received a DOL credit for unemployment benefits which I did NOT file. I've been trying to contact the DOL ever since to get this sorted out. \\n\\nUnfortunately, because my luck is shit, I need to take a 3-4 week unpaid break from work due to COVID. Now I need to actually file unemployment benefits and it looks as if an account was created with my SSN but not my e-mail. \\n\\nI've been trying to contact the CT DOL all yesterday and all morning but there is no PERSON to talk to. It's all automated and all tells me to go online. When I *do* get to an answering service I am told the mailbox is full and I get hung up on.\\n\\nThe steps I've taken so far:\\n\\n* File a Fraud Report with identitytheft.gov\\n\\n* Emailed CT DOL\\n\\n* Left a message with CT DOL Fraud hotline\\n\\n* Frozen my credit\\n\\n* Filed a Police Report &amp; have a case #\\n\\n\\nAny assistance would be helpful. Please let me know if there's any other resources available. At this point I think need to get in contact with an attorney to prevent any future damage to my credit and sort out compensation for my unemployment.\"},\n",
       "  {'id': 'hfo206',\n",
       "   'num_comments': 2,\n",
       "   'selftext': 'Okay so I started a beer investment with someone (Mr. X) that I believe I am getting screwed on. Mr. X and I went in on a gross of independently appraised rare lambic appraised at $154,478. The lot was to be secured with collateral from commercial real estate parcels set forth in a municipal auction. Mr X. Obtained property that abuts a shelf water table TO WHICH HE KNOWS HE CANNOT OBTAIN EASEMENT, therefore we would have to amortize the value of 375 bottles resulting in a loss of capital gains write offs. \\n\\nI call Mr. X and he noted that because his lots need R6 permits he would have to plane his property to a specific grade before it could be certified for industrial use and acceptable as a gueuze bond. Surprise surprise - he sends me pictures of a different R6 zoned lot. The funding fell through and I haven’t been offered the deed back to make this right. I’m not stuck with essentially a toxic beer asset that cannot even be rolled into a saison hedge fund. \\n\\nPlease advise and thank you.'},\n",
       "  {'id': 'hfo1ox',\n",
       "   'num_comments': 0,\n",
       "   'selftext': 'Hi, I work for a pizza place as a delivery driver. Us drivers just found out that our gas reimbursement rate was lowered without any form of notice at all. Is this legal and what can I do? (Missouri)'},\n",
       "  {'id': 'hfo10k',\n",
       "   'num_comments': 1,\n",
       "   'selftext': 'I live in a small 2nd story apartment directly next to another apartment building. Almost all of my windows face this other building with the neighbors apartment (who I\\'ve never met). Our windows DO NOT align at all, there is literally no view to look out to from these windows except the brick wall. \\n\\nBut I will say, if someone in either apartment were to stand at their window and look to the other apartment window, you would be able to see in. It would probably have to be intentional. At night with lights on, I have seen in their window before as I went to close my curtain. They don\\'t seem to have curtains?? If they do, I\\'ve never seen them closed - I\\'m very mindful to close my curtains when it gets dark. \\n\\nMy main point: I\\'m naked often in my apartment. Walking to the shower, out of the shower to my room (opposite ends of the place), as I get ready in the morning, etc. and my curtains are open during the day. I have no concerns that anyone from the street could see me, it\\'s just this one apartment that possibly could - but seems highly unlikely to happen on accident. Would I be in legal trouble if they reported seeing me naked?? I have no idea who lives there or how many people as I\\'ve never met them (ie, no idea if they have kids?), no idea which rooms are near which areas of our respective places (is my bathroom near their kitchen window for example?). \\n\\nI certainly don\\'t try for them to see me. But sometimes when my boyfriend visits he\\'s also very liberal with being naked around the place, and when I mentioned my concerns he said \"we\\'re in our own private space, no one can tell us how to dress here, it\\'s fine\". I\\'ve been here a while with no issues or complaints but I am curious if I could be in trouble in the future, either here or at another apartment someday. Again, no public space could see me - but maybe someone else in another apartment?'},\n",
       "  {'id': 'hfo0lm',\n",
       "   'num_comments': 0,\n",
       "   'selftext': 'I know that you can get into some hot water for using a celebrity’s image on shirts but this guy is just a random guy in town that comes to the skatepark regularly. I can’t ask him for permission because the shirts would be making fun of him and I know that he would say no. I know that it sounds bad but all the proceeds would be donated directly to the skatepark and I feel like that helps my case legally speaking just for the fact that I’m not making money off of it.'},\n",
       "  {'id': 'hfnzo6',\n",
       "   'num_comments': 0,\n",
       "   'selftext': 'In florida. I got a red light ticket from a camera. I have a van and it is difficult to stop on short notice with all my cargo. Brakes aren’t great and cargo moves around and makes a mess. Unfortunately, i went through a quick changing light and am wondering if there are ways to fight it or have the penalty reduced? \\n\\nTIA.'},\n",
       "  {'id': 'hfnytj',\n",
       "   'num_comments': 0,\n",
       "   'selftext': \"This sounds a bit like a scam, but it's not - and happened with a well known company. \\n\\nI work for a publically traded company, and as part of my one-off duties they've had me purchase purchase bitcoin with cash, and then transfer the amount to management to use in 'off-the-books' purchases. The best \\n\\nThe company has also had me use personal funds (cash) to buy things like  software keys in the U.S. which were then transferred over-seas. \\n\\nNow not only am I getting the run-around trying to get reimbursement for these items - but I'm concerned and worried about the legality of what they're doing as a publically traded company and if they're open to some sort of liability - and worse have I opened myself up to liability as well.\"},\n",
       "  {'id': 'hfnxm4', 'num_comments': 0, 'selftext': '[removed]'},\n",
       "  {'id': 'hfnvwr',\n",
       "   'num_comments': 7,\n",
       "   'selftext': 'I am in Michigan.\\n\\n I have a PPO against my ex and he is barred from entering my property and seeing the children that we have in common. Last night he parked down the street and sent a friend and lock smith to my home to try and re-key a jointly owned car in the middle of the night. Can he legally do this? Is this a violation of the PPO? Can I file charges against his friend?'},\n",
       "  {'id': 'hfnux9',\n",
       "   'num_comments': 1,\n",
       "   'selftext': '(Michigan, USA.) My dad took a trip to India to get a couple of surgeries done back in February. As he was getting ready to leave he realized his 3,000 USD that was locked away very safely was gone from it’s spot. I’m not exactly sure how, my dad knows more details than me but he is 100% certain it was my cousin/his nephew. As of right now, we are pretty poor (living in a 2 bedroom broken house with four people, loss of jobs, two broken down cars). There‘s a very small chance that we can go there right now to get this sorted out. Do we have a chance at a case because we know who took it and how much, and if so is there a way we can do it here in the states instead of going to India? All help is greatly appreciated thank you so much.'},\n",
       "  {'id': 'hfnt59', 'num_comments': 2, 'selftext': 'I live in Mississippi US'},\n",
       "  {'id': 'hfnscz',\n",
       "   'num_comments': 1,\n",
       "   'selftext': 'Hello all, my wife and I are curious how much information about ourselves we may be able to remove from public records. \\n\\nBackground info- My wife’s father was physically, mentally, and sexually abusive as well as manipulative as she was growing up. We will be moving soon and we do not want him to know our new address as she’ll be cutting off communication cold turkey. He is known to go to extreme lengths to obtain information when others distance themselves and she fears he’ll be able to find us through assessor’s websites or running a background check. She doesn’t necessarily want to take legal action against him because she fears physical retaliation. \\n\\nHow might we be able to seal these records from public view? I’m quite uneducated on any options we have so please ELI5. We truly fear for our safety and well being. Thank you all in advance!'},\n",
       "  {'id': 'hfnpz8',\n",
       "   'num_comments': 1,\n",
       "   'selftext': '[Utah]   At the beginning of this month, my son (18) was riding his manual scooter to meet his mother for lunch when he hit a patch of wet concrete.  He was thrown over the handlebars injuring his head, arm and knee.   The head and arm injuries are luckily superficial, but his knee is in a lot of pain.    The doctor has diagnosed a bone contusion in his knee and recommended him to take it easy for 4-6 months while it heals.    We are also getting him an MRI for a closer look.  My son is on his feet all day for work - he is currently off and we are unsure when he heal up enough to go back.\\n\\nThe city cited the contractor who did the work for having no signage AND for no traffic control.   The contractor has sent me their insurance details and their policy limit is $1000.   I feel my son should be able to claim back medical expenses so far, and for loss of income.  This will exceed the $1000 policy limit, so my only option is to sue?'},\n",
       "  {'id': 'hfnp7j',\n",
       "   'num_comments': 1,\n",
       "   'selftext': 'My website sells sports gear from Nike, Adidas, etc but we are NOT in partnership with any of these companies, we are just a third party site.\\nWould it be legal to put their logos on our home page just so our customers are aware of the brands that we sell?'},\n",
       "  {'id': 'hfnp35',\n",
       "   'num_comments': 1,\n",
       "   'selftext': \"A friend of mine works in the fire/water repair industry. While cleaning belongings that were from a house fire he stumbled upon a boys diary. The diary read stories of abuse. Apparently the parents forced him to use enemas and put suppositories in his butt when he didn't want to. His dad yells at him and hits him for not pooping. Sounds like child abuse to me but the date reads 2011. I would assume the victim is no longer a child at this point. Has too much time passed to report this abuse?\"},\n",
       "  {'id': 'hfnn20',\n",
       "   'num_comments': 0,\n",
       "   'selftext': 'I am about to start a band with some old friends and one of their friends. I have roughly 5-10 songs that i have for the most part written, some with lyrics and some without but I am hoping to be the lead singer. If we start playing together and they start adding components to my songs(lead guitar, bass etc.) will I retain the rights to perform and distribute the songs and riffs that I had coming into the band should the band disolve? What about recording? If we record any songs then the band dissolves or they move on to other bands, will I have any rights to perform, record and distribute the songs and riffs I came into the band with?'},\n",
       "  {'id': 'gqzfdz',\n",
       "   'num_comments': 4,\n",
       "   'selftext': \"Here's the situation. My brother works in sales in the state of Georgia. In march his base pay was reduced from $15 an hour to $8 an hour. 30% of staff was laid off. Executives reduced took a 20% pay cut. He is being pressured not to file for partial unemployment, and everyone that has done so has been fired. Does he have any legal ground to stand on? Thanks!\"},\n",
       "  {'id': 'gqzf02',\n",
       "   'num_comments': 2,\n",
       "   'selftext': 'I’ve had so many problems with this teacher, but today in class she started asking students to vote on another students grade. I live in Florida and I’m wondering if this is legal and if not what are my options???'},\n",
       "  {'id': 'gqzeow',\n",
       "   'num_comments': 18,\n",
       "   'selftext': \"Kentucky.\\n\\nI stopped by a friend's house. I noticed a person I didn't like there, so I excused myself. I said goodbye to the host as well as some guests and went to the door and put on my shoes. Person I didnt like saw me, ran in front of me, and stood between me and the door. \\n\\nIs he commiting a crime? What are my rights at this point?\"},\n",
       "  {'id': 'gqzct2',\n",
       "   'num_comments': 6,\n",
       "   'selftext': 'A friend of mine, knowing I am an amateur coin collector, offered me a great deal on a few coins she stated her grandfather was sending her.  I said sure, mostly to help her out.  Once I saw the coins, I thought their were a few strange things about them.  They were app in PCGS slabs, but with same tye of label and same PCGS logo on the back.\\nI said I didn\\'t think they were legit and asked if she could send back to her grandfather.\\nShe said she would take care of it. \\nShe then took 2 of the coins to a coinshop that was closed for covid, but the owner met her and bought 2 coins.  She then went back to him 3 additional times, selling him 2 coins at a time.  Not sure why she did it like that.\\nWell after the last coins, the coinshop owner calls me and says that they are fake coins and that he needs to see all coins I own and that he is sending them all to PCGS and that I or my friend have to pay him $3000 in the next two weeks or he is contacting local police and the secret service and that we will go to prison.\\nApparently he told my friend that they were fake and she said I forced her to take them in to him and that they came from MY grandfather.  Then gave him my name and phone number, allowing for him to contact me and threw me under the bus. \\nI would have referred to her as \"friend\", but didn\\'t want anyone to think that that meant it was actually me.\\nMy question is, should I just pay the guy?  Should I point out the fact he is the professional and offered to buy them after looking at them?  Is he classified as a private buyer since his shop was closed? \\nI don\\'t want negative attention or to be arrested have to prove my Innocence, but I just feel like a lot is wrong here with how it\\'s being handled. Maybe I\\'m lucky he is offering this deal? I don\\'t know and don\\'t know how to find out.'},\n",
       "  {'id': 'gqzbln',\n",
       "   'num_comments': 14,\n",
       "   'selftext': \"I was in the early stages of a divorce &amp; then rona happened. Hadn't filed 2019 taxes yet, instructed by lawyer to wait. Waiting on stimulus since 4/15 only to find out my wife jointly filed 2019 taxes without my tax info and took the whole $2400 on 4/15 and the entire 2019 fed refund. Despite her asking for her half of it in documents her lawyer &amp; my lawyer wanted me to sign since 4/20. If her lawyer knew wouldn't she get in trouble too?\"},\n",
       "  {'id': 'gqzbdz',\n",
       "   'num_comments': 1,\n",
       "   'selftext': 'Hi legal advice reddit,\\n\\nif you don’t feel like reading the whole post I attached simple stats at the bottom\\n\\n\\n\\nLike many others in march I got laid off from my part time job due to covid19. Fortunately I was not reliant on this money so I didn’t have to make any lifestyle changes.\\n\\n\\nAfter I got laid off I heard about the PUA (extra $600 a week) looked into applying for unemployment. After deeply reading the Maryland unemployment guidelines I found out that you had to work a minimum of 20 hours a week to qualify for unemployment, but apparently this could be different in the PUA. Thinking “what do I have to lose” I applied anyway (using legitimate information). I got declined, then saw advice on youtube that for some states you might get accepted the second time, so I applied again. Additionally my state updated their website with covid related questions.\\n\\nThis time I got accepted. The weird part was my state benefit was over 3x my average weekly income.\\n\\nRight now I am saving all of this money in a roth IRA (waiting for the dip lol). I wanted to know if there was any way to check if I am actually entitled to this money, or if it was the state’s error. if it is the state’s error how could I pay the money back?\\n\\n**Simple stats**\\n\\n• I am a 17 year old dependent with financially stable parents\\n\\n• I worked an average of 5.5 hours per week at $11 per hour and my annual income in 2019 was just over $3,500\\n\\n• I applied for Maryland Unemployment first in early April, got denied, then applied again in late April after seeing that a lot of people get declined the first time then get accepted the second time because of the PUA. (I used legitimate information both times when I applied)\\n\\n•Got accepted at $170 per week + $600 per week PUA boost.\\n\\n•Currently saving all of this money\\n\\nQUESTION: Do I actually qualify and if I don’t, can the state take this money back. Also how would I pay this money back?\\n\\n\\n\\nThank you so much, to anyone taking the time to read this. I would love to hear anyone’s thoughts of the situation'},\n",
       "  {'id': 'gqzay1',\n",
       "   'num_comments': 8,\n",
       "   'selftext': 'Alright so I’ll try to keep it to the necessary details and get to the point - \\n\\nMy wife does off and on child care work when she’s available (otherwise she takes care of our son) and I work. We don’t rely on her income and she only works when it’s convenient for her. During the 2019 year she worked several months for a woman taking care of her daughter. The job was inconsistent and the woman had multiple people she would bring in to work and watch her daughter depending on availability. My wife was paid by personal check every week that she worked.\\n\\nWe reported my wife’s income from the woman (a bit south of 3k) on our 1040 on Schedule SE and paid self-employment tax accordingly. We reported her income as self-employed due to the nature of the employment - my wife largely controlled the schedule and other factors. We reported the income as miscellaneous income and did not file schedule C (the woman asked if we filed schedule C and I declined to provide her information unless she explained why she needed it, which she did not).\\n\\nNow comes COVID-19. My wife is no longer able to work since the woman no longer needs child care, and my wife is immune compromised increasing her risk from the virus. Initially we had not planned to file unemployment since my wife was not eligible to our understanding, but then came the CARES act and we jumped on it. We filed her application and it was approved. This is the point where the woman is dragged into this because we listed her as an employer up tot he date of unemployment.\\n\\nThe state appears to have sent her some communication. She texted my wife saying she needed to talk, so we jumped on the phone with her with me there. She comes out of the gate hot, furious about potential penalties, interest, back taxes. Talking about how there’s no paper trail (there is... the checks). She says to my wife “how are we going to deal with this?” And starts rattling off very specific questions about our filings. After a couple questions I took over the call because she was being aggressive and I politely ended the call after telling her she could email me the questions she had and I would research and respond. She declined that approach.\\n\\nCurrently she is communicating by text and we provided her the amount of income we reported from her (the sum of the checks) and advised her that we paid self-employment tax on the income. We also told her the dates we listed as my wife being employed for her on the unemployment application. We provided this in good faith because we’re not interested in her being harmed in this situation. However she continued to ask for more specific details about our filings and I put a halt on it by telling her I’m happy to help but I would need to know why she needed any more private information before I would provide it. She proceeded to deflect and became aggressive again.\\n\\nFor some background on me I have both legal and accounting backgrounds so I have a reasonable base of understanding in those areas but not specific to this situation.\\n\\nThose are the basic details and I will be happy to add more detail as requested. Questions are as follows:\\n\\n1) what is her (the woman) potential exposure here?\\n\\n2) do we have any potential exposure?\\n\\n3) is my approach to her requests for information correct?\\n\\n4) are there any specific steps we should take as this situation unfolds?\\n\\n5) should we cease communication with her?\\n\\nThanks for your help in advance. I made a good faith attempt to ensure this post follows legal advice rules and if I broke any rules please let me know and I will revise my post accordingly.'},\n",
       "  {'id': 'gqz9py',\n",
       "   'num_comments': 6,\n",
       "   'selftext': \"I've actually paid a couple lawyers already and had one take a look at it, the online lawyers I've dealt seemed to just gloss over it and agree with me or not point things out until I actually pointed specifics out. It's only a 3 1/3rd page contract pertaining to a song I wrote and I'd like some advice on how a few paragraphs hold up, thanks.\"},\n",
       "  {'id': 'gqz711',\n",
       "   'num_comments': 3,\n",
       "   'selftext': 'If I’m first PoA, is there a way to remove the next PoA if that person did something to indicate they wouldn’t be trustworthy, get convicted of fraud for example.'},\n",
       "  {'id': 'gqz62u',\n",
       "   'num_comments': 2,\n",
       "   'selftext': 'Hello all,\\n\\nI\\'m an event planner and have been working from home (mostly canceling events) over the past 2 months. Today my department was told they are looking to move employees not doing much at this time to other departments so they weren\\'t \"sitting at home and collecting a check\"\\n\\nIn my case they asked me to potentially move to IT/call center desk, which would be an entirely new position I\\'m not very interested in.\\n\\nWhat would happen if I were to decline? Would they be forced to hold me only to core roles I signed off on when I accepted the position? Would I be eligible for unemployment?\\n\\n\\nThis is in new york state.\\n\\nAny advice would be appreciated, thank you.'},\n",
       "  {'id': 'gqz61n',\n",
       "   'num_comments': 1,\n",
       "   'selftext': 'Hello everyone,\\n\\nMy question is regarding **UK university** assessments and tuition fees for this semester due to the impact of the current situation\\n\\nGenerally, the university calculates the final degree classification using **second** and **third** year results with a weighting of 1/3 and 2/3 respectively for each year\\n\\nThird year consisted of the following:\\n\\n* Project         -  40 credits\\n* Semester 1 -  40 credits\\n* Semester 2 -  40 credits  \\n\\\\_\\\\_\\\\_\\\\_\\\\_\\\\_\\\\_\\\\_\\\\_\\\\_\\\\_\\\\_\\\\_\\\\_\\\\_\\\\_\\\\_\\\\_\\\\_\\\\_\\\\_\\\\_\\\\_\\\\_\\\\_  \\nTotal          =  120 credits\\n\\nI\\'m in my third year and due to the current situation, my university has decided to **cancel** exams for the second semester and instead use marks from previous assessments and exams to calculate a grade for this semester.\\n\\nAnd so as a result about 25 credits from semester 2 are not going to be counted which is about **%13.8** of the degree and could have potentially resulted in a higher final degree classification\\n\\nThe university has also charged full fees for the whole year regardless of the current situation and not counting a significant portion of the degree which is very unfair given that we were charged for it and that it could have improved final grade classification.\\n\\nWhen I outlined the aforementioned points to a representative from my university, they replied with the following:\\n\\n&gt;*The decision around the method being used to calculate final year grades has been finalised ... With respect to the question of fairness, analysis of student performance in previous years suggests that the approach being taken does not have significant impact on final results or degree classifications: the overall effect on the cohort is in fact a very small \\\\*improvement\\\\* in grade averages.*  \\n&gt;  \\n&gt;*With respect to the question of tuition fees and the whole year, we should separate the questions of learning from assessment.*  \\n&gt;  \\n&gt;*There was disruption to the final weeks of the semester. The University took significant efforts to ensure that, through online and alternative methods, teaching was delivered enabling students to learn the materials associated with course units. Tuition fees are primarily about supporting learning, rather than assessment.*  \\n&gt;  \\n&gt;*A final exam is used to determine whether a student has achieved that ILO\\\\[i*ntended learning outcomes\\\\] *and is able to perform the task. The exam does not directly contribute to a student acquiring the ability to describe communication mechanisms, but provides a measure of the ability.*  \\n&gt;  \\n&gt;*I hope this addresses your concerns. As is always the case, if you are ultimately unhappy with results, you will have a right to appeal.*\\n\\n&amp;#x200B;\\n\\n**Side notes:**\\n\\n* The university is a top russell group university in England\\n* I\\'m classed as an international student and therefore charged £20,000 of tuition fees per academic year\\n* The university has also mentioned the following in one of it\\'s earlier updates(around march) but they haven\\'t released any new details regarding \"viva interviews\" yet and so it seems very unlikely\\n\\n&gt;*If you think you could have achieved a higher degree classification had the exams gone ahead, and your* performance\\xa0*profile during your studies supports this, then we’ll give you the opportunity to prove it by a remote viva interview (more details will be provided at a later time).*\\n\\n* The university has not calculated the results for this semester yet\\n\\n&amp;#x200B;\\n\\n**Questions**:\\n\\n1. I haven\\'t replied yet, what should I say in reply?\\n2. Can this be pursed legally(or within the university) so that they either\\n   1. refund me 25 credits worth of fees for this academic year (**preferred**)  or,\\n   2. consider examining me for the cancelled exams\\n3. is there anything else I can do?'},\n",
       "  {'id': 'gqz4qa',\n",
       "   'num_comments': 6,\n",
       "   'selftext': 'I am on a 12 month lease agreement with my good friend that we signed on May 1st. He is the primary roommate on the lease and is threatening to take me off and evict me because I turned the thermostat down even though we split utilities. Is this legal even if I didn’t violate the lease? Should I speak with the leasing office in terms of our lease agreeement?'},\n",
       "  {'id': 'gqz3tv',\n",
       "   'num_comments': 8,\n",
       "   'selftext': 'Bail bonds/Lein on mortgage? How does this work?\\n\\nWe’ve recently been gifted a house from a family member, there is very little left on the mortgage.\\nWe just found out that there is a lein on the house for another family members bail bond. That family member has since been arrested while on parole and is awaiting the next court date.\\nWhat happens if he gets convicted? Will the court take the house? What if he doesn’t get convicted?\\nWhat if we pay off the house before that?\\nWhat if we pay off the amount of the bond?\\nBasically...is there ANY option that doesn’t result in us losing the house !? Or should we deny the house all together ?\\nThe downfall is that we’ve already put 1k$ into renovations and we’re planning to put another 1500$ in next week.\\nDoes this ruin everything?'},\n",
       "  {'id': 'gqz3fc',\n",
       "   'num_comments': 1,\n",
       "   'selftext': \"As stated in the title, I recently filed to incorporate, and elected to be taxed as an S corporation in the state of New York. I am a minor, and I used bizfilings to get my paperwork through. In doing so, I elected myself to the board of directors, and made myself the President of my company. I received my corporation's state filing documents from bizfilings today, and, in reviewing them, discovered that the incorporator must be at least 18 years of age in New York. Is there any sort of penalty that myself or my family might be faced with as a result of my actions? And, if not, am I able to file a DBA to move my corporation to a state like Delaware where minors may serve as directors?\"},\n",
       "  {'id': 'gqz1zt',\n",
       "   'num_comments': 6,\n",
       "   'selftext': \"I'm hoping this won't come to legal action, but my rental company is notorious for lawsuits and being slumlords so I'm getting my bases covered.\\n\\nI'm a graduate student and have been unable to secure a summer job / income. Back in April, when it was uncertain whether I'd be able to get any job and when (not to mention if school would reopen), I contacted my landlord inquiring about early lease termination. He responded by saying there was no early termination fee due to the pandemic and that if I needed to move he only needed a date of vacancy letter. I offered to find a new tenant myself because I felt bad about having to leave, but he declined and said there was no need.\\n\\nAfter some haggling over email I managed to get it in writing.\\n\\nApril 22nd:\\n\\n&gt; *SlowCauliflower:*  \\n&gt;  \\n&gt;*You don't have to look for a replacement tenant for us, we have an army of real estate agents renting for us.  If you need to vacate your current apartment, all we requires is a 30 days notice.  I will need an intend-to-vacate letter stating your last date, name(s), address, and hand signature.*  \\n&gt;  \\n&gt;*Due to the current situation, there is no penalty for lease-break and your deposits will be return to your forwarding address.  This email serve as your receipt for this purpose.*\\n\\nI sent the intent to vacate letter on May 12th after securing cheaper housing for September. I did not receive anything back so yesterday, on the 25th, I reached out to confirm the landlord received the letter. Today he emailed me stating that I'm on the hook for all the typical early termination fees (broker, rent until lease ends or new tenant comes along).\\n\\nI responded referencing his email that states there's no fee. He responded asking for proof of job loss.\\n\\nHad I been told this would be required, I would have acted differently, but I was not made aware through our phone conversation or in writing that this is required. I'm a student and was applying for summer jobs/internships around the time shit hit the fan and furloughs, shut downs, and lay offs came rolling through. I don't have a job I lost, but I missed a few months of income I had planned on having and there is only uncertainty now about getting a new job during this time.\\n\\nIf I had to take this to court, would the original email from him stating there's no termination fee and listing no other requirements count in my favor? \\n\\ntl;dr: Landlord stated in writing there was no fee for early termination due to covid, is now backtracking and requiring things that were not discussed.\"},\n",
       "  {'id': 'gqz03o',\n",
       "   'num_comments': 0,\n",
       "   'selftext': \"I am based in the US and paying an artist located in Brazil for images. How would I go about of obtaining 'ownership' of these images (as I intend to use them in my business)? Do I need a form for him to sign, and if so where do I find it?\"},\n",
       "  {'id': 'gqyz08',\n",
       "   'num_comments': 9,\n",
       "   'selftext': 'Hey guys,\\n\\n~Firstly I’m sorry if this is the wrong place for this~\\n\\nI’m home from college right now due to covid, and staying with my family of 5. Each member has their own car (go carbon footprint \\U0001f973), and as such, theres only room for 4 in the driveway. Back when I was home, I would get stickers on my car all the time for parking on the street overnight, as its against the neighborhood parking code, but nothing would ever happen. As far as the code goes, parking cannot be done on the street or grass, and driveways cannot be extended. The solution is to park in the “community lot” located in the center of the neighborhood, however, due to the virus, this lot is closed. So, upon leaving my car on the side of the road in front of my abode, I woke in the morning to find it towed, and had to pay a hefty bill for a college student. I’d like to talk with a representative of the master’s association in the neighborhood about a reimbursement, but I’d be greatly appreciative if anybody had any knowledge of what I could come in with as far as legality of them having my car towed, or if this is in any way feasible at all.\\nThanks!'},\n",
       "  {'id': 'gqyur6',\n",
       "   'num_comments': 2,\n",
       "   'selftext': 'Shouldn’t they have a warrant before we answer any questions? Or is a phone call enough probable cause to raid the place like every police officer does it? Small border town in Texas, cops are known for violating rights since a lot of people aren’t familiar with them / don’t even speak English.'},\n",
       "  {'id': 'gqyu5i',\n",
       "   'num_comments': 3,\n",
       "   'selftext': 'I recently turned in a timecard and I was immediately told by my HR &amp; Office manager that I had not written down a lunch taken on one of the days. I worked exactly five hours that day and, according to my understanding of the CA labor laws, it states a break period must be taken at \"more than five hours worked\".\\n\\nShe stated that, via the company\\'s internal audit system, she went by a guideline of a lunch having to be taken at five or more hours worked, which is obviously distinct from what I read in the CA labor laws. I dont know much about how internal auditing works but I would expect that the guidelines for the audit would have to be consistent with CA labor laws.\\n\\nMy question would why is there a discrepancy between the CA labor laws and the internal auditing checklist of my company, is this discrepancy legal for whatever reason?'},\n",
       "  {'id': 'gqyu20',\n",
       "   'num_comments': 3,\n",
       "   'selftext': 'Hello.  I’m 31 male \\nFrom Pennsylvania. We are allowed to open carry and conceal carry with a permit.  \\nAbout 5 years ago I applied for a conceal carry permit the same day with a guy that lived with me who has a felony in Florida.  He was approved and I was denied due to the reason I was admitted to the hospital for “suicidal thoughts” when I was 14 years old.  \\nBack then they had me on all types of meds and it made everything worse.  \\nI haven’t been on any medication since 2006.  And I’m mentally stable.  \\nIs there any way to have that expunged from my record? They told me mental history doesn’t come off of your record\\nI don’t own any guns but my dad is leaving me a ton.  I don’t want them taken away if the state says I can’t have them.'},\n",
       "  {'id': 'gqyty1',\n",
       "   'num_comments': 5,\n",
       "   'selftext': 'I\\'ll explain that better: \\n\\nFor the ones who don\\'t know, a ghost-production is a 100% finished song which I produced and sold to a client who buy that to obtain 100% of the rights of that track, so it would look like he made it by himself, basically. This is a real common thing in the music industry, where people (X) pay other producers (Y) to create tracks to release under X name, without Y getting involved anymore. \\n\\nNow, things are getting quite big: I got a couple of usual clients who buy me tracks once or twice a month, plus some occasional clients which buy a track once, or do the same with other music-related services. \\n\\nSince the average price for a track goes from 1000$ to even 2000$ (it depends on some things), I\\'m earning a considerable amount of money, for which I feel I\\'ll soon come across some checks made by the financial police (if this could help, I\\'m from Italy). \\n\\nHow can I \"go legit\" with this business? What should I do?'},\n",
       "  {'id': 'gqytgj',\n",
       "   'num_comments': 3,\n",
       "   'selftext': 'I thought confidentiality meant a therapist could not share any information you tell them according to HIPPA. I told a therapist some information and now he has shared all my information aside from anything that would specifically connect that to me such as my name. But given the circumstance, it is pretty obvious to that other person that the therapist was talking about me so now my information that I thought was going to be confidential is out there. Where does this situation stand legally?'},\n",
       "  {'id': 'gqysdh',\n",
       "   'num_comments': 14,\n",
       "   'selftext': 'So I just got an email that my check was cashed about a month ago. I never received a check so I called HR. They said that they will connect me with the legal team to sign an affidavit. They said that either an email or letter will come soon. Should I do anything on my part while I wait for my check? Like call my bank? My bank statements show that I never deposited a check and I have previous check with my signature on them as proof\\n\\nI’ve never had anything to do with legal stuff so I’m scared that this will be expensive, just to get my check back. They said that it will take up to 120 days for the investigation to come to a conclusion.'},\n",
       "  {'id': 'gqyrzj',\n",
       "   'num_comments': 99,\n",
       "   'selftext': 'We live in Illinois. My son is 2.5 years old and sees his dad every other weekend from 5 pm Friday to 5 pm Sunday and every Tuesday from 9-5. His dad has been with his wife for 1 year 8 months total. Married for about 6-7 months.\\nThe conflict is that his dad is deploying in mid-June and he’ll be gone until about mid-May. He wants his wife to keep visitation with my son and I’m not comfortable with it. I don’t know her very well, my son is not old enough to tell me if he wants to see her alone or if anything is wrong, and I have told them that whenever she wants to see him, she can. I would go there or she could come here.\\nHe just told me this morning that he’s going to take me to court after he gets back from his deployment since I have said I’m uncomfortable with giving visitation at this time. I’m wondering if he has a leg to stand on and/or if I’m being unreasonable. Thank you in advance.'},\n",
       "  {'id': 'gqypbl',\n",
       "   'num_comments': 5,\n",
       "   'selftext': \"I live in Florida. Summer of 2018, my parents were going through a very nasty divorce and my dad was actually stealing mail from my mom's house, which resulted in her not receiving notice that autopay for our health insurance was turned off and they cancelled our insurance from lack of payment. Meanwhile, the endless family drama was sending me, then 22, into the beginnings of what would become life-changing depression. My mom made me appointments with a doctor and I saw her a few times. We didnt know that our insurance had lapsed. So now I'm receiving calls every day from a collections company for over a thousand dollars in unpaid medical debts. I never even got a bill or notice or anything.\\n\\nThe lady on the phone said I have no choice but to pay it. My mom said if I ignore it it will go away but hurt my credit. I'm already 32k in the hole from student loan debt from a useless masters degree and just recently was able to get a job at a restaurant. \\n\\nWhat should I do? Please help, I am totally lost here and panicking a little :(\"}]}"
      ]
     },
     "execution_count": 8,
     "metadata": {},
     "output_type": "execute_result"
    }
   ],
   "source": [
    "#assigning to new variable doesn't simply make a copy, any change to extended... is also made to submissiondata\n",
    "#extendedsubmissiondata['data'] = submissiondata['data']\n",
    "submissiondata['data'].extend(submissiondata2['data'])\n",
    "submissiondata"
   ]
  },
  {
   "cell_type": "markdown",
   "metadata": {},
   "source": [
    "determine what to filter out and how: newlines, extra spaces, quotes from other comments, moderators (comments that start with \"Your post may have been removed for the following reason(s):\")"
   ]
  },
  {
   "cell_type": "code",
   "execution_count": 33,
   "metadata": {
    "scrolled": true
   },
   "outputs": [
    {
     "data": {
      "text/plain": [
       "'Embarrassing Bonus questions, if you feel like it: If I get randomly drug tested at work (barista), can I get arrested?  If I get fired, is that going to end up in some kind of legal record that all future employers can see?'"
      ]
     },
     "execution_count": 33,
     "metadata": {},
     "output_type": "execute_result"
    }
   ],
   "source": [
    "import re\n",
    "#m = re.search('\\*Your post may have been removed for the following reason\\(s\\)\\:\\*',threadlist[48]['comments'][0])\n",
    "\n",
    "pattern_quoted = r'&gt;[\\w\\s’.?/()]*\\n\\n'\n",
    "#can delete the first word of the next sentence too, but seems like a small loss\n",
    "pattern_url = r'https://[\\w/#:?._~-]*'\n",
    "\n",
    "#pattern is probably too specific\n",
    "#will accept any number of \\n, \\n\\n&amp;#x200B;\\n\\n, and &amp;\n",
    "#pattern_spaces = r'((\\n)+(&amp;(#x200B;)?)*)+|((\\n)*(&amp;(#x200B;)?)+)+'\n",
    "pattern_spaces = r'(\\n|(&amp;(#x200B;)?)|-\\t)+'\n",
    "pattern_stars = r'\\*+'\n",
    "pattern_whitespace = r'(\\s)+'\n",
    "pattern_dashes = r'(-)+'\n",
    "\n",
    "test_comment = \"Embarrassing Bonus questions, if you feel like it:\\n\\n-\\tIf I get randomly drug tested at work (barista), can I get arrested? \\n-\\tIf I get fired, is that going to end up in some kind of legal record that all future employers can see?\"\n",
    "re.sub(pattern_spaces,' ', test_comment)\n",
    "#m = re.search(pattern_spaces, test_comment)\n",
    "#m.group()"
   ]
  },
  {
   "cell_type": "code",
   "execution_count": 29,
   "metadata": {},
   "outputs": [],
   "source": [
    "import re\n",
    "def preprocess(threadlist):\n",
    "    \n",
    "    def clean(threadlist):\n",
    "        for i in range(len(threadlist)):\n",
    "            #delete urls\n",
    "            pattern_url = r'https://[\\w/#:?._~-]*'\n",
    "            #threadlist[i]['submission'] = re.sub(pattern_url,'', threadlist[i]['submission'])\n",
    "            for j in range(len(threadlist[i])):\n",
    "                threadlist[i][j] = re.sub(pattern_url,'', threadlist[i][j])\n",
    "        \n",
    "            #replace quoted stuff, &gt;[a-zA-Z0-9?.,:;() ]\\n\\n with whitespace\n",
    "            #doesn't always have to end in \\n\\n, if it doesn't, just delete until setence ends\n",
    "            pattern_quoted = r'&gt;([\\w\\s’.?/,()]*\\n\\n|[\\w\\s’/,()]*)'\n",
    "            #threadlist[i]['submission'] = re.sub(pattern_quoted,' ', threadlist[i]['submission'])\n",
    "            for j in range(len(threadlist[i])):\n",
    "                threadlist[i][j] = re.sub(pattern_quoted,' ', threadlist[i][j])\n",
    "            \n",
    "            #replace \\n or \\n\\n&amp;#x200B;\\n\\n or \\n\\n or &amp; or \\n-\\t with white space\n",
    "            pattern_spaces = r'(\\n|(&amp;(#x200B;)?)|-\\t)+'\n",
    "            #threadlist[i]['submission'] = re.sub(pattern_spaces,' ', threadlist[i]['submission'])\n",
    "            for j in range(len(threadlist[i])):\n",
    "                threadlist[i][j] = re.sub(pattern_spaces,' ', threadlist[i][j])\n",
    "    \n",
    "            #delete stars\n",
    "            pattern_stars = r'(\\*)+'\n",
    "            #threadlist[i]['submission'] = re.sub(pattern_stars,'', threadlist[i]['submission'])\n",
    "            for j in range(len(threadlist[i])):\n",
    "                threadlist[i][j] = re.sub(pattern_stars,'', threadlist[i][j])\n",
    "           \n",
    "            #reduce all multiple whitespaces to 1\n",
    "            pattern_whitespace = r'(\\s)+'\n",
    "            #threadlist[i]['submission'] = re.sub(pattern_whitespace,' ', threadlist[i]['submission'])\n",
    "            for j in range(len(threadlist[i])):\n",
    "                threadlist[i][j] = re.sub(pattern_whitespace,' ', threadlist[i][j])\n",
    "            \n",
    "    def deleteIrrelevantComments(threadlist):\n",
    "        mod_pattern = 'Do not reach out to a moderator personally, and do not reply to this message as a comment.'\n",
    "        for i in range(len(threadlist)):\n",
    "            j = 0\n",
    "            while j < len(threadlist[i]):\n",
    "                if (threadlist[i][j]=='[removed]' or threadlist[i][j]=='[deleted]' or re.search(mod_pattern,threadlist[i][j]) != None or len(threadlist[i][j])==0):\n",
    "                    del threadlist[i][j]\n",
    "                j+=1\n",
    "    \n",
    "    deleteIrrelevantComments(threadlist)\n",
    "    clean(threadlist)"
   ]
  },
  {
   "cell_type": "code",
   "execution_count": 30,
   "metadata": {},
   "outputs": [
    {
     "name": "stdout",
     "output_type": "stream",
     "text": [
      "CPU times: user 4.13 ms, sys: 120 µs, total: 4.25 ms\n",
      "Wall time: 6.69 ms\n"
     ]
    }
   ],
   "source": [
    "%%time\n",
    "import copy\n",
    "copythreadlist = copy.deepcopy(threadlist)\n",
    "preprocess(threadlist)"
   ]
  },
  {
   "cell_type": "code",
   "execution_count": 31,
   "metadata": {},
   "outputs": [
    {
     "data": {
      "text/plain": [
       "[['In July of 2016 I was in a car accident in NH, at the time I was 16. I was under the impression that I had car insurance, however that was not the case. I came from a poor family so I didn’t have money for a lawyer so I agreed to pay an amount to both parties every month . After a few years I couldn’t do it anymore so I stopped, fully aware of the consequences. My license was suspended in the state of NH, if I were to get it back I’d need sr-22 and to pay quite a bit of money. For personal reasons I moved to Illinois and legally changed my first and middle name. I haven’t been able to drive for a while now, I miss the freedom. Is there an easy way I can get it back? Can I just get one from Illinois and no one will know? Can I get in trouble for that? What if I took driving school again and applied for a license after? Any help is greatly appreciated, thank you so much for your help!',\n",
       "  'Both IL and NH are members of the interstate license compact, so as long as NH has your license suspended you can get a new one. Pay off what you owe in NH to get the license'],\n",
       " [\"I get the sarcasm. I wasn't paying attention and I'm apologizing for it.\",\n",
       "  'I’m sure you were in a bigger hurry than they were.',\n",
       "  'No, just a middle finger from the ambulance driver'],\n",
       " [\"Not going to get into details but the police think I know a lot about activities that I don't really know about. They are asking me questions and hinting at monetary rewards. Can I lie to them by telling them I have the info they want and then giving them a bunch of nonsense. Will they wait to verify the info before compensating me? Can I go to jail for lying? I don't really care about police time, they've been borderline harassing me so If I was able to send them on a wild goose chase that would be like two birds.\",\n",
       "  'Making false statements to police for the purpose of interfering with an investigation is by itself a crime. Even civilian bounty programs like CrimeStoppers only pays out after a felony arrest. Consider the possible outcome of police and prosecutors relying on anonymous false information and a falsely arrested person pleading guilty to avoid the trial sentencing penalty. Would you rather be known in the community as a snitch, or as a person who got somebody sent to prison falsely for the reward money ? Or better... both !',\n",
       "  'Yes the police are going to verify your bullshit before offering a reward. If you want to increase the frequency of police interactions you have then go for it, otherwise this is a terrible idea.',\n",
       "  'False statements are not a good idea and usually money has to lead to arrest',\n",
       "  'sounds like fraud and obstruction of justice, but im NAL.',\n",
       "  'this is a terrible idea.'],\n",
       " [\"Hello, My wife and I bought our first house (it was a flip) and moved in last weekend. We have encountered two large issues since being here. First is that we have a main line blockage making the house basically not usable as we can't run any water for more than a minute or two without the shower flooding. We got a home warranty but they denied the claim to fix it because we don't have a ground level clean out for the main sewer line. Also, the AC is having issues as well because the flippers decided to convert the garage into more livable space and add more ducting without adding another return. They also put a 5 ton (new!) HVAC unit on the roof but the only return in the house is too small for it (I had an AC guy come out yesterday to look at it). This causes awful airflow through the house and only about half the house cools properly. The other side (where they added the new ducting) gets hardly any airflow. This makes it to where the AC will run pretty much all day and never cool the house under 84 during the day (even though the unit is blowing cold air). This overworking causes the AC unit to freeze over occasionally. The AC guy quoted my $4k to fix the ducting (not including drywall repair) and I have no idea how much this main line blockage is going to cost as it could possibly be a broken pipe. We had a home inspection done during the home buying process and neither of these issues were found. I reached out to my realtor and she recommended contacting a real estate attorney. How could this help (I assume we try to get money from the seller)? And would the costs of getting an attorney cost more than to just fix the issues?\",\n",
       "  'We have reached out to a real estate lawyer. We have had two AC people come out. Both said our return was way too small (it is 13\" when they said it should be minimum of 18\") and that ideally we should have another return on the other side of the house.',\n",
       "  'Thanks! We went through Redfin so I will ask.',\n",
       "  'We had a home inspector. Paid $300 for it. Did not find either issue.',\n",
       "  'This is what home inspections are for',\n",
       "  'You need to hire a real estate lawyer to look over contract and disclosure laws. Get a report from ac person about ducts',\n",
       "  'It seems that your problems are outside of your real estate agents realm of knowledge. If she/he worked for a reputable agency, usually have lawyers available for certain problems. They should be able to consult with you. This is part of what you pay for when paying their high commissions. Talk to your realtors supervising broker. They should know if the agencies lawyers will be able to help with your specific situation.'],\n",
       " ['I [F20] went to a party last weekend and was sexually assaulted by a guy [M21] that I was kind of aquatinted with. I had seen him around town before and we go to the same Uni (small town). I went to the PD to report it. Apparently the guy that sexually assaulted me is the son of Chief of Police. As I’m reporting this incident. He/ deputies kept trying to invalidate me, made it seem like i was making it up, etc. A chief deputy even asked me how did I feel about the police killings of black people (I’m black, the son is white btw.. not that it should matter) I told him that had nothing to do with what I was reporting. They chuckled?? They then asked if I had been drinking and I said just a little bit, not much. They said that since I’m 20 it’s illegal for me to drink and kind of threatened to suspend my license or a fine me. They ended up letting me go after letting me write a “statement”. I called to follow up this week and I haven’t gotten any calls back or spoken to ANYONE there. Can someone please tell me what I can do to help my case? I feel like I should let it go but I don’t want him to get away with what he did. It wasn’t right. I try to defend myself and I’m treated like a criminal ?? It’s so messed up. I am in the United States.',\n",
       "  'Contact a lawyer about it since he is COP you will need some good who can legally represent you'],\n",
       " ['Background: For the past 20+ years my mom has lived with her boyfriend and also worked as his employee. The have a home/office. My grandmother also lives there and is paying rent to be in the extra room where my mom can take care of her. He is the owner of the business and recently accepted the bailout/loan/government money for his business. My understanding is that by accepting that money there is a condition to not fire/layoff anyone. Recently he had an episode, the result of which was firing all of his staff including my mom. My mom is attempting to collect unemployment but has no proof that she is unemployed now as he is refusing to provide documentation. Initially he was seeking to \"cut a deal\" with her where he pays her off the books in cash and does not charge her rent to stay there in exchange for her not filing. I believe he has defaulted on the terms on the government money and is trying to avoid having to give it back. Recently he has been saying that he will give her the paperwork to file but he still needs her to do her job as she runs an area of the company he is unequipped to do himself. As they have been in a relationship for 20+ years, he has always been successful in convincing my mom whats best for him is also good for her. My mom does not know her rights in the situation and has so far denied advice to seek legal help as she is afraid of the cost. I believe she is also afraid that by involving a legal entity could cause him to erupt. He is known to have a temper. I am trying to convince my mom to not pursue an \"off the record\" solution as I believe she has the legal high ground here and might lose it if she puts herself in a legally questionable situation. Any advice would be appreciated.',\n",
       "  \"If she does any work for him, he needs to pay her or it's fraud and the state Unemployment office will have a lot of questions. Tell her to file with what information she has, and expect to be contacted by the state unemployment office for more information. If he refuses to provide paperwork to them, he's just setting himself up for more problems. Her UI might be delayed, but she should be able to work around his shenanigans.\"],\n",
       " ['So my Dad and I had a falling out and he refuses to return my motorcycle or encloses trailer. It\\'s irreparable and I prefer it this way. I was storing my race motorcycle and trailer there and wasn\\'t in a hurry to collect it because I don\\'t have the space to store it. But I recently found out that he\\'s been using my trailer without consent or notice. I did have it locked up so he must have cut the lock and chain. The ownerships for both are on my name but address is where it is stored. I\\'m currently changing the ownerships to reflect my home address and am in possession of them. 1) Is there a way I can put a \"stop use\" on the trailer so he can be pulled over if he\\'s stopped with it? 2) I plan to call my local police department to help facilitate me collecting both motorcycle and trailer. Is there anything I need to specifically ask for? 3) There is also a slight possibility that he has moved the motorcycle and trailer to his farm property or cottage. What should I do if I show up and these aren\\'t there anymore? 4) He also has my racing equipment and items that I have receipts for. But some things I don\\'t (ie: spare set of rims and motorcycle parts and gear). Will I be able to collect these too or will I be limited to what I have proof of ownership of. My brother has also recently been hired as police constable as well. He says he doesn\\'t want to be involved but I\\'m pretty sure he\\'s been present when they make their cottage trips using my trailer. My Dad is very aggressive and I don\\'t want to knock on the door and THEN call. I\\'ve asked for these things many times and he\\'s refuses to deliver them and threatened to charge me with trespassing if I walk into the premises.'],\n",
       " [\"My girlfriend recently got into her first car accident while at work, but it was with her boss' car. The accident requires roughly $3500 in repairs to the other car involved but my gf boss doesn't have the right insurance and so they won't pay for anything. My girlfriend has insurance but they won't cover it because it is only for her own car obviously. So the $3500 is supposed to come out of someone's pocket which doesn't make sense to me to begin with. Her boss wants my girlfriend to pay for it and even fired her within the same week. She used some business terms to make it sound like it was a business decision but it was definitely because of the accident, it just wasn't the same after it occurred according to my gf. Is there any advice I can get to help her out? I don't think she should be paying out of pocket for the whole $3500 like her boss wants because if she had the right insurance, it would've been covered, that's on her in my eyes. Edit: I forgot to add I live in Iowa, in the United States.\",\n",
       "  'NAL, but did this accident occur while she was working for said boss? If so, it should be the businesses responsibility to carry proper insurance. I would think that your gf has 0 responsibility to cover any non malicious dmg.',\n",
       "  'The \"right kind of insurance\"... Was she performing work duties in a car insured for personal use only? Question: If she was performing work duties, then does the accident fall under vicarious liability?',\n",
       "  \"Insurance adjuster here. Both insurance companies owe you denial letter explaining why they are denying your claim. Typically insurance follows the vehicle, so if the owner's insurance denied it, you were right to go to the driver's insurance. The driver's insurance will want a copy of your denial letter from the owner's insurance. Ask them to review coverage again and get their response in writing. If the driver's insurance is still unable to assist, then it is highly likely that your girlfriend is on the hook for the cost of repairs.\",\n",
       "  'If your girlfriend had the “right” insurance, it would have covered it too. You can appeal both insurance companies’ decision but your girlfriend wrecked the car and it’s her responsibility here.'],\n",
       " [\"I apologize for having such a specific question, but for over 8 months since being stationed in Japan I have walked past an abandoned sports car thats just sitting in a parking stucture on base. There is a thick layer of dust on it and it sucks to see because it's a dream car of mine. I have talked to many others who say they have tried to contact the previous owner with no success and who claim weird ways to take ownership of it but have yet to do it. Unfortunately from the limited information I've been able to get for Japanese abandoned car/property law and abandoned car laws for military installations it doesn't look too promising, which is quite a shame being what kind of car it is. Is there anything that can be done? Or am I forced to see a classic Japanese car rot?\"],\n",
       " [\"I work remotely (in Oregon) for a company that is headquartered in NJ. Most full-time employees receive 2 to 3 weeks' vacation per year. According to our company handbook, time that is not used in one year may be carried over to the first quarter of the following year -- if not used by that point, it is lost. You can also elect to be paid for unused vacation time. As part of the Covid crisis, my employer recently sent an email saying that all caryover vacation and cash payouts have been cancelled. Is there any kind of workplace law that covers this? Vacation is notoriously hard to schedule -- we are chronically understaffed and work in a client-focused industry where we often have to cancel or reschedule vacation time at the last minute to accommodate some client demand. I always end up with carry-over vacation because it's so hard to use before the end of the year, and I'm concerned that I'm going to end up losing a lot of PTO.\",\n",
       "  'Yes, thanks to at-will employment, you are legally allowed to quit at any time.']]"
      ]
     },
     "execution_count": 31,
     "metadata": {},
     "output_type": "execute_result"
    }
   ],
   "source": [
    "threadlist"
   ]
  },
  {
   "cell_type": "markdown",
   "metadata": {},
   "source": [
    "request ~5000 submissions"
   ]
  },
  {
   "cell_type": "code",
   "execution_count": 78,
   "metadata": {},
   "outputs": [
    {
     "data": {
      "text/plain": [
       "{'aggs': {'created_utc': [{'doc_count': 43837, 'key': 1585324800},\n",
       "   {'doc_count': 55200, 'key': 1585328400},\n",
       "   {'doc_count': 56027, 'key': 1585332000},\n",
       "   {'doc_count': 54476, 'key': 1585335600},\n",
       "   {'doc_count': 54545, 'key': 1585339200},\n",
       "   {'doc_count': 54462, 'key': 1585342800},\n",
       "   {'doc_count': 49773, 'key': 1585346400},\n",
       "   {'doc_count': 49272, 'key': 1585350000},\n",
       "   {'doc_count': 45993, 'key': 1585353600},\n",
       "   {'doc_count': 43998, 'key': 1585357200},\n",
       "   {'doc_count': 40958, 'key': 1585360800},\n",
       "   {'doc_count': 38828, 'key': 1585364400},\n",
       "   {'doc_count': 36888, 'key': 1585368000},\n",
       "   {'doc_count': 33337, 'key': 1585371600},\n",
       "   {'doc_count': 31432, 'key': 1585375200},\n",
       "   {'doc_count': 29586, 'key': 1585378800},\n",
       "   {'doc_count': 27700, 'key': 1585382400},\n",
       "   {'doc_count': 28612, 'key': 1585386000},\n",
       "   {'doc_count': 34133, 'key': 1585389600},\n",
       "   {'doc_count': 33910, 'key': 1585393200},\n",
       "   {'doc_count': 37758, 'key': 1585396800},\n",
       "   {'doc_count': 41030, 'key': 1585400400},\n",
       "   {'doc_count': 46402, 'key': 1585404000},\n",
       "   {'doc_count': 49069, 'key': 1585407600},\n",
       "   {'doc_count': 9883, 'key': 1585411200}]},\n",
       " 'data': []}"
      ]
     },
     "execution_count": 78,
     "metadata": {},
     "output_type": "execute_result"
    }
   ],
   "source": [
    "#how many posts are made a day? about 1000000 per day, 30000-50000 per hour\n",
    "r = requests.get('https://api.pushshift.io/reddit/search/submission/?before=90d&after=91d&aggs=created_utc&frequency=hour&size=0')\n",
    "json.loads(r.text)"
   ]
  },
  {
   "cell_type": "code",
   "execution_count": 93,
   "metadata": {},
   "outputs": [],
   "source": [
    "def addSample(submissionlist, size, before, after):\n",
    "    payload = {'fields': ['id','selftext', 'num_comments'],\n",
    "             'subreddit':'legaladvice', \n",
    "             'size': str(size),\n",
    "             'mod_removed':'false',\n",
    "             'before':str(before)+'d',\n",
    "             'after':str(after)+'d'}\n",
    "    sample = makeRequest('https://api.pushshift.io/reddit/search/submission/', payload)\n",
    "    submissionlist['data'].extend(sample['data'])\n",
    "    return submissionlist"
   ]
  },
  {
   "cell_type": "code",
   "execution_count": 39,
   "metadata": {},
   "outputs": [],
   "source": [
    "import os\n",
    "#threadlist[i] = {'submission': \"\", 'comments':[]}\n",
    "def makeTextFiles(threadlist, nextStartNum):\n",
    "    dir_name = '/Users/soumyadugg/reddit_topic_modeling/legal_advice_files'\n",
    "    \n",
    "    for i in range(len(threadlist)):\n",
    "        file = os.path.join(dir_name, 'doc'+ str(nextStartNum+i)+'.txt')\n",
    "        f = open(file,'w')\n",
    "        \n",
    "        #should already be edited\n",
    "        for j in range(len(threadlist[i])):\n",
    "            f.write(' ' + threadlist[i][j])\n",
    "        \n",
    "        f.close()"
   ]
  },
  {
   "cell_type": "code",
   "execution_count": 40,
   "metadata": {},
   "outputs": [],
   "source": [
    "makeTextFiles(threadlist,0)"
   ]
  },
  {
   "cell_type": "code",
   "execution_count": null,
   "metadata": {},
   "outputs": [],
   "source": [
    "#take 5 samples each size = 1000 and a couple months separated, pre-Covid\n",
    "submissiondata = {'data':[]}\n",
    "submissiondata = addSample(submissiondata,1000,540,541)\n",
    "submissiondata = addSample(submissiondata,1000,480,481)\n",
    "submissiondata = addSample(submissiondata,1000,420,421)\n",
    "submissiondata = addSample(submissiondata,1000,360,361)\n",
    "submissiondata = addSample(submissiondata,1000,300,301)\n",
    "threadlist = makeThreadList(submissiondata['data'])\n",
    "preprocess(threadlist)"
   ]
  },
  {
   "cell_type": "markdown",
   "metadata": {},
   "source": [
    "My previous way of doing things didn't work because making a big list of jsons takes up too much memory. Next method is to add 100 textfiles at a time to the folder, repeating in a loop"
   ]
  }
 ],
 "metadata": {
  "kernelspec": {
   "display_name": "Python 3",
   "language": "python",
   "name": "python3"
  },
  "language_info": {
   "codemirror_mode": {
    "name": "ipython",
    "version": 3
   },
   "file_extension": ".py",
   "mimetype": "text/x-python",
   "name": "python",
   "nbconvert_exporter": "python",
   "pygments_lexer": "ipython3",
   "version": "3.6.7"
  }
 },
 "nbformat": 4,
 "nbformat_minor": 2
}
